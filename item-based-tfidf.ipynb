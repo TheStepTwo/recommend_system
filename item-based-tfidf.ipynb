{
 "cells": [
  {
   "cell_type": "markdown",
   "metadata": {
    "slideshow": {
     "slide_type": "slide"
    }
   },
   "source": [
    "# This is newest csv, already data processed."
   ]
  },
  {
   "cell_type": "code",
   "execution_count": 9,
   "metadata": {},
   "outputs": [
    {
     "data": {
      "text/html": [
       "<div>\n",
       "<style scoped>\n",
       "    .dataframe tbody tr th:only-of-type {\n",
       "        vertical-align: middle;\n",
       "    }\n",
       "\n",
       "    .dataframe tbody tr th {\n",
       "        vertical-align: top;\n",
       "    }\n",
       "\n",
       "    .dataframe thead th {\n",
       "        text-align: right;\n",
       "    }\n",
       "</style>\n",
       "<table border=\"1\" class=\"dataframe\">\n",
       "  <thead>\n",
       "    <tr style=\"text-align: right;\">\n",
       "      <th></th>\n",
       "      <th>Unnamed: 0</th>\n",
       "      <th>productId</th>\n",
       "      <th>name</th>\n",
       "      <th>catIds</th>\n",
       "      <th>cat1</th>\n",
       "      <th>cat1_name</th>\n",
       "      <th>cat2</th>\n",
       "      <th>cat2_name</th>\n",
       "      <th>cat3</th>\n",
       "      <th>cat3_name</th>\n",
       "    </tr>\n",
       "  </thead>\n",
       "  <tbody>\n",
       "    <tr>\n",
       "      <th>378071</th>\n",
       "      <td>378071</td>\n",
       "      <td>378071</td>\n",
       "      <td>金辉 16K-114页PU皮笔记本 JH-16124 (颜色随机)</td>\n",
       "      <td>1057,1016,895</td>\n",
       "      <td>1057</td>\n",
       "      <td>电脑/办公</td>\n",
       "      <td>1016</td>\n",
       "      <td>办公用品/文具/文化用品</td>\n",
       "      <td>895.0</td>\n",
       "      <td>更多纸张本册</td>\n",
       "    </tr>\n",
       "    <tr>\n",
       "      <th>43075</th>\n",
       "      <td>43075</td>\n",
       "      <td>43075</td>\n",
       "      <td>直言教育</td>\n",
       "      <td>832,1101,374</td>\n",
       "      <td>832</td>\n",
       "      <td>图书音像</td>\n",
       "      <td>1101</td>\n",
       "      <td>少儿/教育图书</td>\n",
       "      <td>374.0</td>\n",
       "      <td>中小学教辅</td>\n",
       "    </tr>\n",
       "    <tr>\n",
       "      <th>143453</th>\n",
       "      <td>143453</td>\n",
       "      <td>143453</td>\n",
       "      <td>全析精解:物理化学(高教????第4版)</td>\n",
       "      <td>832,1101,1116</td>\n",
       "      <td>832</td>\n",
       "      <td>图书音像</td>\n",
       "      <td>1101</td>\n",
       "      <td>少儿/教育图书</td>\n",
       "      <td>1116.0</td>\n",
       "      <td>考试</td>\n",
       "    </tr>\n",
       "    <tr>\n",
       "      <th>432402</th>\n",
       "      <td>432402</td>\n",
       "      <td>432402</td>\n",
       "      <td>电脑组装与维护(附光盘)/轻松学电脑开机即会</td>\n",
       "      <td>832,1096,43</td>\n",
       "      <td>832</td>\n",
       "      <td>图书音像</td>\n",
       "      <td>1096</td>\n",
       "      <td>科技类图书</td>\n",
       "      <td>43.0</td>\n",
       "      <td>计算机/网络</td>\n",
       "    </tr>\n",
       "    <tr>\n",
       "      <th>58363</th>\n",
       "      <td>58363</td>\n",
       "      <td>58363</td>\n",
       "      <td>京华\"四大棋王\"名局荟萃</td>\n",
       "      <td>832,665,253</td>\n",
       "      <td>832</td>\n",
       "      <td>图书音像</td>\n",
       "      <td>665</td>\n",
       "      <td>生活类图书</td>\n",
       "      <td>253.0</td>\n",
       "      <td>体育/运动</td>\n",
       "    </tr>\n",
       "    <tr>\n",
       "      <th>472345</th>\n",
       "      <td>472345</td>\n",
       "      <td>472345</td>\n",
       "      <td>西北航线</td>\n",
       "      <td>832,519,1</td>\n",
       "      <td>832</td>\n",
       "      <td>图书音像</td>\n",
       "      <td>519</td>\n",
       "      <td>文学艺术</td>\n",
       "      <td>1.0</td>\n",
       "      <td>小说</td>\n",
       "    </tr>\n",
       "    <tr>\n",
       "      <th>160646</th>\n",
       "      <td>160646</td>\n",
       "      <td>160646</td>\n",
       "      <td>新世纪全国高等院校艺术设计专业十二五重点规划教材:字体设计</td>\n",
       "      <td>832,1101,379</td>\n",
       "      <td>832</td>\n",
       "      <td>图书音像</td>\n",
       "      <td>1101</td>\n",
       "      <td>少儿/教育图书</td>\n",
       "      <td>379.0</td>\n",
       "      <td>教材</td>\n",
       "    </tr>\n",
       "    <tr>\n",
       "      <th>31558</th>\n",
       "      <td>31558</td>\n",
       "      <td>31558</td>\n",
       "      <td>我是匠人</td>\n",
       "      <td>832,1101,1086</td>\n",
       "      <td>832</td>\n",
       "      <td>图书音像</td>\n",
       "      <td>1101</td>\n",
       "      <td>少儿/教育图书</td>\n",
       "      <td>1086.0</td>\n",
       "      <td>少儿</td>\n",
       "    </tr>\n",
       "    <tr>\n",
       "      <th>182501</th>\n",
       "      <td>182501</td>\n",
       "      <td>182501</td>\n",
       "      <td>语文教学参考书(基础模块)(下册)(附光盘1张)</td>\n",
       "      <td>832,1101,1116</td>\n",
       "      <td>832</td>\n",
       "      <td>图书音像</td>\n",
       "      <td>1101</td>\n",
       "      <td>少儿/教育图书</td>\n",
       "      <td>1116.0</td>\n",
       "      <td>考试</td>\n",
       "    </tr>\n",
       "    <tr>\n",
       "      <th>492419</th>\n",
       "      <td>492419</td>\n",
       "      <td>492419</td>\n",
       "      <td>JOCKEY 居可衣 女式 粘纤3/4杯时尚尼龙文胸 J1102701</td>\n",
       "      <td>802,1100,405</td>\n",
       "      <td>802</td>\n",
       "      <td>服饰服装</td>\n",
       "      <td>1100</td>\n",
       "      <td>内衣/家居服</td>\n",
       "      <td>405.0</td>\n",
       "      <td>内衣配件</td>\n",
       "    </tr>\n",
       "  </tbody>\n",
       "</table>\n",
       "</div>"
      ],
      "text/plain": [
       "        Unnamed: 0  productId                                 name  \\\n",
       "378071      378071     378071    金辉 16K-114页PU皮笔记本 JH-16124 (颜色随机)   \n",
       "43075        43075      43075                                 直言教育   \n",
       "143453      143453     143453                 全析精解:物理化学(高教????第4版)   \n",
       "432402      432402     432402               电脑组装与维护(附光盘)/轻松学电脑开机即会   \n",
       "58363        58363      58363                         京华\"四大棋王\"名局荟萃   \n",
       "472345      472345     472345                                 西北航线   \n",
       "160646      160646     160646        新世纪全国高等院校艺术设计专业十二五重点规划教材:字体设计   \n",
       "31558        31558      31558                                 我是匠人   \n",
       "182501      182501     182501             语文教学参考书(基础模块)(下册)(附光盘1张)   \n",
       "492419      492419     492419  JOCKEY 居可衣 女式 粘纤3/4杯时尚尼龙文胸 J1102701   \n",
       "\n",
       "               catIds  cat1 cat1_name  cat2     cat2_name    cat3 cat3_name  \n",
       "378071  1057,1016,895  1057     电脑/办公  1016  办公用品/文具/文化用品   895.0    更多纸张本册  \n",
       "43075    832,1101,374   832      图书音像  1101       少儿/教育图书   374.0     中小学教辅  \n",
       "143453  832,1101,1116   832      图书音像  1101       少儿/教育图书  1116.0        考试  \n",
       "432402    832,1096,43   832      图书音像  1096         科技类图书    43.0    计算机/网络  \n",
       "58363     832,665,253   832      图书音像   665         生活类图书   253.0     体育/运动  \n",
       "472345      832,519,1   832      图书音像   519          文学艺术     1.0        小说  \n",
       "160646   832,1101,379   832      图书音像  1101       少儿/教育图书   379.0        教材  \n",
       "31558   832,1101,1086   832      图书音像  1101       少儿/教育图书  1086.0        少儿  \n",
       "182501  832,1101,1116   832      图书音像  1101       少儿/教育图书  1116.0        考试  \n",
       "492419   802,1100,405   802      服饰服装  1100        内衣/家居服   405.0      内衣配件  "
      ]
     },
     "execution_count": 9,
     "metadata": {},
     "output_type": "execute_result"
    }
   ],
   "source": [
    "import pandas as pd\n",
    "\n",
    "# products = pd.read_csv('./products.csv')\n",
    "products = pd.read_csv('./products_join_categories.csv')\n",
    "products.sample(10)"
   ]
  },
  {
   "cell_type": "code",
   "execution_count": 10,
   "metadata": {
    "slideshow": {
     "slide_type": "slide"
    }
   },
   "outputs": [],
   "source": [
    "# chunksize = 500000\n",
    "# col_names =  ['userId', 'productId', 'rating']\n",
    "# final  = pd.DataFrame(columns = col_names)\n",
    "# totalRows = 0\n",
    "# for chunk in pd.read_csv('D:/step/ratings.csv', chunksize=chunksize):\n",
    "#     del chunk['timestamp']\n",
    "#     del chunk['comment']\n",
    "#     del chunk['title']\n",
    "#     final = pd.concat([final,chunk])\n",
    "#     totalRows+=chunk.shape[0]\n",
    "#     print(\"processing the first \" + str(totalRows) + \" rows\" )\n",
    "    \n",
    "# print(\"Origin TotalRow is totalRows \" + str(totalRows) )\n",
    "# print( \"After process , the totalRow is \" + str(final.shape[0]) )\n",
    "# final.head()\n",
    "# final.to_csv('D:/step/ratings_drop.csv', encoding=\"utf_8_sig\")"
   ]
  },
  {
   "cell_type": "code",
   "execution_count": 11,
   "metadata": {},
   "outputs": [
    {
     "name": "stdout",
     "output_type": "stream",
     "text": [
      "Category types：1175\n"
     ]
    }
   ],
   "source": [
    "categories = pd.read_csv( './categories.csv')\n",
    "\n",
    "print('Category types：%d' % categories.shape[0])\n",
    "categories.set_index('catId', inplace=True)"
   ]
  },
  {
   "cell_type": "markdown",
   "metadata": {},
   "source": [
    "# Data processing, generate categories column. "
   ]
  },
  {
   "cell_type": "code",
   "execution_count": 12,
   "metadata": {},
   "outputs": [],
   "source": [
    "# for idr, row in products.iterrows():\n",
    "#     split = row['catIds'].split(\",\") \n",
    "#     for i in range(len(split)):\n",
    "#         products.at[idr, 'cat'+str(i+1)] = split[i]\n",
    "#         products.at[idr, 'cat'+str(i+1)+'_name'] = categories.loc[int(split[i])]['category']\n",
    "\n",
    "# products.to_csv('./products_join_categories.csv', encoding=\"utf_8_sig\")\n",
    "# products.head(10)"
   ]
  },
  {
   "cell_type": "code",
   "execution_count": 13,
   "metadata": {},
   "outputs": [
    {
     "name": "stdout",
     "output_type": "stream",
     "text": [
      "Product count: 525619\n",
      "Null in cat1: 0\n",
      "Null in cat2: 0\n",
      "Null in cat3: 1202\n"
     ]
    }
   ],
   "source": [
    "print(\"Product count: %d\" % products.shape[0])\n",
    "print(\"Null in cat1: %d\" % products['cat1'].isnull().sum())\n",
    "print(\"Null in cat2: %d\" % products['cat2'].isnull().sum())\n",
    "print(\"Null in cat3: %d\" % products['cat3'].isnull().sum())"
   ]
  },
  {
   "cell_type": "markdown",
   "metadata": {},
   "source": [
    "# Sort category one desc, find most category"
   ]
  },
  {
   "cell_type": "code",
   "execution_count": 14,
   "metadata": {},
   "outputs": [
    {
     "data": {
      "text/plain": [
       "<matplotlib.axes._subplots.AxesSubplot at 0x1a24577588>"
      ]
     },
     "execution_count": 14,
     "metadata": {},
     "output_type": "execute_result"
    },
    {
     "data": {
      "text/plain": [
       "Text(0.5, 1.0, 'cat1 distrubuted')"
      ]
     },
     "execution_count": 14,
     "metadata": {},
     "output_type": "execute_result"
    },
    {
     "data": {
      "text/plain": [
       "Text(0, 0.5, 'count')"
      ]
     },
     "execution_count": 14,
     "metadata": {},
     "output_type": "execute_result"
    },
    {
     "data": {
      "text/plain": [
       "Text(0.5, 0, 'cat1')"
      ]
     },
     "execution_count": 14,
     "metadata": {},
     "output_type": "execute_result"
    },
    {
     "name": "stderr",
     "output_type": "stream",
     "text": [
      "findfont: Font family ['sans-serif'] not found. Falling back to DejaVu Sans.\n",
      "findfont: Font family ['sans-serif'] not found. Falling back to DejaVu Sans.\n",
      "/Users/kim/anaconda2/envs/py36/lib/python3.6/site-packages/matplotlib/backends/backend_agg.py:211: RuntimeWarning:\n",
      "\n",
      "Glyph 22270 missing from current font.\n",
      "\n",
      "/Users/kim/anaconda2/envs/py36/lib/python3.6/site-packages/matplotlib/backends/backend_agg.py:211: RuntimeWarning:\n",
      "\n",
      "Glyph 20070 missing from current font.\n",
      "\n",
      "/Users/kim/anaconda2/envs/py36/lib/python3.6/site-packages/matplotlib/backends/backend_agg.py:211: RuntimeWarning:\n",
      "\n",
      "Glyph 38899 missing from current font.\n",
      "\n",
      "/Users/kim/anaconda2/envs/py36/lib/python3.6/site-packages/matplotlib/backends/backend_agg.py:211: RuntimeWarning:\n",
      "\n",
      "Glyph 20687 missing from current font.\n",
      "\n",
      "/Users/kim/anaconda2/envs/py36/lib/python3.6/site-packages/matplotlib/backends/backend_agg.py:211: RuntimeWarning:\n",
      "\n",
      "Glyph 30005 missing from current font.\n",
      "\n",
      "/Users/kim/anaconda2/envs/py36/lib/python3.6/site-packages/matplotlib/backends/backend_agg.py:211: RuntimeWarning:\n",
      "\n",
      "Glyph 33041 missing from current font.\n",
      "\n",
      "/Users/kim/anaconda2/envs/py36/lib/python3.6/site-packages/matplotlib/backends/backend_agg.py:211: RuntimeWarning:\n",
      "\n",
      "Glyph 21150 missing from current font.\n",
      "\n",
      "/Users/kim/anaconda2/envs/py36/lib/python3.6/site-packages/matplotlib/backends/backend_agg.py:211: RuntimeWarning:\n",
      "\n",
      "Glyph 20844 missing from current font.\n",
      "\n",
      "/Users/kim/anaconda2/envs/py36/lib/python3.6/site-packages/matplotlib/backends/backend_agg.py:211: RuntimeWarning:\n",
      "\n",
      "Glyph 26381 missing from current font.\n",
      "\n",
      "/Users/kim/anaconda2/envs/py36/lib/python3.6/site-packages/matplotlib/backends/backend_agg.py:211: RuntimeWarning:\n",
      "\n",
      "Glyph 39280 missing from current font.\n",
      "\n",
      "/Users/kim/anaconda2/envs/py36/lib/python3.6/site-packages/matplotlib/backends/backend_agg.py:211: RuntimeWarning:\n",
      "\n",
      "Glyph 35013 missing from current font.\n",
      "\n",
      "/Users/kim/anaconda2/envs/py36/lib/python3.6/site-packages/matplotlib/backends/backend_agg.py:211: RuntimeWarning:\n",
      "\n",
      "Glyph 36816 missing from current font.\n",
      "\n",
      "/Users/kim/anaconda2/envs/py36/lib/python3.6/site-packages/matplotlib/backends/backend_agg.py:211: RuntimeWarning:\n",
      "\n",
      "Glyph 21160 missing from current font.\n",
      "\n",
      "/Users/kim/anaconda2/envs/py36/lib/python3.6/site-packages/matplotlib/backends/backend_agg.py:211: RuntimeWarning:\n",
      "\n",
      "Glyph 25143 missing from current font.\n",
      "\n",
      "/Users/kim/anaconda2/envs/py36/lib/python3.6/site-packages/matplotlib/backends/backend_agg.py:211: RuntimeWarning:\n",
      "\n",
      "Glyph 22806 missing from current font.\n",
      "\n",
      "/Users/kim/anaconda2/envs/py36/lib/python3.6/site-packages/matplotlib/backends/backend_agg.py:211: RuntimeWarning:\n",
      "\n",
      "Glyph 38795 missing from current font.\n",
      "\n",
      "/Users/kim/anaconda2/envs/py36/lib/python3.6/site-packages/matplotlib/backends/backend_agg.py:211: RuntimeWarning:\n",
      "\n",
      "Glyph 31867 missing from current font.\n",
      "\n",
      "/Users/kim/anaconda2/envs/py36/lib/python3.6/site-packages/matplotlib/backends/backend_agg.py:211: RuntimeWarning:\n",
      "\n",
      "Glyph 31665 missing from current font.\n",
      "\n",
      "/Users/kim/anaconda2/envs/py36/lib/python3.6/site-packages/matplotlib/backends/backend_agg.py:211: RuntimeWarning:\n",
      "\n",
      "Glyph 21253 missing from current font.\n",
      "\n",
      "/Users/kim/anaconda2/envs/py36/lib/python3.6/site-packages/matplotlib/backends/backend_agg.py:211: RuntimeWarning:\n",
      "\n",
      "Glyph 23478 missing from current font.\n",
      "\n",
      "/Users/kim/anaconda2/envs/py36/lib/python3.6/site-packages/matplotlib/backends/backend_agg.py:211: RuntimeWarning:\n",
      "\n",
      "Glyph 23621 missing from current font.\n",
      "\n",
      "/Users/kim/anaconda2/envs/py36/lib/python3.6/site-packages/matplotlib/backends/backend_agg.py:211: RuntimeWarning:\n",
      "\n",
      "Glyph 29983 missing from current font.\n",
      "\n",
      "/Users/kim/anaconda2/envs/py36/lib/python3.6/site-packages/matplotlib/backends/backend_agg.py:211: RuntimeWarning:\n",
      "\n",
      "Glyph 27963 missing from current font.\n",
      "\n",
      "/Users/kim/anaconda2/envs/py36/lib/python3.6/site-packages/matplotlib/backends/backend_agg.py:211: RuntimeWarning:\n",
      "\n",
      "Glyph 25163 missing from current font.\n",
      "\n",
      "/Users/kim/anaconda2/envs/py36/lib/python3.6/site-packages/matplotlib/backends/backend_agg.py:211: RuntimeWarning:\n",
      "\n",
      "Glyph 26426 missing from current font.\n",
      "\n",
      "/Users/kim/anaconda2/envs/py36/lib/python3.6/site-packages/matplotlib/backends/backend_agg.py:211: RuntimeWarning:\n",
      "\n",
      "Glyph 25968 missing from current font.\n",
      "\n",
      "/Users/kim/anaconda2/envs/py36/lib/python3.6/site-packages/matplotlib/backends/backend_agg.py:211: RuntimeWarning:\n",
      "\n",
      "Glyph 30721 missing from current font.\n",
      "\n",
      "/Users/kim/anaconda2/envs/py36/lib/python3.6/site-packages/matplotlib/backends/backend_agg.py:211: RuntimeWarning:\n",
      "\n",
      "Glyph 27597 missing from current font.\n",
      "\n",
      "/Users/kim/anaconda2/envs/py36/lib/python3.6/site-packages/matplotlib/backends/backend_agg.py:211: RuntimeWarning:\n",
      "\n",
      "Glyph 23156 missing from current font.\n",
      "\n",
      "/Users/kim/anaconda2/envs/py36/lib/python3.6/site-packages/matplotlib/backends/backend_agg.py:211: RuntimeWarning:\n",
      "\n",
      "Glyph 29609 missing from current font.\n",
      "\n",
      "/Users/kim/anaconda2/envs/py36/lib/python3.6/site-packages/matplotlib/backends/backend_agg.py:211: RuntimeWarning:\n",
      "\n",
      "Glyph 20855 missing from current font.\n",
      "\n",
      "/Users/kim/anaconda2/envs/py36/lib/python3.6/site-packages/matplotlib/backends/backend_agg.py:211: RuntimeWarning:\n",
      "\n",
      "Glyph 32654 missing from current font.\n",
      "\n",
      "/Users/kim/anaconda2/envs/py36/lib/python3.6/site-packages/matplotlib/backends/backend_agg.py:211: RuntimeWarning:\n",
      "\n",
      "Glyph 22918 missing from current font.\n",
      "\n",
      "/Users/kim/anaconda2/envs/py36/lib/python3.6/site-packages/matplotlib/backends/backend_agg.py:211: RuntimeWarning:\n",
      "\n",
      "Glyph 20010 missing from current font.\n",
      "\n",
      "/Users/kim/anaconda2/envs/py36/lib/python3.6/site-packages/matplotlib/backends/backend_agg.py:211: RuntimeWarning:\n",
      "\n",
      "Glyph 25252 missing from current font.\n",
      "\n",
      "/Users/kim/anaconda2/envs/py36/lib/python3.6/site-packages/matplotlib/backends/backend_agg.py:211: RuntimeWarning:\n",
      "\n",
      "Glyph 20854 missing from current font.\n",
      "\n",
      "/Users/kim/anaconda2/envs/py36/lib/python3.6/site-packages/matplotlib/backends/backend_agg.py:211: RuntimeWarning:\n",
      "\n",
      "Glyph 20182 missing from current font.\n",
      "\n",
      "/Users/kim/anaconda2/envs/py36/lib/python3.6/site-packages/matplotlib/backends/backend_agg.py:211: RuntimeWarning:\n",
      "\n",
      "Glyph 38047 missing from current font.\n",
      "\n",
      "/Users/kim/anaconda2/envs/py36/lib/python3.6/site-packages/matplotlib/backends/backend_agg.py:211: RuntimeWarning:\n",
      "\n",
      "Glyph 34920 missing from current font.\n",
      "\n",
      "/Users/kim/anaconda2/envs/py36/lib/python3.6/site-packages/matplotlib/backends/backend_agg.py:211: RuntimeWarning:\n",
      "\n",
      "Glyph 39318 missing from current font.\n",
      "\n",
      "/Users/kim/anaconda2/envs/py36/lib/python3.6/site-packages/matplotlib/backends/backend_agg.py:211: RuntimeWarning:\n",
      "\n",
      "Glyph 30524 missing from current font.\n",
      "\n",
      "/Users/kim/anaconda2/envs/py36/lib/python3.6/site-packages/matplotlib/backends/backend_agg.py:211: RuntimeWarning:\n",
      "\n",
      "Glyph 38236 missing from current font.\n",
      "\n",
      "/Users/kim/anaconda2/envs/py36/lib/python3.6/site-packages/matplotlib/backends/backend_agg.py:211: RuntimeWarning:\n",
      "\n",
      "Glyph 31036 missing from current font.\n",
      "\n",
      "/Users/kim/anaconda2/envs/py36/lib/python3.6/site-packages/matplotlib/backends/backend_agg.py:211: RuntimeWarning:\n",
      "\n",
      "Glyph 21697 missing from current font.\n",
      "\n",
      "/Users/kim/anaconda2/envs/py36/lib/python3.6/site-packages/matplotlib/backends/backend_agg.py:211: RuntimeWarning:\n",
      "\n",
      "Glyph 24314 missing from current font.\n",
      "\n",
      "/Users/kim/anaconda2/envs/py36/lib/python3.6/site-packages/matplotlib/backends/backend_agg.py:211: RuntimeWarning:\n",
      "\n",
      "Glyph 26448 missing from current font.\n",
      "\n",
      "/Users/kim/anaconda2/envs/py36/lib/python3.6/site-packages/matplotlib/backends/backend_agg.py:211: RuntimeWarning:\n",
      "\n",
      "Glyph 29992 missing from current font.\n",
      "\n",
      "/Users/kim/anaconda2/envs/py36/lib/python3.6/site-packages/matplotlib/backends/backend_agg.py:211: RuntimeWarning:\n",
      "\n",
      "Glyph 22120 missing from current font.\n",
      "\n",
      "/Users/kim/anaconda2/envs/py36/lib/python3.6/site-packages/matplotlib/backends/backend_agg.py:211: RuntimeWarning:\n",
      "\n",
      "Glyph 39135 missing from current font.\n",
      "\n",
      "/Users/kim/anaconda2/envs/py36/lib/python3.6/site-packages/matplotlib/backends/backend_agg.py:211: RuntimeWarning:\n",
      "\n",
      "Glyph 20445 missing from current font.\n",
      "\n",
      "/Users/kim/anaconda2/envs/py36/lib/python3.6/site-packages/matplotlib/backends/backend_agg.py:211: RuntimeWarning:\n",
      "\n",
      "Glyph 20581 missing from current font.\n",
      "\n",
      "/Users/kim/anaconda2/envs/py36/lib/python3.6/site-packages/matplotlib/backends/backend_agg.py:211: RuntimeWarning:\n",
      "\n",
      "Glyph 31080 missing from current font.\n",
      "\n",
      "/Users/kim/anaconda2/envs/py36/lib/python3.6/site-packages/matplotlib/backends/backend_agg.py:211: RuntimeWarning:\n",
      "\n",
      "Glyph 20805 missing from current font.\n",
      "\n",
      "/Users/kim/anaconda2/envs/py36/lib/python3.6/site-packages/matplotlib/backends/backend_agg.py:211: RuntimeWarning:\n",
      "\n",
      "Glyph 20540 missing from current font.\n",
      "\n",
      "/Users/kim/anaconda2/envs/py36/lib/python3.6/site-packages/matplotlib/backends/backend_agg.py:211: RuntimeWarning:\n",
      "\n",
      "Glyph 21153 missing from current font.\n",
      "\n",
      "/Users/kim/anaconda2/envs/py36/lib/python3.6/site-packages/matplotlib/backends/backend_agg.py:211: RuntimeWarning:\n",
      "\n",
      "Glyph 34394 missing from current font.\n",
      "\n",
      "/Users/kim/anaconda2/envs/py36/lib/python3.6/site-packages/matplotlib/backends/backend_agg.py:211: RuntimeWarning:\n",
      "\n",
      "Glyph 25311 missing from current font.\n",
      "\n",
      "/Users/kim/anaconda2/envs/py36/lib/python3.6/site-packages/matplotlib/backends/backend_agg.py:180: RuntimeWarning:\n",
      "\n",
      "Glyph 22270 missing from current font.\n",
      "\n",
      "/Users/kim/anaconda2/envs/py36/lib/python3.6/site-packages/matplotlib/backends/backend_agg.py:180: RuntimeWarning:\n",
      "\n",
      "Glyph 20070 missing from current font.\n",
      "\n",
      "/Users/kim/anaconda2/envs/py36/lib/python3.6/site-packages/matplotlib/backends/backend_agg.py:180: RuntimeWarning:\n",
      "\n",
      "Glyph 38899 missing from current font.\n",
      "\n",
      "/Users/kim/anaconda2/envs/py36/lib/python3.6/site-packages/matplotlib/backends/backend_agg.py:180: RuntimeWarning:\n",
      "\n",
      "Glyph 20687 missing from current font.\n",
      "\n",
      "/Users/kim/anaconda2/envs/py36/lib/python3.6/site-packages/matplotlib/backends/backend_agg.py:180: RuntimeWarning:\n",
      "\n",
      "Glyph 30005 missing from current font.\n",
      "\n",
      "/Users/kim/anaconda2/envs/py36/lib/python3.6/site-packages/matplotlib/backends/backend_agg.py:180: RuntimeWarning:\n",
      "\n",
      "Glyph 33041 missing from current font.\n",
      "\n",
      "/Users/kim/anaconda2/envs/py36/lib/python3.6/site-packages/matplotlib/backends/backend_agg.py:180: RuntimeWarning:\n",
      "\n",
      "Glyph 21150 missing from current font.\n",
      "\n",
      "/Users/kim/anaconda2/envs/py36/lib/python3.6/site-packages/matplotlib/backends/backend_agg.py:180: RuntimeWarning:\n",
      "\n",
      "Glyph 20844 missing from current font.\n",
      "\n",
      "/Users/kim/anaconda2/envs/py36/lib/python3.6/site-packages/matplotlib/backends/backend_agg.py:180: RuntimeWarning:\n",
      "\n",
      "Glyph 26381 missing from current font.\n",
      "\n",
      "/Users/kim/anaconda2/envs/py36/lib/python3.6/site-packages/matplotlib/backends/backend_agg.py:180: RuntimeWarning:\n",
      "\n",
      "Glyph 39280 missing from current font.\n",
      "\n",
      "/Users/kim/anaconda2/envs/py36/lib/python3.6/site-packages/matplotlib/backends/backend_agg.py:180: RuntimeWarning:\n",
      "\n",
      "Glyph 35013 missing from current font.\n",
      "\n",
      "/Users/kim/anaconda2/envs/py36/lib/python3.6/site-packages/matplotlib/backends/backend_agg.py:180: RuntimeWarning:\n",
      "\n",
      "Glyph 36816 missing from current font.\n",
      "\n",
      "/Users/kim/anaconda2/envs/py36/lib/python3.6/site-packages/matplotlib/backends/backend_agg.py:180: RuntimeWarning:\n",
      "\n",
      "Glyph 21160 missing from current font.\n",
      "\n",
      "/Users/kim/anaconda2/envs/py36/lib/python3.6/site-packages/matplotlib/backends/backend_agg.py:180: RuntimeWarning:\n",
      "\n",
      "Glyph 25143 missing from current font.\n",
      "\n",
      "/Users/kim/anaconda2/envs/py36/lib/python3.6/site-packages/matplotlib/backends/backend_agg.py:180: RuntimeWarning:\n",
      "\n",
      "Glyph 22806 missing from current font.\n",
      "\n",
      "/Users/kim/anaconda2/envs/py36/lib/python3.6/site-packages/matplotlib/backends/backend_agg.py:180: RuntimeWarning:\n",
      "\n",
      "Glyph 38795 missing from current font.\n",
      "\n",
      "/Users/kim/anaconda2/envs/py36/lib/python3.6/site-packages/matplotlib/backends/backend_agg.py:180: RuntimeWarning:\n",
      "\n",
      "Glyph 31867 missing from current font.\n",
      "\n",
      "/Users/kim/anaconda2/envs/py36/lib/python3.6/site-packages/matplotlib/backends/backend_agg.py:180: RuntimeWarning:\n",
      "\n",
      "Glyph 31665 missing from current font.\n",
      "\n",
      "/Users/kim/anaconda2/envs/py36/lib/python3.6/site-packages/matplotlib/backends/backend_agg.py:180: RuntimeWarning:\n",
      "\n",
      "Glyph 21253 missing from current font.\n",
      "\n",
      "/Users/kim/anaconda2/envs/py36/lib/python3.6/site-packages/matplotlib/backends/backend_agg.py:180: RuntimeWarning:\n",
      "\n",
      "Glyph 23478 missing from current font.\n",
      "\n",
      "/Users/kim/anaconda2/envs/py36/lib/python3.6/site-packages/matplotlib/backends/backend_agg.py:180: RuntimeWarning:\n",
      "\n",
      "Glyph 23621 missing from current font.\n",
      "\n",
      "/Users/kim/anaconda2/envs/py36/lib/python3.6/site-packages/matplotlib/backends/backend_agg.py:180: RuntimeWarning:\n",
      "\n",
      "Glyph 29983 missing from current font.\n",
      "\n",
      "/Users/kim/anaconda2/envs/py36/lib/python3.6/site-packages/matplotlib/backends/backend_agg.py:180: RuntimeWarning:\n",
      "\n",
      "Glyph 27963 missing from current font.\n",
      "\n",
      "/Users/kim/anaconda2/envs/py36/lib/python3.6/site-packages/matplotlib/backends/backend_agg.py:180: RuntimeWarning:\n",
      "\n",
      "Glyph 25163 missing from current font.\n",
      "\n",
      "/Users/kim/anaconda2/envs/py36/lib/python3.6/site-packages/matplotlib/backends/backend_agg.py:180: RuntimeWarning:\n",
      "\n",
      "Glyph 26426 missing from current font.\n",
      "\n",
      "/Users/kim/anaconda2/envs/py36/lib/python3.6/site-packages/matplotlib/backends/backend_agg.py:180: RuntimeWarning:\n",
      "\n",
      "Glyph 25968 missing from current font.\n",
      "\n",
      "/Users/kim/anaconda2/envs/py36/lib/python3.6/site-packages/matplotlib/backends/backend_agg.py:180: RuntimeWarning:\n",
      "\n",
      "Glyph 30721 missing from current font.\n",
      "\n",
      "/Users/kim/anaconda2/envs/py36/lib/python3.6/site-packages/matplotlib/backends/backend_agg.py:180: RuntimeWarning:\n",
      "\n",
      "Glyph 27597 missing from current font.\n",
      "\n",
      "/Users/kim/anaconda2/envs/py36/lib/python3.6/site-packages/matplotlib/backends/backend_agg.py:180: RuntimeWarning:\n",
      "\n",
      "Glyph 23156 missing from current font.\n",
      "\n",
      "/Users/kim/anaconda2/envs/py36/lib/python3.6/site-packages/matplotlib/backends/backend_agg.py:180: RuntimeWarning:\n",
      "\n",
      "Glyph 29609 missing from current font.\n",
      "\n",
      "/Users/kim/anaconda2/envs/py36/lib/python3.6/site-packages/matplotlib/backends/backend_agg.py:180: RuntimeWarning:\n",
      "\n",
      "Glyph 20855 missing from current font.\n",
      "\n",
      "/Users/kim/anaconda2/envs/py36/lib/python3.6/site-packages/matplotlib/backends/backend_agg.py:180: RuntimeWarning:\n",
      "\n",
      "Glyph 32654 missing from current font.\n",
      "\n",
      "/Users/kim/anaconda2/envs/py36/lib/python3.6/site-packages/matplotlib/backends/backend_agg.py:180: RuntimeWarning:\n",
      "\n",
      "Glyph 22918 missing from current font.\n",
      "\n",
      "/Users/kim/anaconda2/envs/py36/lib/python3.6/site-packages/matplotlib/backends/backend_agg.py:180: RuntimeWarning:\n",
      "\n",
      "Glyph 20010 missing from current font.\n",
      "\n",
      "/Users/kim/anaconda2/envs/py36/lib/python3.6/site-packages/matplotlib/backends/backend_agg.py:180: RuntimeWarning:\n",
      "\n",
      "Glyph 25252 missing from current font.\n",
      "\n",
      "/Users/kim/anaconda2/envs/py36/lib/python3.6/site-packages/matplotlib/backends/backend_agg.py:180: RuntimeWarning:\n",
      "\n",
      "Glyph 20854 missing from current font.\n",
      "\n",
      "/Users/kim/anaconda2/envs/py36/lib/python3.6/site-packages/matplotlib/backends/backend_agg.py:180: RuntimeWarning:\n",
      "\n",
      "Glyph 20182 missing from current font.\n",
      "\n",
      "/Users/kim/anaconda2/envs/py36/lib/python3.6/site-packages/matplotlib/backends/backend_agg.py:180: RuntimeWarning:\n",
      "\n",
      "Glyph 38047 missing from current font.\n",
      "\n",
      "/Users/kim/anaconda2/envs/py36/lib/python3.6/site-packages/matplotlib/backends/backend_agg.py:180: RuntimeWarning:\n",
      "\n",
      "Glyph 34920 missing from current font.\n",
      "\n",
      "/Users/kim/anaconda2/envs/py36/lib/python3.6/site-packages/matplotlib/backends/backend_agg.py:180: RuntimeWarning:\n",
      "\n",
      "Glyph 39318 missing from current font.\n",
      "\n",
      "/Users/kim/anaconda2/envs/py36/lib/python3.6/site-packages/matplotlib/backends/backend_agg.py:180: RuntimeWarning:\n",
      "\n",
      "Glyph 30524 missing from current font.\n",
      "\n",
      "/Users/kim/anaconda2/envs/py36/lib/python3.6/site-packages/matplotlib/backends/backend_agg.py:180: RuntimeWarning:\n",
      "\n",
      "Glyph 38236 missing from current font.\n",
      "\n",
      "/Users/kim/anaconda2/envs/py36/lib/python3.6/site-packages/matplotlib/backends/backend_agg.py:180: RuntimeWarning:\n",
      "\n",
      "Glyph 31036 missing from current font.\n",
      "\n",
      "/Users/kim/anaconda2/envs/py36/lib/python3.6/site-packages/matplotlib/backends/backend_agg.py:180: RuntimeWarning:\n",
      "\n",
      "Glyph 21697 missing from current font.\n",
      "\n",
      "/Users/kim/anaconda2/envs/py36/lib/python3.6/site-packages/matplotlib/backends/backend_agg.py:180: RuntimeWarning:\n",
      "\n",
      "Glyph 24314 missing from current font.\n",
      "\n",
      "/Users/kim/anaconda2/envs/py36/lib/python3.6/site-packages/matplotlib/backends/backend_agg.py:180: RuntimeWarning:\n",
      "\n",
      "Glyph 26448 missing from current font.\n",
      "\n",
      "/Users/kim/anaconda2/envs/py36/lib/python3.6/site-packages/matplotlib/backends/backend_agg.py:180: RuntimeWarning:\n",
      "\n",
      "Glyph 29992 missing from current font.\n",
      "\n",
      "/Users/kim/anaconda2/envs/py36/lib/python3.6/site-packages/matplotlib/backends/backend_agg.py:180: RuntimeWarning:\n",
      "\n",
      "Glyph 22120 missing from current font.\n",
      "\n",
      "/Users/kim/anaconda2/envs/py36/lib/python3.6/site-packages/matplotlib/backends/backend_agg.py:180: RuntimeWarning:\n",
      "\n",
      "Glyph 39135 missing from current font.\n",
      "\n",
      "/Users/kim/anaconda2/envs/py36/lib/python3.6/site-packages/matplotlib/backends/backend_agg.py:180: RuntimeWarning:\n",
      "\n",
      "Glyph 20445 missing from current font.\n",
      "\n",
      "/Users/kim/anaconda2/envs/py36/lib/python3.6/site-packages/matplotlib/backends/backend_agg.py:180: RuntimeWarning:\n",
      "\n",
      "Glyph 20581 missing from current font.\n",
      "\n",
      "/Users/kim/anaconda2/envs/py36/lib/python3.6/site-packages/matplotlib/backends/backend_agg.py:180: RuntimeWarning:\n",
      "\n",
      "Glyph 31080 missing from current font.\n",
      "\n",
      "/Users/kim/anaconda2/envs/py36/lib/python3.6/site-packages/matplotlib/backends/backend_agg.py:180: RuntimeWarning:\n",
      "\n",
      "Glyph 20805 missing from current font.\n",
      "\n",
      "/Users/kim/anaconda2/envs/py36/lib/python3.6/site-packages/matplotlib/backends/backend_agg.py:180: RuntimeWarning:\n",
      "\n",
      "Glyph 20540 missing from current font.\n",
      "\n",
      "/Users/kim/anaconda2/envs/py36/lib/python3.6/site-packages/matplotlib/backends/backend_agg.py:180: RuntimeWarning:\n",
      "\n",
      "Glyph 21153 missing from current font.\n",
      "\n",
      "/Users/kim/anaconda2/envs/py36/lib/python3.6/site-packages/matplotlib/backends/backend_agg.py:180: RuntimeWarning:\n",
      "\n",
      "Glyph 34394 missing from current font.\n",
      "\n",
      "/Users/kim/anaconda2/envs/py36/lib/python3.6/site-packages/matplotlib/backends/backend_agg.py:180: RuntimeWarning:\n",
      "\n",
      "Glyph 25311 missing from current font.\n",
      "\n",
      "findfont: Font family ['sans-serif'] not found. Falling back to DejaVu Sans.\n"
     ]
    },
    {
     "data": {
      "image/png": "[encoded data removed]",
      "text/plain": [
       "<Figure size 576x360 with 1 Axes>"
      ]
     },
     "metadata": {
      "needs_background": "light"
     },
     "output_type": "display_data"
    }
   ],
   "source": [
    "import matplotlib.pyplot as plt\n",
    "\n",
    "plt.rcParams['font.sans-serif'] = ['SimHei']  \n",
    "plt.rcParams['axes.unicode_minus'] = False\n",
    "\n",
    "d = {'cat1':products['cat1_name'].value_counts().index, 'count': products['cat1'].value_counts()}\n",
    "df_cat1 = pd.DataFrame(data=d).reset_index(drop=True)\n",
    "\n",
    "df_cat1.plot(x='cat1', y='count', kind='bar', legend=False,  figsize=(8, 5))\n",
    "plt.title(\"cat1 distrubuted\")\n",
    "plt.ylabel('count', fontsize=18)\n",
    "plt.xlabel('cat1', fontsize=18)"
   ]
  },
  {
   "cell_type": "markdown",
   "metadata": {},
   "source": [
    "# Sort category two desc, find most category"
   ]
  },
  {
   "cell_type": "code",
   "execution_count": 15,
   "metadata": {},
   "outputs": [
    {
     "data": {
      "text/plain": [
       "<matplotlib.axes._subplots.AxesSubplot at 0x1a247c8748>"
      ]
     },
     "execution_count": 15,
     "metadata": {},
     "output_type": "execute_result"
    },
    {
     "data": {
      "text/plain": [
       "Text(0.5, 1.0, 'cat2 distrubuted')"
      ]
     },
     "execution_count": 15,
     "metadata": {},
     "output_type": "execute_result"
    },
    {
     "data": {
      "text/plain": [
       "Text(0, 0.5, 'count')"
      ]
     },
     "execution_count": 15,
     "metadata": {},
     "output_type": "execute_result"
    },
    {
     "data": {
      "text/plain": [
       "Text(0.5, 0, 'cat2')"
      ]
     },
     "execution_count": 15,
     "metadata": {},
     "output_type": "execute_result"
    },
    {
     "name": "stderr",
     "output_type": "stream",
     "text": [
      "/Users/kim/anaconda2/envs/py36/lib/python3.6/site-packages/matplotlib/backends/backend_agg.py:211: RuntimeWarning:\n",
      "\n",
      "Glyph 23569 missing from current font.\n",
      "\n",
      "/Users/kim/anaconda2/envs/py36/lib/python3.6/site-packages/matplotlib/backends/backend_agg.py:211: RuntimeWarning:\n",
      "\n",
      "Glyph 20799 missing from current font.\n",
      "\n",
      "/Users/kim/anaconda2/envs/py36/lib/python3.6/site-packages/matplotlib/backends/backend_agg.py:211: RuntimeWarning:\n",
      "\n",
      "Glyph 25945 missing from current font.\n",
      "\n",
      "/Users/kim/anaconda2/envs/py36/lib/python3.6/site-packages/matplotlib/backends/backend_agg.py:211: RuntimeWarning:\n",
      "\n",
      "Glyph 32946 missing from current font.\n",
      "\n",
      "/Users/kim/anaconda2/envs/py36/lib/python3.6/site-packages/matplotlib/backends/backend_agg.py:211: RuntimeWarning:\n",
      "\n",
      "Glyph 20154 missing from current font.\n",
      "\n",
      "/Users/kim/anaconda2/envs/py36/lib/python3.6/site-packages/matplotlib/backends/backend_agg.py:211: RuntimeWarning:\n",
      "\n",
      "Glyph 25991 missing from current font.\n",
      "\n",
      "/Users/kim/anaconda2/envs/py36/lib/python3.6/site-packages/matplotlib/backends/backend_agg.py:211: RuntimeWarning:\n",
      "\n",
      "Glyph 31038 missing from current font.\n",
      "\n",
      "/Users/kim/anaconda2/envs/py36/lib/python3.6/site-packages/matplotlib/backends/backend_agg.py:211: RuntimeWarning:\n",
      "\n",
      "Glyph 31185 missing from current font.\n",
      "\n",
      "/Users/kim/anaconda2/envs/py36/lib/python3.6/site-packages/matplotlib/backends/backend_agg.py:211: RuntimeWarning:\n",
      "\n",
      "Glyph 23398 missing from current font.\n",
      "\n",
      "/Users/kim/anaconda2/envs/py36/lib/python3.6/site-packages/matplotlib/backends/backend_agg.py:211: RuntimeWarning:\n",
      "\n",
      "Glyph 33402 missing from current font.\n",
      "\n",
      "/Users/kim/anaconda2/envs/py36/lib/python3.6/site-packages/matplotlib/backends/backend_agg.py:211: RuntimeWarning:\n",
      "\n",
      "Glyph 26415 missing from current font.\n",
      "\n",
      "/Users/kim/anaconda2/envs/py36/lib/python3.6/site-packages/matplotlib/backends/backend_agg.py:211: RuntimeWarning:\n",
      "\n",
      "Glyph 25216 missing from current font.\n",
      "\n",
      "/Users/kim/anaconda2/envs/py36/lib/python3.6/site-packages/matplotlib/backends/backend_agg.py:211: RuntimeWarning:\n",
      "\n",
      "Glyph 32463 missing from current font.\n",
      "\n",
      "/Users/kim/anaconda2/envs/py36/lib/python3.6/site-packages/matplotlib/backends/backend_agg.py:211: RuntimeWarning:\n",
      "\n",
      "Glyph 31649 missing from current font.\n",
      "\n",
      "/Users/kim/anaconda2/envs/py36/lib/python3.6/site-packages/matplotlib/backends/backend_agg.py:211: RuntimeWarning:\n",
      "\n",
      "Glyph 23427 missing from current font.\n",
      "\n",
      "/Users/kim/anaconda2/envs/py36/lib/python3.6/site-packages/matplotlib/backends/backend_agg.py:211: RuntimeWarning:\n",
      "\n",
      "Glyph 30007 missing from current font.\n",
      "\n",
      "/Users/kim/anaconda2/envs/py36/lib/python3.6/site-packages/matplotlib/backends/backend_agg.py:211: RuntimeWarning:\n",
      "\n",
      "Glyph 22791 missing from current font.\n",
      "\n",
      "/Users/kim/anaconda2/envs/py36/lib/python3.6/site-packages/matplotlib/backends/backend_agg.py:211: RuntimeWarning:\n",
      "\n",
      "Glyph 22899 missing from current font.\n",
      "\n",
      "/Users/kim/anaconda2/envs/py36/lib/python3.6/site-packages/matplotlib/backends/backend_agg.py:211: RuntimeWarning:\n",
      "\n",
      "Glyph 21416 missing from current font.\n",
      "\n",
      "/Users/kim/anaconda2/envs/py36/lib/python3.6/site-packages/matplotlib/backends/backend_agg.py:211: RuntimeWarning:\n",
      "\n",
      "Glyph 25151 missing from current font.\n",
      "\n",
      "/Users/kim/anaconda2/envs/py36/lib/python3.6/site-packages/matplotlib/backends/backend_agg.py:211: RuntimeWarning:\n",
      "\n",
      "Glyph 39184 missing from current font.\n",
      "\n",
      "/Users/kim/anaconda2/envs/py36/lib/python3.6/site-packages/matplotlib/backends/backend_agg.py:211: RuntimeWarning:\n",
      "\n",
      "Glyph 35774 missing from current font.\n",
      "\n",
      "/Users/kim/anaconda2/envs/py36/lib/python3.6/site-packages/matplotlib/backends/backend_agg.py:211: RuntimeWarning:\n",
      "\n",
      "Glyph 20135 missing from current font.\n",
      "\n",
      "/Users/kim/anaconda2/envs/py36/lib/python3.6/site-packages/matplotlib/backends/backend_agg.py:211: RuntimeWarning:\n",
      "\n",
      "Glyph 21270 missing from current font.\n",
      "\n",
      "/Users/kim/anaconda2/envs/py36/lib/python3.6/site-packages/matplotlib/backends/backend_agg.py:180: RuntimeWarning:\n",
      "\n",
      "Glyph 23569 missing from current font.\n",
      "\n",
      "/Users/kim/anaconda2/envs/py36/lib/python3.6/site-packages/matplotlib/backends/backend_agg.py:180: RuntimeWarning:\n",
      "\n",
      "Glyph 20799 missing from current font.\n",
      "\n",
      "/Users/kim/anaconda2/envs/py36/lib/python3.6/site-packages/matplotlib/backends/backend_agg.py:180: RuntimeWarning:\n",
      "\n",
      "Glyph 25945 missing from current font.\n",
      "\n",
      "/Users/kim/anaconda2/envs/py36/lib/python3.6/site-packages/matplotlib/backends/backend_agg.py:180: RuntimeWarning:\n",
      "\n",
      "Glyph 32946 missing from current font.\n",
      "\n",
      "/Users/kim/anaconda2/envs/py36/lib/python3.6/site-packages/matplotlib/backends/backend_agg.py:180: RuntimeWarning:\n",
      "\n",
      "Glyph 20154 missing from current font.\n",
      "\n",
      "/Users/kim/anaconda2/envs/py36/lib/python3.6/site-packages/matplotlib/backends/backend_agg.py:180: RuntimeWarning:\n",
      "\n",
      "Glyph 25991 missing from current font.\n",
      "\n",
      "/Users/kim/anaconda2/envs/py36/lib/python3.6/site-packages/matplotlib/backends/backend_agg.py:180: RuntimeWarning:\n",
      "\n",
      "Glyph 31038 missing from current font.\n",
      "\n",
      "/Users/kim/anaconda2/envs/py36/lib/python3.6/site-packages/matplotlib/backends/backend_agg.py:180: RuntimeWarning:\n",
      "\n",
      "Glyph 31185 missing from current font.\n",
      "\n",
      "/Users/kim/anaconda2/envs/py36/lib/python3.6/site-packages/matplotlib/backends/backend_agg.py:180: RuntimeWarning:\n",
      "\n",
      "Glyph 23398 missing from current font.\n",
      "\n",
      "/Users/kim/anaconda2/envs/py36/lib/python3.6/site-packages/matplotlib/backends/backend_agg.py:180: RuntimeWarning:\n",
      "\n",
      "Glyph 33402 missing from current font.\n",
      "\n",
      "/Users/kim/anaconda2/envs/py36/lib/python3.6/site-packages/matplotlib/backends/backend_agg.py:180: RuntimeWarning:\n",
      "\n",
      "Glyph 26415 missing from current font.\n",
      "\n",
      "/Users/kim/anaconda2/envs/py36/lib/python3.6/site-packages/matplotlib/backends/backend_agg.py:180: RuntimeWarning:\n",
      "\n",
      "Glyph 25216 missing from current font.\n",
      "\n",
      "/Users/kim/anaconda2/envs/py36/lib/python3.6/site-packages/matplotlib/backends/backend_agg.py:180: RuntimeWarning:\n",
      "\n",
      "Glyph 32463 missing from current font.\n",
      "\n",
      "/Users/kim/anaconda2/envs/py36/lib/python3.6/site-packages/matplotlib/backends/backend_agg.py:180: RuntimeWarning:\n",
      "\n",
      "Glyph 31649 missing from current font.\n",
      "\n",
      "/Users/kim/anaconda2/envs/py36/lib/python3.6/site-packages/matplotlib/backends/backend_agg.py:180: RuntimeWarning:\n",
      "\n",
      "Glyph 23427 missing from current font.\n",
      "\n",
      "/Users/kim/anaconda2/envs/py36/lib/python3.6/site-packages/matplotlib/backends/backend_agg.py:180: RuntimeWarning:\n",
      "\n",
      "Glyph 30007 missing from current font.\n",
      "\n",
      "/Users/kim/anaconda2/envs/py36/lib/python3.6/site-packages/matplotlib/backends/backend_agg.py:180: RuntimeWarning:\n",
      "\n",
      "Glyph 22791 missing from current font.\n",
      "\n",
      "/Users/kim/anaconda2/envs/py36/lib/python3.6/site-packages/matplotlib/backends/backend_agg.py:180: RuntimeWarning:\n",
      "\n",
      "Glyph 22899 missing from current font.\n",
      "\n",
      "/Users/kim/anaconda2/envs/py36/lib/python3.6/site-packages/matplotlib/backends/backend_agg.py:180: RuntimeWarning:\n",
      "\n",
      "Glyph 21416 missing from current font.\n",
      "\n",
      "/Users/kim/anaconda2/envs/py36/lib/python3.6/site-packages/matplotlib/backends/backend_agg.py:180: RuntimeWarning:\n",
      "\n",
      "Glyph 25151 missing from current font.\n",
      "\n",
      "/Users/kim/anaconda2/envs/py36/lib/python3.6/site-packages/matplotlib/backends/backend_agg.py:180: RuntimeWarning:\n",
      "\n",
      "Glyph 39184 missing from current font.\n",
      "\n",
      "/Users/kim/anaconda2/envs/py36/lib/python3.6/site-packages/matplotlib/backends/backend_agg.py:180: RuntimeWarning:\n",
      "\n",
      "Glyph 35774 missing from current font.\n",
      "\n",
      "/Users/kim/anaconda2/envs/py36/lib/python3.6/site-packages/matplotlib/backends/backend_agg.py:180: RuntimeWarning:\n",
      "\n",
      "Glyph 20135 missing from current font.\n",
      "\n",
      "/Users/kim/anaconda2/envs/py36/lib/python3.6/site-packages/matplotlib/backends/backend_agg.py:180: RuntimeWarning:\n",
      "\n",
      "Glyph 21270 missing from current font.\n",
      "\n"
     ]
    },
    {
     "data": {
      "image/png": "[encoded data removed]",
      "text/plain": [
       "<Figure size 576x360 with 1 Axes>"
      ]
     },
     "metadata": {
      "needs_background": "light"
     },
     "output_type": "display_data"
    }
   ],
   "source": [
    "d = {'cat2':products['cat2_name'].value_counts().index, 'count': products['cat2'].value_counts()}\n",
    "df_cat2 = pd.DataFrame(data=d).reset_index(drop=True)\n",
    "df_cat2 = df_cat2.sort_values(by=\"count\",ascending= False).head(15)\n",
    "\n",
    "df_cat2.plot(x='cat2', y='count', kind='bar', legend=False,  figsize=(8, 5))\n",
    "plt.title(\"cat2 distrubuted\")\n",
    "plt.ylabel('count', fontsize=18)\n",
    "plt.xlabel('cat2', fontsize=18)"
   ]
  },
  {
   "cell_type": "markdown",
   "metadata": {},
   "source": [
    "# Sort category one desc, find most category"
   ]
  },
  {
   "cell_type": "code",
   "execution_count": 16,
   "metadata": {},
   "outputs": [
    {
     "data": {
      "text/plain": [
       "<matplotlib.axes._subplots.AxesSubplot at 0x1a24f0e3c8>"
      ]
     },
     "execution_count": 16,
     "metadata": {},
     "output_type": "execute_result"
    },
    {
     "data": {
      "text/plain": [
       "Text(0.5, 1.0, 'cat3 分布')"
      ]
     },
     "execution_count": 16,
     "metadata": {},
     "output_type": "execute_result"
    },
    {
     "data": {
      "text/plain": [
       "Text(0, 0.5, 'count')"
      ]
     },
     "execution_count": 16,
     "metadata": {},
     "output_type": "execute_result"
    },
    {
     "data": {
      "text/plain": [
       "Text(0.5, 0, 'cat3')"
      ]
     },
     "execution_count": 16,
     "metadata": {},
     "output_type": "execute_result"
    },
    {
     "name": "stderr",
     "output_type": "stream",
     "text": [
      "/Users/kim/anaconda2/envs/py36/lib/python3.6/site-packages/matplotlib/backends/backend_agg.py:211: RuntimeWarning:\n",
      "\n",
      "Glyph 20998 missing from current font.\n",
      "\n",
      "/Users/kim/anaconda2/envs/py36/lib/python3.6/site-packages/matplotlib/backends/backend_agg.py:211: RuntimeWarning:\n",
      "\n",
      "Glyph 24067 missing from current font.\n",
      "\n",
      "/Users/kim/anaconda2/envs/py36/lib/python3.6/site-packages/matplotlib/backends/backend_agg.py:211: RuntimeWarning:\n",
      "\n",
      "Glyph 32771 missing from current font.\n",
      "\n",
      "/Users/kim/anaconda2/envs/py36/lib/python3.6/site-packages/matplotlib/backends/backend_agg.py:211: RuntimeWarning:\n",
      "\n",
      "Glyph 35797 missing from current font.\n",
      "\n",
      "/Users/kim/anaconda2/envs/py36/lib/python3.6/site-packages/matplotlib/backends/backend_agg.py:211: RuntimeWarning:\n",
      "\n",
      "Glyph 25919 missing from current font.\n",
      "\n",
      "/Users/kim/anaconda2/envs/py36/lib/python3.6/site-packages/matplotlib/backends/backend_agg.py:211: RuntimeWarning:\n",
      "\n",
      "Glyph 27835 missing from current font.\n",
      "\n",
      "/Users/kim/anaconda2/envs/py36/lib/python3.6/site-packages/matplotlib/backends/backend_agg.py:211: RuntimeWarning:\n",
      "\n",
      "Glyph 20891 missing from current font.\n",
      "\n",
      "/Users/kim/anaconda2/envs/py36/lib/python3.6/site-packages/matplotlib/backends/backend_agg.py:211: RuntimeWarning:\n",
      "\n",
      "Glyph 20107 missing from current font.\n",
      "\n",
      "/Users/kim/anaconda2/envs/py36/lib/python3.6/site-packages/matplotlib/backends/backend_agg.py:211: RuntimeWarning:\n",
      "\n",
      "Glyph 23567 missing from current font.\n",
      "\n",
      "/Users/kim/anaconda2/envs/py36/lib/python3.6/site-packages/matplotlib/backends/backend_agg.py:211: RuntimeWarning:\n",
      "\n",
      "Glyph 35828 missing from current font.\n",
      "\n",
      "/Users/kim/anaconda2/envs/py36/lib/python3.6/site-packages/matplotlib/backends/backend_agg.py:211: RuntimeWarning:\n",
      "\n",
      "Glyph 35745 missing from current font.\n",
      "\n",
      "/Users/kim/anaconda2/envs/py36/lib/python3.6/site-packages/matplotlib/backends/backend_agg.py:211: RuntimeWarning:\n",
      "\n",
      "Glyph 31639 missing from current font.\n",
      "\n",
      "/Users/kim/anaconda2/envs/py36/lib/python3.6/site-packages/matplotlib/backends/backend_agg.py:211: RuntimeWarning:\n",
      "\n",
      "Glyph 32593 missing from current font.\n",
      "\n",
      "/Users/kim/anaconda2/envs/py36/lib/python3.6/site-packages/matplotlib/backends/backend_agg.py:211: RuntimeWarning:\n",
      "\n",
      "Glyph 32476 missing from current font.\n",
      "\n",
      "/Users/kim/anaconda2/envs/py36/lib/python3.6/site-packages/matplotlib/backends/backend_agg.py:211: RuntimeWarning:\n",
      "\n",
      "Glyph 20013 missing from current font.\n",
      "\n",
      "/Users/kim/anaconda2/envs/py36/lib/python3.6/site-packages/matplotlib/backends/backend_agg.py:211: RuntimeWarning:\n",
      "\n",
      "Glyph 36741 missing from current font.\n",
      "\n",
      "/Users/kim/anaconda2/envs/py36/lib/python3.6/site-packages/matplotlib/backends/backend_agg.py:211: RuntimeWarning:\n",
      "\n",
      "Glyph 35821 missing from current font.\n",
      "\n",
      "/Users/kim/anaconda2/envs/py36/lib/python3.6/site-packages/matplotlib/backends/backend_agg.py:211: RuntimeWarning:\n",
      "\n",
      "Glyph 36827 missing from current font.\n",
      "\n",
      "/Users/kim/anaconda2/envs/py36/lib/python3.6/site-packages/matplotlib/backends/backend_agg.py:211: RuntimeWarning:\n",
      "\n",
      "Glyph 21475 missing from current font.\n",
      "\n",
      "/Users/kim/anaconda2/envs/py36/lib/python3.6/site-packages/matplotlib/backends/backend_agg.py:211: RuntimeWarning:\n",
      "\n",
      "Glyph 24037 missing from current font.\n",
      "\n",
      "/Users/kim/anaconda2/envs/py36/lib/python3.6/site-packages/matplotlib/backends/backend_agg.py:211: RuntimeWarning:\n",
      "\n",
      "Glyph 19994 missing from current font.\n",
      "\n",
      "/Users/kim/anaconda2/envs/py36/lib/python3.6/site-packages/matplotlib/backends/backend_agg.py:211: RuntimeWarning:\n",
      "\n",
      "Glyph 29702 missing from current font.\n",
      "\n",
      "/Users/kim/anaconda2/envs/py36/lib/python3.6/site-packages/matplotlib/backends/backend_agg.py:211: RuntimeWarning:\n",
      "\n",
      "Glyph 25104 missing from current font.\n",
      "\n",
      "/Users/kim/anaconda2/envs/py36/lib/python3.6/site-packages/matplotlib/backends/backend_agg.py:211: RuntimeWarning:\n",
      "\n",
      "Glyph 21151 missing from current font.\n",
      "\n",
      "/Users/kim/anaconda2/envs/py36/lib/python3.6/site-packages/matplotlib/backends/backend_agg.py:211: RuntimeWarning:\n",
      "\n",
      "Glyph 21169 missing from current font.\n",
      "\n",
      "/Users/kim/anaconda2/envs/py36/lib/python3.6/site-packages/matplotlib/backends/backend_agg.py:211: RuntimeWarning:\n",
      "\n",
      "Glyph 24535 missing from current font.\n",
      "\n",
      "/Users/kim/anaconda2/envs/py36/lib/python3.6/site-packages/matplotlib/backends/backend_agg.py:211: RuntimeWarning:\n",
      "\n",
      "Glyph 21307 missing from current font.\n",
      "\n",
      "/Users/kim/anaconda2/envs/py36/lib/python3.6/site-packages/matplotlib/backends/backend_agg.py:180: RuntimeWarning:\n",
      "\n",
      "Glyph 32771 missing from current font.\n",
      "\n",
      "/Users/kim/anaconda2/envs/py36/lib/python3.6/site-packages/matplotlib/backends/backend_agg.py:180: RuntimeWarning:\n",
      "\n",
      "Glyph 35797 missing from current font.\n",
      "\n",
      "/Users/kim/anaconda2/envs/py36/lib/python3.6/site-packages/matplotlib/backends/backend_agg.py:180: RuntimeWarning:\n",
      "\n",
      "Glyph 25919 missing from current font.\n",
      "\n",
      "/Users/kim/anaconda2/envs/py36/lib/python3.6/site-packages/matplotlib/backends/backend_agg.py:180: RuntimeWarning:\n",
      "\n",
      "Glyph 27835 missing from current font.\n",
      "\n",
      "/Users/kim/anaconda2/envs/py36/lib/python3.6/site-packages/matplotlib/backends/backend_agg.py:180: RuntimeWarning:\n",
      "\n",
      "Glyph 20891 missing from current font.\n",
      "\n",
      "/Users/kim/anaconda2/envs/py36/lib/python3.6/site-packages/matplotlib/backends/backend_agg.py:180: RuntimeWarning:\n",
      "\n",
      "Glyph 20107 missing from current font.\n",
      "\n",
      "/Users/kim/anaconda2/envs/py36/lib/python3.6/site-packages/matplotlib/backends/backend_agg.py:180: RuntimeWarning:\n",
      "\n",
      "Glyph 23567 missing from current font.\n",
      "\n",
      "/Users/kim/anaconda2/envs/py36/lib/python3.6/site-packages/matplotlib/backends/backend_agg.py:180: RuntimeWarning:\n",
      "\n",
      "Glyph 35828 missing from current font.\n",
      "\n",
      "/Users/kim/anaconda2/envs/py36/lib/python3.6/site-packages/matplotlib/backends/backend_agg.py:180: RuntimeWarning:\n",
      "\n",
      "Glyph 35745 missing from current font.\n",
      "\n",
      "/Users/kim/anaconda2/envs/py36/lib/python3.6/site-packages/matplotlib/backends/backend_agg.py:180: RuntimeWarning:\n",
      "\n",
      "Glyph 31639 missing from current font.\n",
      "\n",
      "/Users/kim/anaconda2/envs/py36/lib/python3.6/site-packages/matplotlib/backends/backend_agg.py:180: RuntimeWarning:\n",
      "\n",
      "Glyph 32593 missing from current font.\n",
      "\n",
      "/Users/kim/anaconda2/envs/py36/lib/python3.6/site-packages/matplotlib/backends/backend_agg.py:180: RuntimeWarning:\n",
      "\n",
      "Glyph 32476 missing from current font.\n",
      "\n",
      "/Users/kim/anaconda2/envs/py36/lib/python3.6/site-packages/matplotlib/backends/backend_agg.py:180: RuntimeWarning:\n",
      "\n",
      "Glyph 20013 missing from current font.\n",
      "\n",
      "/Users/kim/anaconda2/envs/py36/lib/python3.6/site-packages/matplotlib/backends/backend_agg.py:180: RuntimeWarning:\n",
      "\n",
      "Glyph 36741 missing from current font.\n",
      "\n",
      "/Users/kim/anaconda2/envs/py36/lib/python3.6/site-packages/matplotlib/backends/backend_agg.py:180: RuntimeWarning:\n",
      "\n",
      "Glyph 35821 missing from current font.\n",
      "\n",
      "/Users/kim/anaconda2/envs/py36/lib/python3.6/site-packages/matplotlib/backends/backend_agg.py:180: RuntimeWarning:\n",
      "\n",
      "Glyph 36827 missing from current font.\n",
      "\n",
      "/Users/kim/anaconda2/envs/py36/lib/python3.6/site-packages/matplotlib/backends/backend_agg.py:180: RuntimeWarning:\n",
      "\n",
      "Glyph 21475 missing from current font.\n",
      "\n",
      "/Users/kim/anaconda2/envs/py36/lib/python3.6/site-packages/matplotlib/backends/backend_agg.py:180: RuntimeWarning:\n",
      "\n",
      "Glyph 24037 missing from current font.\n",
      "\n",
      "/Users/kim/anaconda2/envs/py36/lib/python3.6/site-packages/matplotlib/backends/backend_agg.py:180: RuntimeWarning:\n",
      "\n",
      "Glyph 19994 missing from current font.\n",
      "\n",
      "/Users/kim/anaconda2/envs/py36/lib/python3.6/site-packages/matplotlib/backends/backend_agg.py:180: RuntimeWarning:\n",
      "\n",
      "Glyph 29702 missing from current font.\n",
      "\n",
      "/Users/kim/anaconda2/envs/py36/lib/python3.6/site-packages/matplotlib/backends/backend_agg.py:180: RuntimeWarning:\n",
      "\n",
      "Glyph 25104 missing from current font.\n",
      "\n",
      "/Users/kim/anaconda2/envs/py36/lib/python3.6/site-packages/matplotlib/backends/backend_agg.py:180: RuntimeWarning:\n",
      "\n",
      "Glyph 21151 missing from current font.\n",
      "\n",
      "/Users/kim/anaconda2/envs/py36/lib/python3.6/site-packages/matplotlib/backends/backend_agg.py:180: RuntimeWarning:\n",
      "\n",
      "Glyph 21169 missing from current font.\n",
      "\n",
      "/Users/kim/anaconda2/envs/py36/lib/python3.6/site-packages/matplotlib/backends/backend_agg.py:180: RuntimeWarning:\n",
      "\n",
      "Glyph 24535 missing from current font.\n",
      "\n",
      "/Users/kim/anaconda2/envs/py36/lib/python3.6/site-packages/matplotlib/backends/backend_agg.py:180: RuntimeWarning:\n",
      "\n",
      "Glyph 21307 missing from current font.\n",
      "\n",
      "/Users/kim/anaconda2/envs/py36/lib/python3.6/site-packages/matplotlib/backends/backend_agg.py:180: RuntimeWarning:\n",
      "\n",
      "Glyph 20998 missing from current font.\n",
      "\n",
      "/Users/kim/anaconda2/envs/py36/lib/python3.6/site-packages/matplotlib/backends/backend_agg.py:180: RuntimeWarning:\n",
      "\n",
      "Glyph 24067 missing from current font.\n",
      "\n"
     ]
    },
    {
     "data": {
      "image/png": "[encoded data removed]",
      "text/plain": [
       "<Figure size 576x360 with 1 Axes>"
      ]
     },
     "metadata": {
      "needs_background": "light"
     },
     "output_type": "display_data"
    }
   ],
   "source": [
    "d = {'cat3':products['cat3_name'].value_counts().index, 'count': products['cat3'].value_counts()}\n",
    "df_cat3 = pd.DataFrame(data=d).reset_index(drop=True)\n",
    "df_cat3 = df_cat3.sort_values(by=\"count\",ascending= False).head(15)\n",
    "\n",
    "df_cat3.plot(x='cat3', y='count', kind='bar', legend=False,  figsize=(8, 5))\n",
    "plt.title(\"cat3 分布\")\n",
    "plt.ylabel('count', fontsize=18)\n",
    "plt.xlabel('cat3', fontsize=18)"
   ]
  },
  {
   "cell_type": "code",
   "execution_count": 17,
   "metadata": {},
   "outputs": [],
   "source": [
    "#! python -m pip install --upgrade pip\n",
    "#! pip install jieba"
   ]
  },
  {
   "cell_type": "markdown",
   "metadata": {},
   "source": [
    "# Only need prodcut id and name to analize, using jieba library to cut text"
   ]
  },
  {
   "cell_type": "code",
   "execution_count": 18,
   "metadata": {},
   "outputs": [],
   "source": [
    "import re\n",
    "import jieba as jb\n",
    "\n",
    "def processText(text, join_str = \" \", array = False):\n",
    "    text = str(text)\n",
    "    if text.strip()=='':\n",
    "        return ''\n",
    "    r = '[’!\"#$%&\\'()*+,-./:;<=>?@[\\\\]^_`{|}~]+'\n",
    "    text = re.sub(r, '', text)\n",
    "    # cut word, GitBub: https://github.com/fxsjy/jieba\n",
    "    text = join_str.join([w for w in list(jb.cut(text)) if w !=' '])\n",
    "    return text\n",
    "\n",
    "product_lists = products[['productId','name']]\n"
   ]
  },
  {
   "cell_type": "code",
   "execution_count": 19,
   "metadata": {},
   "outputs": [
    {
     "data": {
      "text/html": [
       "<div>\n",
       "<style scoped>\n",
       "    .dataframe tbody tr th:only-of-type {\n",
       "        vertical-align: middle;\n",
       "    }\n",
       "\n",
       "    .dataframe tbody tr th {\n",
       "        vertical-align: top;\n",
       "    }\n",
       "\n",
       "    .dataframe thead th {\n",
       "        text-align: right;\n",
       "    }\n",
       "</style>\n",
       "<table border=\"1\" class=\"dataframe\">\n",
       "  <thead>\n",
       "    <tr style=\"text-align: right;\">\n",
       "      <th></th>\n",
       "      <th>productId</th>\n",
       "      <th>name</th>\n",
       "      <th>cut_name</th>\n",
       "    </tr>\n",
       "  </thead>\n",
       "  <tbody>\n",
       "    <tr>\n",
       "      <th>0</th>\n",
       "      <td>0</td>\n",
       "      <td>CSSMs Biology: Control in Cells and in Organis...</td>\n",
       "      <td>CSSMs Biology Control in Cells and in Organism...</td>\n",
       "    </tr>\n",
       "    <tr>\n",
       "      <th>1</th>\n",
       "      <td>1</td>\n",
       "      <td>Treasure Island</td>\n",
       "      <td>Treasure Island</td>\n",
       "    </tr>\n",
       "    <tr>\n",
       "      <th>2</th>\n",
       "      <td>2</td>\n",
       "      <td>Collins Primary Dictionaries – Collins Junior ...</td>\n",
       "      <td>Collins Primary Dictionaries – Collins Junior ...</td>\n",
       "    </tr>\n",
       "    <tr>\n",
       "      <th>3</th>\n",
       "      <td>3</td>\n",
       "      <td>Partners in Crime</td>\n",
       "      <td>Partners in Crime</td>\n",
       "    </tr>\n",
       "    <tr>\n",
       "      <th>4</th>\n",
       "      <td>4</td>\n",
       "      <td>The Hobbit</td>\n",
       "      <td>The Hobbit</td>\n",
       "    </tr>\n",
       "  </tbody>\n",
       "</table>\n",
       "</div>"
      ],
      "text/plain": [
       "   productId                                               name  \\\n",
       "0          0  CSSMs Biology: Control in Cells and in Organis...   \n",
       "1          1                                    Treasure Island   \n",
       "2          2  Collins Primary Dictionaries – Collins Junior ...   \n",
       "3          3                                  Partners in Crime   \n",
       "4          4                                         The Hobbit   \n",
       "\n",
       "                                            cut_name  \n",
       "0  CSSMs Biology Control in Cells and in Organism...  \n",
       "1                                    Treasure Island  \n",
       "2  Collins Primary Dictionaries – Collins Junior ...  \n",
       "3                                  Partners in Crime  \n",
       "4                                         The Hobbit  "
      ]
     },
     "execution_count": 19,
     "metadata": {},
     "output_type": "execute_result"
    }
   ],
   "source": [
    "product_lists['cut_name'] = product_lists['name'].apply(processText)\n",
    "product_lists.head()"
   ]
  },
  {
   "cell_type": "code",
   "execution_count": 6,
   "metadata": {},
   "outputs": [],
   "source": [
    "#product_lists.to_csv('./product_lists_with_cut.csv', encoding=\"utf_8_sig\")"
   ]
  },
  {
   "cell_type": "code",
   "execution_count": 5,
   "metadata": {},
   "outputs": [],
   "source": [
    "#! pip install plotly\n",
    "#! pip install cufflinks"
   ]
  },
  {
   "cell_type": "markdown",
   "metadata": {},
   "source": [
    "# Find the most fequence word in group (one word, two words, three words)"
   ]
  },
  {
   "cell_type": "code",
   "execution_count": 20,
   "metadata": {},
   "outputs": [
    {
     "data": {
      "text/html": [
       "        <script type=\"text/javascript\">\n",
       "        window.PlotlyConfig = {MathJaxConfig: 'local'};\n",
       "        if (window.MathJax) {MathJax.Hub.Config({SVG: {font: \"STIX-Web\"}});}\n",
       "        if (typeof require !== 'undefined') {\n",
       "        require.undef(\"plotly\");\n",
       "        requirejs.config({\n",
       "            paths: {\n",
       "                'plotly': ['https://cdn.plot.ly/plotly-latest.min']\n",
       "            }\n",
       "        });\n",
       "        require(['plotly'], function(Plotly) {\n",
       "            window._Plotly = Plotly;\n",
       "        });\n",
       "        }\n",
       "        </script>\n",
       "        "
      ]
     },
     "metadata": {},
     "output_type": "display_data"
    }
   ],
   "source": [
    "from sklearn.feature_extraction.text import CountVectorizer\n",
    "import plotly.graph_objs as go\n",
    "import cufflinks\n",
    "pd.options.display.max_columns = 30\n",
    "from IPython.core.interactiveshell import InteractiveShell\n",
    "import plotly.figure_factory as ff\n",
    "InteractiveShell.ast_node_interactivity = 'all'\n",
    "from plotly.offline import iplot\n",
    "cufflinks.go_offline()\n",
    "cufflinks.set_config_file(world_readable=True, theme='solar')\n",
    "\n",
    "def get_top_n_words(corpus, n=None, ngram = 1):\n",
    "    vec = CountVectorizer(ngram_range=(ngram, ngram)).fit(corpus)\n",
    "    bag_of_words = vec.transform(corpus)\n",
    "    sum_words = bag_of_words.sum(axis=0) \n",
    "    words_freq = [(word, sum_words[0, idx]) for word, idx in vec.vocabulary_.items()]\n",
    "    words_freq =sorted(words_freq, key = lambda x: x[1], reverse=True)\n",
    "    return words_freq, words_freq[:n]"
   ]
  },
  {
   "cell_type": "code",
   "execution_count": 21,
   "metadata": {},
   "outputs": [
    {
     "data": {
      "application/vnd.plotly.v1+json": {
       "config": {
        "linkText": "Export to plot.ly",
        "plotlyServerURL": "https://plot.ly",
        "showLink": true
       },
       "data": [
        {
         "marker": {
          "color": "rgba(255, 153, 51, 0.6)",
          "line": {
           "color": "rgba(255, 153, 51, 1.0)",
           "width": 1
          }
         },
         "name": "count",
         "orientation": "h",
         "text": "",
         "type": "bar",
         "x": [
          8337,
          8479,
          8649,
          8693,
          8791,
          8821,
          8857,
          8949,
          9121,
          9471,
          11114,
          11132,
          11185,
          12129,
          13124,
          13187,
          13641,
          19182,
          24274,
          29353
         ],
         "y": [
          "设计",
          "时尚",
          "黑色",
          "规划",
          "全国",
          "技术",
          "2013",
          "休闲",
          "男式",
          "附光盘",
          "教程",
          "the",
          "经典",
          "光盘",
          "套装",
          "英语",
          "考试",
          "中国",
          "教材",
          "系列"
         ]
        }
       ],
       "layout": {
        "legend": {
         "bgcolor": "#151516",
         "font": {
          "color": "#D9D9D9"
         }
        },
        "paper_bgcolor": "#151516",
        "plot_bgcolor": "#151516",
        "template": {
         "data": {
          "bar": [
           {
            "error_x": {
             "color": "#2a3f5f"
            },
            "error_y": {
             "color": "#2a3f5f"
            },
            "marker": {
             "line": {
              "color": "#E5ECF6",
              "width": 0.5
             }
            },
            "type": "bar"
           }
          ],
          "barpolar": [
           {
            "marker": {
             "line": {
              "color": "#E5ECF6",
              "width": 0.5
             }
            },
            "type": "barpolar"
           }
          ],
          "carpet": [
           {
            "aaxis": {
             "endlinecolor": "#2a3f5f",
             "gridcolor": "white",
             "linecolor": "white",
             "minorgridcolor": "white",
             "startlinecolor": "#2a3f5f"
            },
            "baxis": {
             "endlinecolor": "#2a3f5f",
             "gridcolor": "white",
             "linecolor": "white",
             "minorgridcolor": "white",
             "startlinecolor": "#2a3f5f"
            },
            "type": "carpet"
           }
          ],
          "choropleth": [
           {
            "colorbar": {
             "outlinewidth": 0,
             "ticks": ""
            },
            "type": "choropleth"
           }
          ],
          "contour": [
           {
            "colorbar": {
             "outlinewidth": 0,
             "ticks": ""
            },
            "colorscale": [
             [
              0,
              "#0d0887"
             ],
             [
              0.1111111111111111,
              "#46039f"
             ],
             [
              0.2222222222222222,
              "#7201a8"
             ],
             [
              0.3333333333333333,
              "#9c179e"
             ],
             [
              0.4444444444444444,
              "#bd3786"
             ],
             [
              0.5555555555555556,
              "#d8576b"
             ],
             [
              0.6666666666666666,
              "#ed7953"
             ],
             [
              0.7777777777777778,
              "#fb9f3a"
             ],
             [
              0.8888888888888888,
              "#fdca26"
             ],
             [
              1,
              "#f0f921"
             ]
            ],
            "type": "contour"
           }
          ],
          "contourcarpet": [
           {
            "colorbar": {
             "outlinewidth": 0,
             "ticks": ""
            },
            "type": "contourcarpet"
           }
          ],
          "heatmap": [
           {
            "colorbar": {
             "outlinewidth": 0,
             "ticks": ""
            },
            "colorscale": [
             [
              0,
              "#0d0887"
             ],
             [
              0.1111111111111111,
              "#46039f"
             ],
             [
              0.2222222222222222,
              "#7201a8"
             ],
             [
              0.3333333333333333,
              "#9c179e"
             ],
             [
              0.4444444444444444,
              "#bd3786"
             ],
             [
              0.5555555555555556,
              "#d8576b"
             ],
             [
              0.6666666666666666,
              "#ed7953"
             ],
             [
              0.7777777777777778,
              "#fb9f3a"
             ],
             [
              0.8888888888888888,
              "#fdca26"
             ],
             [
              1,
              "#f0f921"
             ]
            ],
            "type": "heatmap"
           }
          ],
          "heatmapgl": [
           {
            "colorbar": {
             "outlinewidth": 0,
             "ticks": ""
            },
            "colorscale": [
             [
              0,
              "#0d0887"
             ],
             [
              0.1111111111111111,
              "#46039f"
             ],
             [
              0.2222222222222222,
              "#7201a8"
             ],
             [
              0.3333333333333333,
              "#9c179e"
             ],
             [
              0.4444444444444444,
              "#bd3786"
             ],
             [
              0.5555555555555556,
              "#d8576b"
             ],
             [
              0.6666666666666666,
              "#ed7953"
             ],
             [
              0.7777777777777778,
              "#fb9f3a"
             ],
             [
              0.8888888888888888,
              "#fdca26"
             ],
             [
              1,
              "#f0f921"
             ]
            ],
            "type": "heatmapgl"
           }
          ],
          "histogram": [
           {
            "marker": {
             "colorbar": {
              "outlinewidth": 0,
              "ticks": ""
             }
            },
            "type": "histogram"
           }
          ],
          "histogram2d": [
           {
            "colorbar": {
             "outlinewidth": 0,
             "ticks": ""
            },
            "colorscale": [
             [
              0,
              "#0d0887"
             ],
             [
              0.1111111111111111,
              "#46039f"
             ],
             [
              0.2222222222222222,
              "#7201a8"
             ],
             [
              0.3333333333333333,
              "#9c179e"
             ],
             [
              0.4444444444444444,
              "#bd3786"
             ],
             [
              0.5555555555555556,
              "#d8576b"
             ],
             [
              0.6666666666666666,
              "#ed7953"
             ],
             [
              0.7777777777777778,
              "#fb9f3a"
             ],
             [
              0.8888888888888888,
              "#fdca26"
             ],
             [
              1,
              "#f0f921"
             ]
            ],
            "type": "histogram2d"
           }
          ],
          "histogram2dcontour": [
           {
            "colorbar": {
             "outlinewidth": 0,
             "ticks": ""
            },
            "colorscale": [
             [
              0,
              "#0d0887"
             ],
             [
              0.1111111111111111,
              "#46039f"
             ],
             [
              0.2222222222222222,
              "#7201a8"
             ],
             [
              0.3333333333333333,
              "#9c179e"
             ],
             [
              0.4444444444444444,
              "#bd3786"
             ],
             [
              0.5555555555555556,
              "#d8576b"
             ],
             [
              0.6666666666666666,
              "#ed7953"
             ],
             [
              0.7777777777777778,
              "#fb9f3a"
             ],
             [
              0.8888888888888888,
              "#fdca26"
             ],
             [
              1,
              "#f0f921"
             ]
            ],
            "type": "histogram2dcontour"
           }
          ],
          "mesh3d": [
           {
            "colorbar": {
             "outlinewidth": 0,
             "ticks": ""
            },
            "type": "mesh3d"
           }
          ],
          "parcoords": [
           {
            "line": {
             "colorbar": {
              "outlinewidth": 0,
              "ticks": ""
             }
            },
            "type": "parcoords"
           }
          ],
          "pie": [
           {
            "automargin": true,
            "type": "pie"
           }
          ],
          "scatter": [
           {
            "marker": {
             "colorbar": {
              "outlinewidth": 0,
              "ticks": ""
             }
            },
            "type": "scatter"
           }
          ],
          "scatter3d": [
           {
            "line": {
             "colorbar": {
              "outlinewidth": 0,
              "ticks": ""
             }
            },
            "marker": {
             "colorbar": {
              "outlinewidth": 0,
              "ticks": ""
             }
            },
            "type": "scatter3d"
           }
          ],
          "scattercarpet": [
           {
            "marker": {
             "colorbar": {
              "outlinewidth": 0,
              "ticks": ""
             }
            },
            "type": "scattercarpet"
           }
          ],
          "scattergeo": [
           {
            "marker": {
             "colorbar": {
              "outlinewidth": 0,
              "ticks": ""
             }
            },
            "type": "scattergeo"
           }
          ],
          "scattergl": [
           {
            "marker": {
             "colorbar": {
              "outlinewidth": 0,
              "ticks": ""
             }
            },
            "type": "scattergl"
           }
          ],
          "scattermapbox": [
           {
            "marker": {
             "colorbar": {
              "outlinewidth": 0,
              "ticks": ""
             }
            },
            "type": "scattermapbox"
           }
          ],
          "scatterpolar": [
           {
            "marker": {
             "colorbar": {
              "outlinewidth": 0,
              "ticks": ""
             }
            },
            "type": "scatterpolar"
           }
          ],
          "scatterpolargl": [
           {
            "marker": {
             "colorbar": {
              "outlinewidth": 0,
              "ticks": ""
             }
            },
            "type": "scatterpolargl"
           }
          ],
          "scatterternary": [
           {
            "marker": {
             "colorbar": {
              "outlinewidth": 0,
              "ticks": ""
             }
            },
            "type": "scatterternary"
           }
          ],
          "surface": [
           {
            "colorbar": {
             "outlinewidth": 0,
             "ticks": ""
            },
            "colorscale": [
             [
              0,
              "#0d0887"
             ],
             [
              0.1111111111111111,
              "#46039f"
             ],
             [
              0.2222222222222222,
              "#7201a8"
             ],
             [
              0.3333333333333333,
              "#9c179e"
             ],
             [
              0.4444444444444444,
              "#bd3786"
             ],
             [
              0.5555555555555556,
              "#d8576b"
             ],
             [
              0.6666666666666666,
              "#ed7953"
             ],
             [
              0.7777777777777778,
              "#fb9f3a"
             ],
             [
              0.8888888888888888,
              "#fdca26"
             ],
             [
              1,
              "#f0f921"
             ]
            ],
            "type": "surface"
           }
          ],
          "table": [
           {
            "cells": {
             "fill": {
              "color": "#EBF0F8"
             },
             "line": {
              "color": "white"
             }
            },
            "header": {
             "fill": {
              "color": "#C8D4E3"
             },
             "line": {
              "color": "white"
             }
            },
            "type": "table"
           }
          ]
         },
         "layout": {
          "annotationdefaults": {
           "arrowcolor": "#2a3f5f",
           "arrowhead": 0,
           "arrowwidth": 1
          },
          "coloraxis": {
           "colorbar": {
            "outlinewidth": 0,
            "ticks": ""
           }
          },
          "colorscale": {
           "diverging": [
            [
             0,
             "#8e0152"
            ],
            [
             0.1,
             "#c51b7d"
            ],
            [
             0.2,
             "#de77ae"
            ],
            [
             0.3,
             "#f1b6da"
            ],
            [
             0.4,
             "#fde0ef"
            ],
            [
             0.5,
             "#f7f7f7"
            ],
            [
             0.6,
             "#e6f5d0"
            ],
            [
             0.7,
             "#b8e186"
            ],
            [
             0.8,
             "#7fbc41"
            ],
            [
             0.9,
             "#4d9221"
            ],
            [
             1,
             "#276419"
            ]
           ],
           "sequential": [
            [
             0,
             "#0d0887"
            ],
            [
             0.1111111111111111,
             "#46039f"
            ],
            [
             0.2222222222222222,
             "#7201a8"
            ],
            [
             0.3333333333333333,
             "#9c179e"
            ],
            [
             0.4444444444444444,
             "#bd3786"
            ],
            [
             0.5555555555555556,
             "#d8576b"
            ],
            [
             0.6666666666666666,
             "#ed7953"
            ],
            [
             0.7777777777777778,
             "#fb9f3a"
            ],
            [
             0.8888888888888888,
             "#fdca26"
            ],
            [
             1,
             "#f0f921"
            ]
           ],
           "sequentialminus": [
            [
             0,
             "#0d0887"
            ],
            [
             0.1111111111111111,
             "#46039f"
            ],
            [
             0.2222222222222222,
             "#7201a8"
            ],
            [
             0.3333333333333333,
             "#9c179e"
            ],
            [
             0.4444444444444444,
             "#bd3786"
            ],
            [
             0.5555555555555556,
             "#d8576b"
            ],
            [
             0.6666666666666666,
             "#ed7953"
            ],
            [
             0.7777777777777778,
             "#fb9f3a"
            ],
            [
             0.8888888888888888,
             "#fdca26"
            ],
            [
             1,
             "#f0f921"
            ]
           ]
          },
          "colorway": [
           "#636efa",
           "#EF553B",
           "#00cc96",
           "#ab63fa",
           "#FFA15A",
           "#19d3f3",
           "#FF6692",
           "#B6E880",
           "#FF97FF",
           "#FECB52"
          ],
          "font": {
           "color": "#2a3f5f"
          },
          "geo": {
           "bgcolor": "white",
           "lakecolor": "white",
           "landcolor": "#E5ECF6",
           "showlakes": true,
           "showland": true,
           "subunitcolor": "white"
          },
          "hoverlabel": {
           "align": "left"
          },
          "hovermode": "closest",
          "mapbox": {
           "style": "light"
          },
          "paper_bgcolor": "white",
          "plot_bgcolor": "#E5ECF6",
          "polar": {
           "angularaxis": {
            "gridcolor": "white",
            "linecolor": "white",
            "ticks": ""
           },
           "bgcolor": "#E5ECF6",
           "radialaxis": {
            "gridcolor": "white",
            "linecolor": "white",
            "ticks": ""
           }
          },
          "scene": {
           "xaxis": {
            "backgroundcolor": "#E5ECF6",
            "gridcolor": "white",
            "gridwidth": 2,
            "linecolor": "white",
            "showbackground": true,
            "ticks": "",
            "zerolinecolor": "white"
           },
           "yaxis": {
            "backgroundcolor": "#E5ECF6",
            "gridcolor": "white",
            "gridwidth": 2,
            "linecolor": "white",
            "showbackground": true,
            "ticks": "",
            "zerolinecolor": "white"
           },
           "zaxis": {
            "backgroundcolor": "#E5ECF6",
            "gridcolor": "white",
            "gridwidth": 2,
            "linecolor": "white",
            "showbackground": true,
            "ticks": "",
            "zerolinecolor": "white"
           }
          },
          "shapedefaults": {
           "line": {
            "color": "#2a3f5f"
           }
          },
          "ternary": {
           "aaxis": {
            "gridcolor": "white",
            "linecolor": "white",
            "ticks": ""
           },
           "baxis": {
            "gridcolor": "white",
            "linecolor": "white",
            "ticks": ""
           },
           "bgcolor": "#E5ECF6",
           "caxis": {
            "gridcolor": "white",
            "linecolor": "white",
            "ticks": ""
           }
          },
          "title": {
           "x": 0.05
          },
          "xaxis": {
           "automargin": true,
           "gridcolor": "white",
           "linecolor": "white",
           "ticks": "",
           "title": {
            "standoff": 15
           },
           "zerolinecolor": "white",
           "zerolinewidth": 2
          },
          "yaxis": {
           "automargin": true,
           "gridcolor": "white",
           "linecolor": "white",
           "ticks": "",
           "title": {
            "standoff": 15
           },
           "zerolinecolor": "white",
           "zerolinewidth": 2
          }
         }
        },
        "title": {
         "font": {
          "color": "#D9D9D9"
         },
         "text": "Most common 20 words in name"
        },
        "xaxis": {
         "gridcolor": "#434343",
         "linecolor": "black",
         "showgrid": true,
         "tickfont": {
          "color": "#C2C2C2"
         },
         "title": {
          "font": {
           "color": "#D9D9D9"
          },
          "text": "Count"
         },
         "zerolinecolor": "#666570"
        },
        "yaxis": {
         "gridcolor": "#434343",
         "linecolor": "black",
         "showgrid": true,
         "tickfont": {
          "color": "#C2C2C2"
         },
         "title": {
          "font": {
           "color": "#D9D9D9"
          },
          "text": ""
         },
         "zerolinecolor": "#666570"
        }
       }
      },
      "text/html": [
       "<div>\n",
       "        \n",
       "        \n",
       "            <div id=\"5d62e407-f563-4853-a537-a36aa46abc15\" class=\"plotly-graph-div\" style=\"height:525px; width:100%;\"></div>\n",
       "            <script type=\"text/javascript\">\n",
       "                require([\"plotly\"], function(Plotly) {\n",
       "                    window.PLOTLYENV=window.PLOTLYENV || {};\n",
       "                    window.PLOTLYENV.BASE_URL='https://plot.ly';\n",
       "                    \n",
       "                if (document.getElementById(\"5d62e407-f563-4853-a537-a36aa46abc15\")) {\n",
       "                    Plotly.newPlot(\n",
       "                        '5d62e407-f563-4853-a537-a36aa46abc15',\n",
       "                        [{\"marker\": {\"color\": \"rgba(255, 153, 51, 0.6)\", \"line\": {\"color\": \"rgba(255, 153, 51, 1.0)\", \"width\": 1}}, \"name\": \"count\", \"orientation\": \"h\", \"text\": \"\", \"type\": \"bar\", \"x\": [8337, 8479, 8649, 8693, 8791, 8821, 8857, 8949, 9121, 9471, 11114, 11132, 11185, 12129, 13124, 13187, 13641, 19182, 24274, 29353], \"y\": [\"\\u8bbe\\u8ba1\", \"\\u65f6\\u5c1a\", \"\\u9ed1\\u8272\", \"\\u89c4\\u5212\", \"\\u5168\\u56fd\", \"\\u6280\\u672f\", \"2013\", \"\\u4f11\\u95f2\", \"\\u7537\\u5f0f\", \"\\u9644\\u5149\\u76d8\", \"\\u6559\\u7a0b\", \"the\", \"\\u7ecf\\u5178\", \"\\u5149\\u76d8\", \"\\u5957\\u88c5\", \"\\u82f1\\u8bed\", \"\\u8003\\u8bd5\", \"\\u4e2d\\u56fd\", \"\\u6559\\u6750\", \"\\u7cfb\\u5217\"]}],\n",
       "                        {\"legend\": {\"bgcolor\": \"#151516\", \"font\": {\"color\": \"#D9D9D9\"}}, \"paper_bgcolor\": \"#151516\", \"plot_bgcolor\": \"#151516\", \"template\": {\"data\": {\"bar\": [{\"error_x\": {\"color\": \"#2a3f5f\"}, \"error_y\": {\"color\": \"#2a3f5f\"}, \"marker\": {\"line\": {\"color\": \"#E5ECF6\", \"width\": 0.5}}, \"type\": \"bar\"}], \"barpolar\": [{\"marker\": {\"line\": {\"color\": \"#E5ECF6\", \"width\": 0.5}}, \"type\": \"barpolar\"}], \"carpet\": [{\"aaxis\": {\"endlinecolor\": \"#2a3f5f\", \"gridcolor\": \"white\", \"linecolor\": \"white\", \"minorgridcolor\": \"white\", \"startlinecolor\": \"#2a3f5f\"}, \"baxis\": {\"endlinecolor\": \"#2a3f5f\", \"gridcolor\": \"white\", \"linecolor\": \"white\", \"minorgridcolor\": \"white\", \"startlinecolor\": \"#2a3f5f\"}, \"type\": \"carpet\"}], \"choropleth\": [{\"colorbar\": {\"outlinewidth\": 0, \"ticks\": \"\"}, \"type\": \"choropleth\"}], \"contour\": [{\"colorbar\": {\"outlinewidth\": 0, \"ticks\": \"\"}, \"colorscale\": [[0.0, \"#0d0887\"], [0.1111111111111111, \"#46039f\"], [0.2222222222222222, \"#7201a8\"], [0.3333333333333333, \"#9c179e\"], [0.4444444444444444, \"#bd3786\"], [0.5555555555555556, \"#d8576b\"], [0.6666666666666666, \"#ed7953\"], [0.7777777777777778, \"#fb9f3a\"], [0.8888888888888888, \"#fdca26\"], [1.0, \"#f0f921\"]], \"type\": \"contour\"}], \"contourcarpet\": [{\"colorbar\": {\"outlinewidth\": 0, \"ticks\": \"\"}, \"type\": \"contourcarpet\"}], \"heatmap\": [{\"colorbar\": {\"outlinewidth\": 0, \"ticks\": \"\"}, \"colorscale\": [[0.0, \"#0d0887\"], [0.1111111111111111, \"#46039f\"], [0.2222222222222222, \"#7201a8\"], [0.3333333333333333, \"#9c179e\"], [0.4444444444444444, \"#bd3786\"], [0.5555555555555556, \"#d8576b\"], [0.6666666666666666, \"#ed7953\"], [0.7777777777777778, \"#fb9f3a\"], [0.8888888888888888, \"#fdca26\"], [1.0, \"#f0f921\"]], \"type\": \"heatmap\"}], \"heatmapgl\": [{\"colorbar\": {\"outlinewidth\": 0, \"ticks\": \"\"}, \"colorscale\": [[0.0, \"#0d0887\"], [0.1111111111111111, \"#46039f\"], [0.2222222222222222, \"#7201a8\"], [0.3333333333333333, \"#9c179e\"], [0.4444444444444444, \"#bd3786\"], [0.5555555555555556, \"#d8576b\"], [0.6666666666666666, \"#ed7953\"], [0.7777777777777778, \"#fb9f3a\"], [0.8888888888888888, \"#fdca26\"], [1.0, \"#f0f921\"]], \"type\": \"heatmapgl\"}], \"histogram\": [{\"marker\": {\"colorbar\": {\"outlinewidth\": 0, \"ticks\": \"\"}}, \"type\": \"histogram\"}], \"histogram2d\": [{\"colorbar\": {\"outlinewidth\": 0, \"ticks\": \"\"}, \"colorscale\": [[0.0, \"#0d0887\"], [0.1111111111111111, \"#46039f\"], [0.2222222222222222, \"#7201a8\"], [0.3333333333333333, \"#9c179e\"], [0.4444444444444444, \"#bd3786\"], [0.5555555555555556, \"#d8576b\"], [0.6666666666666666, \"#ed7953\"], [0.7777777777777778, \"#fb9f3a\"], [0.8888888888888888, \"#fdca26\"], [1.0, \"#f0f921\"]], \"type\": \"histogram2d\"}], \"histogram2dcontour\": [{\"colorbar\": {\"outlinewidth\": 0, \"ticks\": \"\"}, \"colorscale\": [[0.0, \"#0d0887\"], [0.1111111111111111, \"#46039f\"], [0.2222222222222222, \"#7201a8\"], [0.3333333333333333, \"#9c179e\"], [0.4444444444444444, \"#bd3786\"], [0.5555555555555556, \"#d8576b\"], [0.6666666666666666, \"#ed7953\"], [0.7777777777777778, \"#fb9f3a\"], [0.8888888888888888, \"#fdca26\"], [1.0, \"#f0f921\"]], \"type\": \"histogram2dcontour\"}], \"mesh3d\": [{\"colorbar\": {\"outlinewidth\": 0, \"ticks\": \"\"}, \"type\": \"mesh3d\"}], \"parcoords\": [{\"line\": {\"colorbar\": {\"outlinewidth\": 0, \"ticks\": \"\"}}, \"type\": \"parcoords\"}], \"pie\": [{\"automargin\": true, \"type\": \"pie\"}], \"scatter\": [{\"marker\": {\"colorbar\": {\"outlinewidth\": 0, \"ticks\": \"\"}}, \"type\": \"scatter\"}], \"scatter3d\": [{\"line\": {\"colorbar\": {\"outlinewidth\": 0, \"ticks\": \"\"}}, \"marker\": {\"colorbar\": {\"outlinewidth\": 0, \"ticks\": \"\"}}, \"type\": \"scatter3d\"}], \"scattercarpet\": [{\"marker\": {\"colorbar\": {\"outlinewidth\": 0, \"ticks\": \"\"}}, \"type\": \"scattercarpet\"}], \"scattergeo\": [{\"marker\": {\"colorbar\": {\"outlinewidth\": 0, \"ticks\": \"\"}}, \"type\": \"scattergeo\"}], \"scattergl\": [{\"marker\": {\"colorbar\": {\"outlinewidth\": 0, \"ticks\": \"\"}}, \"type\": \"scattergl\"}], \"scattermapbox\": [{\"marker\": {\"colorbar\": {\"outlinewidth\": 0, \"ticks\": \"\"}}, \"type\": \"scattermapbox\"}], \"scatterpolar\": [{\"marker\": {\"colorbar\": {\"outlinewidth\": 0, \"ticks\": \"\"}}, \"type\": \"scatterpolar\"}], \"scatterpolargl\": [{\"marker\": {\"colorbar\": {\"outlinewidth\": 0, \"ticks\": \"\"}}, \"type\": \"scatterpolargl\"}], \"scatterternary\": [{\"marker\": {\"colorbar\": {\"outlinewidth\": 0, \"ticks\": \"\"}}, \"type\": \"scatterternary\"}], \"surface\": [{\"colorbar\": {\"outlinewidth\": 0, \"ticks\": \"\"}, \"colorscale\": [[0.0, \"#0d0887\"], [0.1111111111111111, \"#46039f\"], [0.2222222222222222, \"#7201a8\"], [0.3333333333333333, \"#9c179e\"], [0.4444444444444444, \"#bd3786\"], [0.5555555555555556, \"#d8576b\"], [0.6666666666666666, \"#ed7953\"], [0.7777777777777778, \"#fb9f3a\"], [0.8888888888888888, \"#fdca26\"], [1.0, \"#f0f921\"]], \"type\": \"surface\"}], \"table\": [{\"cells\": {\"fill\": {\"color\": \"#EBF0F8\"}, \"line\": {\"color\": \"white\"}}, \"header\": {\"fill\": {\"color\": \"#C8D4E3\"}, \"line\": {\"color\": \"white\"}}, \"type\": \"table\"}]}, \"layout\": {\"annotationdefaults\": {\"arrowcolor\": \"#2a3f5f\", \"arrowhead\": 0, \"arrowwidth\": 1}, \"coloraxis\": {\"colorbar\": {\"outlinewidth\": 0, \"ticks\": \"\"}}, \"colorscale\": {\"diverging\": [[0, \"#8e0152\"], [0.1, \"#c51b7d\"], [0.2, \"#de77ae\"], [0.3, \"#f1b6da\"], [0.4, \"#fde0ef\"], [0.5, \"#f7f7f7\"], [0.6, \"#e6f5d0\"], [0.7, \"#b8e186\"], [0.8, \"#7fbc41\"], [0.9, \"#4d9221\"], [1, \"#276419\"]], \"sequential\": [[0.0, \"#0d0887\"], [0.1111111111111111, \"#46039f\"], [0.2222222222222222, \"#7201a8\"], [0.3333333333333333, \"#9c179e\"], [0.4444444444444444, \"#bd3786\"], [0.5555555555555556, \"#d8576b\"], [0.6666666666666666, \"#ed7953\"], [0.7777777777777778, \"#fb9f3a\"], [0.8888888888888888, \"#fdca26\"], [1.0, \"#f0f921\"]], \"sequentialminus\": [[0.0, \"#0d0887\"], [0.1111111111111111, \"#46039f\"], [0.2222222222222222, \"#7201a8\"], [0.3333333333333333, \"#9c179e\"], [0.4444444444444444, \"#bd3786\"], [0.5555555555555556, \"#d8576b\"], [0.6666666666666666, \"#ed7953\"], [0.7777777777777778, \"#fb9f3a\"], [0.8888888888888888, \"#fdca26\"], [1.0, \"#f0f921\"]]}, \"colorway\": [\"#636efa\", \"#EF553B\", \"#00cc96\", \"#ab63fa\", \"#FFA15A\", \"#19d3f3\", \"#FF6692\", \"#B6E880\", \"#FF97FF\", \"#FECB52\"], \"font\": {\"color\": \"#2a3f5f\"}, \"geo\": {\"bgcolor\": \"white\", \"lakecolor\": \"white\", \"landcolor\": \"#E5ECF6\", \"showlakes\": true, \"showland\": true, \"subunitcolor\": \"white\"}, \"hoverlabel\": {\"align\": \"left\"}, \"hovermode\": \"closest\", \"mapbox\": {\"style\": \"light\"}, \"paper_bgcolor\": \"white\", \"plot_bgcolor\": \"#E5ECF6\", \"polar\": {\"angularaxis\": {\"gridcolor\": \"white\", \"linecolor\": \"white\", \"ticks\": \"\"}, \"bgcolor\": \"#E5ECF6\", \"radialaxis\": {\"gridcolor\": \"white\", \"linecolor\": \"white\", \"ticks\": \"\"}}, \"scene\": {\"xaxis\": {\"backgroundcolor\": \"#E5ECF6\", \"gridcolor\": \"white\", \"gridwidth\": 2, \"linecolor\": \"white\", \"showbackground\": true, \"ticks\": \"\", \"zerolinecolor\": \"white\"}, \"yaxis\": {\"backgroundcolor\": \"#E5ECF6\", \"gridcolor\": \"white\", \"gridwidth\": 2, \"linecolor\": \"white\", \"showbackground\": true, \"ticks\": \"\", \"zerolinecolor\": \"white\"}, \"zaxis\": {\"backgroundcolor\": \"#E5ECF6\", \"gridcolor\": \"white\", \"gridwidth\": 2, \"linecolor\": \"white\", \"showbackground\": true, \"ticks\": \"\", \"zerolinecolor\": \"white\"}}, \"shapedefaults\": {\"line\": {\"color\": \"#2a3f5f\"}}, \"ternary\": {\"aaxis\": {\"gridcolor\": \"white\", \"linecolor\": \"white\", \"ticks\": \"\"}, \"baxis\": {\"gridcolor\": \"white\", \"linecolor\": \"white\", \"ticks\": \"\"}, \"bgcolor\": \"#E5ECF6\", \"caxis\": {\"gridcolor\": \"white\", \"linecolor\": \"white\", \"ticks\": \"\"}}, \"title\": {\"x\": 0.05}, \"xaxis\": {\"automargin\": true, \"gridcolor\": \"white\", \"linecolor\": \"white\", \"ticks\": \"\", \"title\": {\"standoff\": 15}, \"zerolinecolor\": \"white\", \"zerolinewidth\": 2}, \"yaxis\": {\"automargin\": true, \"gridcolor\": \"white\", \"linecolor\": \"white\", \"ticks\": \"\", \"title\": {\"standoff\": 15}, \"zerolinecolor\": \"white\", \"zerolinewidth\": 2}}}, \"title\": {\"font\": {\"color\": \"#D9D9D9\"}, \"text\": \"Most common 20 words in name\"}, \"xaxis\": {\"gridcolor\": \"#434343\", \"linecolor\": \"black\", \"showgrid\": true, \"tickfont\": {\"color\": \"#C2C2C2\"}, \"title\": {\"font\": {\"color\": \"#D9D9D9\"}, \"text\": \"Count\"}, \"zerolinecolor\": \"#666570\"}, \"yaxis\": {\"gridcolor\": \"#434343\", \"linecolor\": \"black\", \"showgrid\": true, \"tickfont\": {\"color\": \"#C2C2C2\"}, \"title\": {\"font\": {\"color\": \"#D9D9D9\"}, \"text\": \"\"}, \"zerolinecolor\": \"#666570\"}},\n",
       "                        {\"showLink\": true, \"linkText\": \"Export to plot.ly\", \"plotlyServerURL\": \"https://plot.ly\", \"responsive\": true}\n",
       "                    ).then(function(){\n",
       "                            \n",
       "var gd = document.getElementById('5d62e407-f563-4853-a537-a36aa46abc15');\n",
       "var x = new MutationObserver(function (mutations, observer) {{\n",
       "        var display = window.getComputedStyle(gd).display;\n",
       "        if (!display || display === 'none') {{\n",
       "            console.log([gd, 'removed!']);\n",
       "            Plotly.purge(gd);\n",
       "            observer.disconnect();\n",
       "        }}\n",
       "}});\n",
       "\n",
       "// Listen for the removal of the full notebook cells\n",
       "var notebookContainer = gd.closest('#notebook-container');\n",
       "if (notebookContainer) {{\n",
       "    x.observe(notebookContainer, {childList: true});\n",
       "}}\n",
       "\n",
       "// Listen for the clearing of the current output cell\n",
       "var outputEl = gd.closest('.output');\n",
       "if (outputEl) {{\n",
       "    x.observe(outputEl, {childList: true});\n",
       "}}\n",
       "\n",
       "                        })\n",
       "                };\n",
       "                });\n",
       "            </script>\n",
       "        </div>"
      ]
     },
     "metadata": {},
     "output_type": "display_data"
    }
   ],
   "source": [
    "words_freq, common_words = get_top_n_words(product_lists['cut_name'], 20)\n",
    "df1 = pd.DataFrame(common_words, columns = ['cut_name' , 'count'])\n",
    "df1.groupby('cut_name').sum()['count'].sort_values().iplot(kind='barh', xTitle='Count', linecolor='black', title='Most common 20 words in name')"
   ]
  },
  {
   "cell_type": "markdown",
   "metadata": {},
   "source": [
    "# In last output, we found there are some stop word. Need to filter out"
   ]
  },
  {
   "cell_type": "code",
   "execution_count": 22,
   "metadata": {},
   "outputs": [],
   "source": [
    "with open(\"./baidu_stopwords.txt\", encoding='utf-8') as f:\n",
    "    stop_words = f.read()\n",
    "stop_words = stop_words.split(\"\\n\")"
   ]
  },
  {
   "cell_type": "code",
   "execution_count": 23,
   "metadata": {},
   "outputs": [
    {
     "name": "stdout",
     "output_type": "stream",
     "text": [
      "Before cut the stop words: 248752\n",
      "After cut the stop words: 247924\n",
      "Cut 828 stop words\n"
     ]
    }
   ],
   "source": [
    "words_fre = pd.DataFrame(words_freq, columns = ['cut_name' , 'count'])\n",
    "words_freq_cut = words_fre[~words_fre.cut_name.isin(stop_words)]\n",
    "common_words_cut = words_freq_cut[:20]\n",
    "\n",
    "print(\"Before cut the stop words: %d\" % len(words_freq))\n",
    "print(\"After cut the stop words: %d\" % len(words_freq_cut))\n",
    "print(\"Cut %d stop words\" % (len(words_freq) - len(words_freq_cut)))"
   ]
  },
  {
   "cell_type": "code",
   "execution_count": 24,
   "metadata": {},
   "outputs": [
    {
     "data": {
      "application/vnd.plotly.v1+json": {
       "config": {
        "linkText": "Export to plot.ly",
        "plotlyServerURL": "https://plot.ly",
        "showLink": true
       },
       "data": [
        {
         "marker": {
          "color": "rgba(255, 153, 51, 0.6)",
          "line": {
           "color": "rgba(255, 153, 51, 1.0)",
           "width": 1
          }
         },
         "name": "count",
         "orientation": "h",
         "text": "",
         "type": "bar",
         "x": [
          7889,
          8337,
          8479,
          8649,
          8693,
          8791,
          8821,
          8857,
          8949,
          9121,
          9471,
          11114,
          11185,
          12129,
          13124,
          13187,
          13641,
          19182,
          24274,
          29353
         ],
         "y": [
          "女式",
          "设计",
          "时尚",
          "黑色",
          "规划",
          "全国",
          "技术",
          "2013",
          "休闲",
          "男式",
          "附光盘",
          "教程",
          "经典",
          "光盘",
          "套装",
          "英语",
          "考试",
          "中国",
          "教材",
          "系列"
         ]
        }
       ],
       "layout": {
        "legend": {
         "bgcolor": "#151516",
         "font": {
          "color": "#D9D9D9"
         }
        },
        "paper_bgcolor": "#151516",
        "plot_bgcolor": "#151516",
        "template": {
         "data": {
          "bar": [
           {
            "error_x": {
             "color": "#2a3f5f"
            },
            "error_y": {
             "color": "#2a3f5f"
            },
            "marker": {
             "line": {
              "color": "#E5ECF6",
              "width": 0.5
             }
            },
            "type": "bar"
           }
          ],
          "barpolar": [
           {
            "marker": {
             "line": {
              "color": "#E5ECF6",
              "width": 0.5
             }
            },
            "type": "barpolar"
           }
          ],
          "carpet": [
           {
            "aaxis": {
             "endlinecolor": "#2a3f5f",
             "gridcolor": "white",
             "linecolor": "white",
             "minorgridcolor": "white",
             "startlinecolor": "#2a3f5f"
            },
            "baxis": {
             "endlinecolor": "#2a3f5f",
             "gridcolor": "white",
             "linecolor": "white",
             "minorgridcolor": "white",
             "startlinecolor": "#2a3f5f"
            },
            "type": "carpet"
           }
          ],
          "choropleth": [
           {
            "colorbar": {
             "outlinewidth": 0,
             "ticks": ""
            },
            "type": "choropleth"
           }
          ],
          "contour": [
           {
            "colorbar": {
             "outlinewidth": 0,
             "ticks": ""
            },
            "colorscale": [
             [
              0,
              "#0d0887"
             ],
             [
              0.1111111111111111,
              "#46039f"
             ],
             [
              0.2222222222222222,
              "#7201a8"
             ],
             [
              0.3333333333333333,
              "#9c179e"
             ],
             [
              0.4444444444444444,
              "#bd3786"
             ],
             [
              0.5555555555555556,
              "#d8576b"
             ],
             [
              0.6666666666666666,
              "#ed7953"
             ],
             [
              0.7777777777777778,
              "#fb9f3a"
             ],
             [
              0.8888888888888888,
              "#fdca26"
             ],
             [
              1,
              "#f0f921"
             ]
            ],
            "type": "contour"
           }
          ],
          "contourcarpet": [
           {
            "colorbar": {
             "outlinewidth": 0,
             "ticks": ""
            },
            "type": "contourcarpet"
           }
          ],
          "heatmap": [
           {
            "colorbar": {
             "outlinewidth": 0,
             "ticks": ""
            },
            "colorscale": [
             [
              0,
              "#0d0887"
             ],
             [
              0.1111111111111111,
              "#46039f"
             ],
             [
              0.2222222222222222,
              "#7201a8"
             ],
             [
              0.3333333333333333,
              "#9c179e"
             ],
             [
              0.4444444444444444,
              "#bd3786"
             ],
             [
              0.5555555555555556,
              "#d8576b"
             ],
             [
              0.6666666666666666,
              "#ed7953"
             ],
             [
              0.7777777777777778,
              "#fb9f3a"
             ],
             [
              0.8888888888888888,
              "#fdca26"
             ],
             [
              1,
              "#f0f921"
             ]
            ],
            "type": "heatmap"
           }
          ],
          "heatmapgl": [
           {
            "colorbar": {
             "outlinewidth": 0,
             "ticks": ""
            },
            "colorscale": [
             [
              0,
              "#0d0887"
             ],
             [
              0.1111111111111111,
              "#46039f"
             ],
             [
              0.2222222222222222,
              "#7201a8"
             ],
             [
              0.3333333333333333,
              "#9c179e"
             ],
             [
              0.4444444444444444,
              "#bd3786"
             ],
             [
              0.5555555555555556,
              "#d8576b"
             ],
             [
              0.6666666666666666,
              "#ed7953"
             ],
             [
              0.7777777777777778,
              "#fb9f3a"
             ],
             [
              0.8888888888888888,
              "#fdca26"
             ],
             [
              1,
              "#f0f921"
             ]
            ],
            "type": "heatmapgl"
           }
          ],
          "histogram": [
           {
            "marker": {
             "colorbar": {
              "outlinewidth": 0,
              "ticks": ""
             }
            },
            "type": "histogram"
           }
          ],
          "histogram2d": [
           {
            "colorbar": {
             "outlinewidth": 0,
             "ticks": ""
            },
            "colorscale": [
             [
              0,
              "#0d0887"
             ],
             [
              0.1111111111111111,
              "#46039f"
             ],
             [
              0.2222222222222222,
              "#7201a8"
             ],
             [
              0.3333333333333333,
              "#9c179e"
             ],
             [
              0.4444444444444444,
              "#bd3786"
             ],
             [
              0.5555555555555556,
              "#d8576b"
             ],
             [
              0.6666666666666666,
              "#ed7953"
             ],
             [
              0.7777777777777778,
              "#fb9f3a"
             ],
             [
              0.8888888888888888,
              "#fdca26"
             ],
             [
              1,
              "#f0f921"
             ]
            ],
            "type": "histogram2d"
           }
          ],
          "histogram2dcontour": [
           {
            "colorbar": {
             "outlinewidth": 0,
             "ticks": ""
            },
            "colorscale": [
             [
              0,
              "#0d0887"
             ],
             [
              0.1111111111111111,
              "#46039f"
             ],
             [
              0.2222222222222222,
              "#7201a8"
             ],
             [
              0.3333333333333333,
              "#9c179e"
             ],
             [
              0.4444444444444444,
              "#bd3786"
             ],
             [
              0.5555555555555556,
              "#d8576b"
             ],
             [
              0.6666666666666666,
              "#ed7953"
             ],
             [
              0.7777777777777778,
              "#fb9f3a"
             ],
             [
              0.8888888888888888,
              "#fdca26"
             ],
             [
              1,
              "#f0f921"
             ]
            ],
            "type": "histogram2dcontour"
           }
          ],
          "mesh3d": [
           {
            "colorbar": {
             "outlinewidth": 0,
             "ticks": ""
            },
            "type": "mesh3d"
           }
          ],
          "parcoords": [
           {
            "line": {
             "colorbar": {
              "outlinewidth": 0,
              "ticks": ""
             }
            },
            "type": "parcoords"
           }
          ],
          "pie": [
           {
            "automargin": true,
            "type": "pie"
           }
          ],
          "scatter": [
           {
            "marker": {
             "colorbar": {
              "outlinewidth": 0,
              "ticks": ""
             }
            },
            "type": "scatter"
           }
          ],
          "scatter3d": [
           {
            "line": {
             "colorbar": {
              "outlinewidth": 0,
              "ticks": ""
             }
            },
            "marker": {
             "colorbar": {
              "outlinewidth": 0,
              "ticks": ""
             }
            },
            "type": "scatter3d"
           }
          ],
          "scattercarpet": [
           {
            "marker": {
             "colorbar": {
              "outlinewidth": 0,
              "ticks": ""
             }
            },
            "type": "scattercarpet"
           }
          ],
          "scattergeo": [
           {
            "marker": {
             "colorbar": {
              "outlinewidth": 0,
              "ticks": ""
             }
            },
            "type": "scattergeo"
           }
          ],
          "scattergl": [
           {
            "marker": {
             "colorbar": {
              "outlinewidth": 0,
              "ticks": ""
             }
            },
            "type": "scattergl"
           }
          ],
          "scattermapbox": [
           {
            "marker": {
             "colorbar": {
              "outlinewidth": 0,
              "ticks": ""
             }
            },
            "type": "scattermapbox"
           }
          ],
          "scatterpolar": [
           {
            "marker": {
             "colorbar": {
              "outlinewidth": 0,
              "ticks": ""
             }
            },
            "type": "scatterpolar"
           }
          ],
          "scatterpolargl": [
           {
            "marker": {
             "colorbar": {
              "outlinewidth": 0,
              "ticks": ""
             }
            },
            "type": "scatterpolargl"
           }
          ],
          "scatterternary": [
           {
            "marker": {
             "colorbar": {
              "outlinewidth": 0,
              "ticks": ""
             }
            },
            "type": "scatterternary"
           }
          ],
          "surface": [
           {
            "colorbar": {
             "outlinewidth": 0,
             "ticks": ""
            },
            "colorscale": [
             [
              0,
              "#0d0887"
             ],
             [
              0.1111111111111111,
              "#46039f"
             ],
             [
              0.2222222222222222,
              "#7201a8"
             ],
             [
              0.3333333333333333,
              "#9c179e"
             ],
             [
              0.4444444444444444,
              "#bd3786"
             ],
             [
              0.5555555555555556,
              "#d8576b"
             ],
             [
              0.6666666666666666,
              "#ed7953"
             ],
             [
              0.7777777777777778,
              "#fb9f3a"
             ],
             [
              0.8888888888888888,
              "#fdca26"
             ],
             [
              1,
              "#f0f921"
             ]
            ],
            "type": "surface"
           }
          ],
          "table": [
           {
            "cells": {
             "fill": {
              "color": "#EBF0F8"
             },
             "line": {
              "color": "white"
             }
            },
            "header": {
             "fill": {
              "color": "#C8D4E3"
             },
             "line": {
              "color": "white"
             }
            },
            "type": "table"
           }
          ]
         },
         "layout": {
          "annotationdefaults": {
           "arrowcolor": "#2a3f5f",
           "arrowhead": 0,
           "arrowwidth": 1
          },
          "coloraxis": {
           "colorbar": {
            "outlinewidth": 0,
            "ticks": ""
           }
          },
          "colorscale": {
           "diverging": [
            [
             0,
             "#8e0152"
            ],
            [
             0.1,
             "#c51b7d"
            ],
            [
             0.2,
             "#de77ae"
            ],
            [
             0.3,
             "#f1b6da"
            ],
            [
             0.4,
             "#fde0ef"
            ],
            [
             0.5,
             "#f7f7f7"
            ],
            [
             0.6,
             "#e6f5d0"
            ],
            [
             0.7,
             "#b8e186"
            ],
            [
             0.8,
             "#7fbc41"
            ],
            [
             0.9,
             "#4d9221"
            ],
            [
             1,
             "#276419"
            ]
           ],
           "sequential": [
            [
             0,
             "#0d0887"
            ],
            [
             0.1111111111111111,
             "#46039f"
            ],
            [
             0.2222222222222222,
             "#7201a8"
            ],
            [
             0.3333333333333333,
             "#9c179e"
            ],
            [
             0.4444444444444444,
             "#bd3786"
            ],
            [
             0.5555555555555556,
             "#d8576b"
            ],
            [
             0.6666666666666666,
             "#ed7953"
            ],
            [
             0.7777777777777778,
             "#fb9f3a"
            ],
            [
             0.8888888888888888,
             "#fdca26"
            ],
            [
             1,
             "#f0f921"
            ]
           ],
           "sequentialminus": [
            [
             0,
             "#0d0887"
            ],
            [
             0.1111111111111111,
             "#46039f"
            ],
            [
             0.2222222222222222,
             "#7201a8"
            ],
            [
             0.3333333333333333,
             "#9c179e"
            ],
            [
             0.4444444444444444,
             "#bd3786"
            ],
            [
             0.5555555555555556,
             "#d8576b"
            ],
            [
             0.6666666666666666,
             "#ed7953"
            ],
            [
             0.7777777777777778,
             "#fb9f3a"
            ],
            [
             0.8888888888888888,
             "#fdca26"
            ],
            [
             1,
             "#f0f921"
            ]
           ]
          },
          "colorway": [
           "#636efa",
           "#EF553B",
           "#00cc96",
           "#ab63fa",
           "#FFA15A",
           "#19d3f3",
           "#FF6692",
           "#B6E880",
           "#FF97FF",
           "#FECB52"
          ],
          "font": {
           "color": "#2a3f5f"
          },
          "geo": {
           "bgcolor": "white",
           "lakecolor": "white",
           "landcolor": "#E5ECF6",
           "showlakes": true,
           "showland": true,
           "subunitcolor": "white"
          },
          "hoverlabel": {
           "align": "left"
          },
          "hovermode": "closest",
          "mapbox": {
           "style": "light"
          },
          "paper_bgcolor": "white",
          "plot_bgcolor": "#E5ECF6",
          "polar": {
           "angularaxis": {
            "gridcolor": "white",
            "linecolor": "white",
            "ticks": ""
           },
           "bgcolor": "#E5ECF6",
           "radialaxis": {
            "gridcolor": "white",
            "linecolor": "white",
            "ticks": ""
           }
          },
          "scene": {
           "xaxis": {
            "backgroundcolor": "#E5ECF6",
            "gridcolor": "white",
            "gridwidth": 2,
            "linecolor": "white",
            "showbackground": true,
            "ticks": "",
            "zerolinecolor": "white"
           },
           "yaxis": {
            "backgroundcolor": "#E5ECF6",
            "gridcolor": "white",
            "gridwidth": 2,
            "linecolor": "white",
            "showbackground": true,
            "ticks": "",
            "zerolinecolor": "white"
           },
           "zaxis": {
            "backgroundcolor": "#E5ECF6",
            "gridcolor": "white",
            "gridwidth": 2,
            "linecolor": "white",
            "showbackground": true,
            "ticks": "",
            "zerolinecolor": "white"
           }
          },
          "shapedefaults": {
           "line": {
            "color": "#2a3f5f"
           }
          },
          "ternary": {
           "aaxis": {
            "gridcolor": "white",
            "linecolor": "white",
            "ticks": ""
           },
           "baxis": {
            "gridcolor": "white",
            "linecolor": "white",
            "ticks": ""
           },
           "bgcolor": "#E5ECF6",
           "caxis": {
            "gridcolor": "white",
            "linecolor": "white",
            "ticks": ""
           }
          },
          "title": {
           "x": 0.05
          },
          "xaxis": {
           "automargin": true,
           "gridcolor": "white",
           "linecolor": "white",
           "ticks": "",
           "title": {
            "standoff": 15
           },
           "zerolinecolor": "white",
           "zerolinewidth": 2
          },
          "yaxis": {
           "automargin": true,
           "gridcolor": "white",
           "linecolor": "white",
           "ticks": "",
           "title": {
            "standoff": 15
           },
           "zerolinecolor": "white",
           "zerolinewidth": 2
          }
         }
        },
        "title": {
         "font": {
          "color": "#D9D9D9"
         },
         "text": "Most common 20 words in name after filter stop words"
        },
        "xaxis": {
         "gridcolor": "#434343",
         "linecolor": "black",
         "showgrid": true,
         "tickfont": {
          "color": "#C2C2C2"
         },
         "title": {
          "font": {
           "color": "#D9D9D9"
          },
          "text": "Count"
         },
         "zerolinecolor": "#666570"
        },
        "yaxis": {
         "gridcolor": "#434343",
         "linecolor": "black",
         "showgrid": true,
         "tickfont": {
          "color": "#C2C2C2"
         },
         "title": {
          "font": {
           "color": "#D9D9D9"
          },
          "text": ""
         },
         "zerolinecolor": "#666570"
        }
       }
      },
      "text/html": [
       "<div>\n",
       "        \n",
       "        \n",
       "            <div id=\"09782a82-fa8f-4003-ae84-cfce233f1267\" class=\"plotly-graph-div\" style=\"height:525px; width:100%;\"></div>\n",
       "            <script type=\"text/javascript\">\n",
       "                require([\"plotly\"], function(Plotly) {\n",
       "                    window.PLOTLYENV=window.PLOTLYENV || {};\n",
       "                    window.PLOTLYENV.BASE_URL='https://plot.ly';\n",
       "                    \n",
       "                if (document.getElementById(\"09782a82-fa8f-4003-ae84-cfce233f1267\")) {\n",
       "                    Plotly.newPlot(\n",
       "                        '09782a82-fa8f-4003-ae84-cfce233f1267',\n",
       "                        [{\"marker\": {\"color\": \"rgba(255, 153, 51, 0.6)\", \"line\": {\"color\": \"rgba(255, 153, 51, 1.0)\", \"width\": 1}}, \"name\": \"count\", \"orientation\": \"h\", \"text\": \"\", \"type\": \"bar\", \"x\": [7889, 8337, 8479, 8649, 8693, 8791, 8821, 8857, 8949, 9121, 9471, 11114, 11185, 12129, 13124, 13187, 13641, 19182, 24274, 29353], \"y\": [\"\\u5973\\u5f0f\", \"\\u8bbe\\u8ba1\", \"\\u65f6\\u5c1a\", \"\\u9ed1\\u8272\", \"\\u89c4\\u5212\", \"\\u5168\\u56fd\", \"\\u6280\\u672f\", \"2013\", \"\\u4f11\\u95f2\", \"\\u7537\\u5f0f\", \"\\u9644\\u5149\\u76d8\", \"\\u6559\\u7a0b\", \"\\u7ecf\\u5178\", \"\\u5149\\u76d8\", \"\\u5957\\u88c5\", \"\\u82f1\\u8bed\", \"\\u8003\\u8bd5\", \"\\u4e2d\\u56fd\", \"\\u6559\\u6750\", \"\\u7cfb\\u5217\"]}],\n",
       "                        {\"legend\": {\"bgcolor\": \"#151516\", \"font\": {\"color\": \"#D9D9D9\"}}, \"paper_bgcolor\": \"#151516\", \"plot_bgcolor\": \"#151516\", \"template\": {\"data\": {\"bar\": [{\"error_x\": {\"color\": \"#2a3f5f\"}, \"error_y\": {\"color\": \"#2a3f5f\"}, \"marker\": {\"line\": {\"color\": \"#E5ECF6\", \"width\": 0.5}}, \"type\": \"bar\"}], \"barpolar\": [{\"marker\": {\"line\": {\"color\": \"#E5ECF6\", \"width\": 0.5}}, \"type\": \"barpolar\"}], \"carpet\": [{\"aaxis\": {\"endlinecolor\": \"#2a3f5f\", \"gridcolor\": \"white\", \"linecolor\": \"white\", \"minorgridcolor\": \"white\", \"startlinecolor\": \"#2a3f5f\"}, \"baxis\": {\"endlinecolor\": \"#2a3f5f\", \"gridcolor\": \"white\", \"linecolor\": \"white\", \"minorgridcolor\": \"white\", \"startlinecolor\": \"#2a3f5f\"}, \"type\": \"carpet\"}], \"choropleth\": [{\"colorbar\": {\"outlinewidth\": 0, \"ticks\": \"\"}, \"type\": \"choropleth\"}], \"contour\": [{\"colorbar\": {\"outlinewidth\": 0, \"ticks\": \"\"}, \"colorscale\": [[0.0, \"#0d0887\"], [0.1111111111111111, \"#46039f\"], [0.2222222222222222, \"#7201a8\"], [0.3333333333333333, \"#9c179e\"], [0.4444444444444444, \"#bd3786\"], [0.5555555555555556, \"#d8576b\"], [0.6666666666666666, \"#ed7953\"], [0.7777777777777778, \"#fb9f3a\"], [0.8888888888888888, \"#fdca26\"], [1.0, \"#f0f921\"]], \"type\": \"contour\"}], \"contourcarpet\": [{\"colorbar\": {\"outlinewidth\": 0, \"ticks\": \"\"}, \"type\": \"contourcarpet\"}], \"heatmap\": [{\"colorbar\": {\"outlinewidth\": 0, \"ticks\": \"\"}, \"colorscale\": [[0.0, \"#0d0887\"], [0.1111111111111111, \"#46039f\"], [0.2222222222222222, \"#7201a8\"], [0.3333333333333333, \"#9c179e\"], [0.4444444444444444, \"#bd3786\"], [0.5555555555555556, \"#d8576b\"], [0.6666666666666666, \"#ed7953\"], [0.7777777777777778, \"#fb9f3a\"], [0.8888888888888888, \"#fdca26\"], [1.0, \"#f0f921\"]], \"type\": \"heatmap\"}], \"heatmapgl\": [{\"colorbar\": {\"outlinewidth\": 0, \"ticks\": \"\"}, \"colorscale\": [[0.0, \"#0d0887\"], [0.1111111111111111, \"#46039f\"], [0.2222222222222222, \"#7201a8\"], [0.3333333333333333, \"#9c179e\"], [0.4444444444444444, \"#bd3786\"], [0.5555555555555556, \"#d8576b\"], [0.6666666666666666, \"#ed7953\"], [0.7777777777777778, \"#fb9f3a\"], [0.8888888888888888, \"#fdca26\"], [1.0, \"#f0f921\"]], \"type\": \"heatmapgl\"}], \"histogram\": [{\"marker\": {\"colorbar\": {\"outlinewidth\": 0, \"ticks\": \"\"}}, \"type\": \"histogram\"}], \"histogram2d\": [{\"colorbar\": {\"outlinewidth\": 0, \"ticks\": \"\"}, \"colorscale\": [[0.0, \"#0d0887\"], [0.1111111111111111, \"#46039f\"], [0.2222222222222222, \"#7201a8\"], [0.3333333333333333, \"#9c179e\"], [0.4444444444444444, \"#bd3786\"], [0.5555555555555556, \"#d8576b\"], [0.6666666666666666, \"#ed7953\"], [0.7777777777777778, \"#fb9f3a\"], [0.8888888888888888, \"#fdca26\"], [1.0, \"#f0f921\"]], \"type\": \"histogram2d\"}], \"histogram2dcontour\": [{\"colorbar\": {\"outlinewidth\": 0, \"ticks\": \"\"}, \"colorscale\": [[0.0, \"#0d0887\"], [0.1111111111111111, \"#46039f\"], [0.2222222222222222, \"#7201a8\"], [0.3333333333333333, \"#9c179e\"], [0.4444444444444444, \"#bd3786\"], [0.5555555555555556, \"#d8576b\"], [0.6666666666666666, \"#ed7953\"], [0.7777777777777778, \"#fb9f3a\"], [0.8888888888888888, \"#fdca26\"], [1.0, \"#f0f921\"]], \"type\": \"histogram2dcontour\"}], \"mesh3d\": [{\"colorbar\": {\"outlinewidth\": 0, \"ticks\": \"\"}, \"type\": \"mesh3d\"}], \"parcoords\": [{\"line\": {\"colorbar\": {\"outlinewidth\": 0, \"ticks\": \"\"}}, \"type\": \"parcoords\"}], \"pie\": [{\"automargin\": true, \"type\": \"pie\"}], \"scatter\": [{\"marker\": {\"colorbar\": {\"outlinewidth\": 0, \"ticks\": \"\"}}, \"type\": \"scatter\"}], \"scatter3d\": [{\"line\": {\"colorbar\": {\"outlinewidth\": 0, \"ticks\": \"\"}}, \"marker\": {\"colorbar\": {\"outlinewidth\": 0, \"ticks\": \"\"}}, \"type\": \"scatter3d\"}], \"scattercarpet\": [{\"marker\": {\"colorbar\": {\"outlinewidth\": 0, \"ticks\": \"\"}}, \"type\": \"scattercarpet\"}], \"scattergeo\": [{\"marker\": {\"colorbar\": {\"outlinewidth\": 0, \"ticks\": \"\"}}, \"type\": \"scattergeo\"}], \"scattergl\": [{\"marker\": {\"colorbar\": {\"outlinewidth\": 0, \"ticks\": \"\"}}, \"type\": \"scattergl\"}], \"scattermapbox\": [{\"marker\": {\"colorbar\": {\"outlinewidth\": 0, \"ticks\": \"\"}}, \"type\": \"scattermapbox\"}], \"scatterpolar\": [{\"marker\": {\"colorbar\": {\"outlinewidth\": 0, \"ticks\": \"\"}}, \"type\": \"scatterpolar\"}], \"scatterpolargl\": [{\"marker\": {\"colorbar\": {\"outlinewidth\": 0, \"ticks\": \"\"}}, \"type\": \"scatterpolargl\"}], \"scatterternary\": [{\"marker\": {\"colorbar\": {\"outlinewidth\": 0, \"ticks\": \"\"}}, \"type\": \"scatterternary\"}], \"surface\": [{\"colorbar\": {\"outlinewidth\": 0, \"ticks\": \"\"}, \"colorscale\": [[0.0, \"#0d0887\"], [0.1111111111111111, \"#46039f\"], [0.2222222222222222, \"#7201a8\"], [0.3333333333333333, \"#9c179e\"], [0.4444444444444444, \"#bd3786\"], [0.5555555555555556, \"#d8576b\"], [0.6666666666666666, \"#ed7953\"], [0.7777777777777778, \"#fb9f3a\"], [0.8888888888888888, \"#fdca26\"], [1.0, \"#f0f921\"]], \"type\": \"surface\"}], \"table\": [{\"cells\": {\"fill\": {\"color\": \"#EBF0F8\"}, \"line\": {\"color\": \"white\"}}, \"header\": {\"fill\": {\"color\": \"#C8D4E3\"}, \"line\": {\"color\": \"white\"}}, \"type\": \"table\"}]}, \"layout\": {\"annotationdefaults\": {\"arrowcolor\": \"#2a3f5f\", \"arrowhead\": 0, \"arrowwidth\": 1}, \"coloraxis\": {\"colorbar\": {\"outlinewidth\": 0, \"ticks\": \"\"}}, \"colorscale\": {\"diverging\": [[0, \"#8e0152\"], [0.1, \"#c51b7d\"], [0.2, \"#de77ae\"], [0.3, \"#f1b6da\"], [0.4, \"#fde0ef\"], [0.5, \"#f7f7f7\"], [0.6, \"#e6f5d0\"], [0.7, \"#b8e186\"], [0.8, \"#7fbc41\"], [0.9, \"#4d9221\"], [1, \"#276419\"]], \"sequential\": [[0.0, \"#0d0887\"], [0.1111111111111111, \"#46039f\"], [0.2222222222222222, \"#7201a8\"], [0.3333333333333333, \"#9c179e\"], [0.4444444444444444, \"#bd3786\"], [0.5555555555555556, \"#d8576b\"], [0.6666666666666666, \"#ed7953\"], [0.7777777777777778, \"#fb9f3a\"], [0.8888888888888888, \"#fdca26\"], [1.0, \"#f0f921\"]], \"sequentialminus\": [[0.0, \"#0d0887\"], [0.1111111111111111, \"#46039f\"], [0.2222222222222222, \"#7201a8\"], [0.3333333333333333, \"#9c179e\"], [0.4444444444444444, \"#bd3786\"], [0.5555555555555556, \"#d8576b\"], [0.6666666666666666, \"#ed7953\"], [0.7777777777777778, \"#fb9f3a\"], [0.8888888888888888, \"#fdca26\"], [1.0, \"#f0f921\"]]}, \"colorway\": [\"#636efa\", \"#EF553B\", \"#00cc96\", \"#ab63fa\", \"#FFA15A\", \"#19d3f3\", \"#FF6692\", \"#B6E880\", \"#FF97FF\", \"#FECB52\"], \"font\": {\"color\": \"#2a3f5f\"}, \"geo\": {\"bgcolor\": \"white\", \"lakecolor\": \"white\", \"landcolor\": \"#E5ECF6\", \"showlakes\": true, \"showland\": true, \"subunitcolor\": \"white\"}, \"hoverlabel\": {\"align\": \"left\"}, \"hovermode\": \"closest\", \"mapbox\": {\"style\": \"light\"}, \"paper_bgcolor\": \"white\", \"plot_bgcolor\": \"#E5ECF6\", \"polar\": {\"angularaxis\": {\"gridcolor\": \"white\", \"linecolor\": \"white\", \"ticks\": \"\"}, \"bgcolor\": \"#E5ECF6\", \"radialaxis\": {\"gridcolor\": \"white\", \"linecolor\": \"white\", \"ticks\": \"\"}}, \"scene\": {\"xaxis\": {\"backgroundcolor\": \"#E5ECF6\", \"gridcolor\": \"white\", \"gridwidth\": 2, \"linecolor\": \"white\", \"showbackground\": true, \"ticks\": \"\", \"zerolinecolor\": \"white\"}, \"yaxis\": {\"backgroundcolor\": \"#E5ECF6\", \"gridcolor\": \"white\", \"gridwidth\": 2, \"linecolor\": \"white\", \"showbackground\": true, \"ticks\": \"\", \"zerolinecolor\": \"white\"}, \"zaxis\": {\"backgroundcolor\": \"#E5ECF6\", \"gridcolor\": \"white\", \"gridwidth\": 2, \"linecolor\": \"white\", \"showbackground\": true, \"ticks\": \"\", \"zerolinecolor\": \"white\"}}, \"shapedefaults\": {\"line\": {\"color\": \"#2a3f5f\"}}, \"ternary\": {\"aaxis\": {\"gridcolor\": \"white\", \"linecolor\": \"white\", \"ticks\": \"\"}, \"baxis\": {\"gridcolor\": \"white\", \"linecolor\": \"white\", \"ticks\": \"\"}, \"bgcolor\": \"#E5ECF6\", \"caxis\": {\"gridcolor\": \"white\", \"linecolor\": \"white\", \"ticks\": \"\"}}, \"title\": {\"x\": 0.05}, \"xaxis\": {\"automargin\": true, \"gridcolor\": \"white\", \"linecolor\": \"white\", \"ticks\": \"\", \"title\": {\"standoff\": 15}, \"zerolinecolor\": \"white\", \"zerolinewidth\": 2}, \"yaxis\": {\"automargin\": true, \"gridcolor\": \"white\", \"linecolor\": \"white\", \"ticks\": \"\", \"title\": {\"standoff\": 15}, \"zerolinecolor\": \"white\", \"zerolinewidth\": 2}}}, \"title\": {\"font\": {\"color\": \"#D9D9D9\"}, \"text\": \"Most common 20 words in name after filter stop words\"}, \"xaxis\": {\"gridcolor\": \"#434343\", \"linecolor\": \"black\", \"showgrid\": true, \"tickfont\": {\"color\": \"#C2C2C2\"}, \"title\": {\"font\": {\"color\": \"#D9D9D9\"}, \"text\": \"Count\"}, \"zerolinecolor\": \"#666570\"}, \"yaxis\": {\"gridcolor\": \"#434343\", \"linecolor\": \"black\", \"showgrid\": true, \"tickfont\": {\"color\": \"#C2C2C2\"}, \"title\": {\"font\": {\"color\": \"#D9D9D9\"}, \"text\": \"\"}, \"zerolinecolor\": \"#666570\"}},\n",
       "                        {\"showLink\": true, \"linkText\": \"Export to plot.ly\", \"plotlyServerURL\": \"https://plot.ly\", \"responsive\": true}\n",
       "                    ).then(function(){\n",
       "                            \n",
       "var gd = document.getElementById('09782a82-fa8f-4003-ae84-cfce233f1267');\n",
       "var x = new MutationObserver(function (mutations, observer) {{\n",
       "        var display = window.getComputedStyle(gd).display;\n",
       "        if (!display || display === 'none') {{\n",
       "            console.log([gd, 'removed!']);\n",
       "            Plotly.purge(gd);\n",
       "            observer.disconnect();\n",
       "        }}\n",
       "}});\n",
       "\n",
       "// Listen for the removal of the full notebook cells\n",
       "var notebookContainer = gd.closest('#notebook-container');\n",
       "if (notebookContainer) {{\n",
       "    x.observe(notebookContainer, {childList: true});\n",
       "}}\n",
       "\n",
       "// Listen for the clearing of the current output cell\n",
       "var outputEl = gd.closest('.output');\n",
       "if (outputEl) {{\n",
       "    x.observe(outputEl, {childList: true});\n",
       "}}\n",
       "\n",
       "                        })\n",
       "                };\n",
       "                });\n",
       "            </script>\n",
       "        </div>"
      ]
     },
     "metadata": {},
     "output_type": "display_data"
    }
   ],
   "source": [
    "df2 = pd.DataFrame(common_words_cut, columns = ['cut_name' , 'count'])\n",
    "df2.groupby('cut_name').sum()['count'].sort_values().iplot(kind='barh', xTitle='Count', linecolor='black', title='Most common 20 words in name after filter stop words')"
   ]
  },
  {
   "cell_type": "code",
   "execution_count": 15,
   "metadata": {},
   "outputs": [
    {
     "name": "stderr",
     "output_type": "stream",
     "text": [
      "D:\\System\\Users\\mb95540\\AppData\\Local\\Continuum\\anaconda3\\lib\\site-packages\\ipykernel_launcher.py:2: FutureWarning:\n",
      "\n",
      "The signature of `Series.to_csv` was aligned to that of `DataFrame.to_csv`, and argument 'header' will change its default value from False to True: please pass an explicit value to suppress this warning.\n",
      "\n"
     ]
    }
   ],
   "source": [
    "#top_20_word = df2.groupby('cut_name').sum()['count'].sort_values(ascending=False)\n",
    "#top_20_word.to_csv('./top_20_word1.csv', encoding=\"utf_8_sig\")"
   ]
  },
  {
   "cell_type": "code",
   "execution_count": 56,
   "metadata": {},
   "outputs": [
    {
     "data": {
      "application/vnd.plotly.v1+json": {
       "config": {
        "linkText": "Export to plot.ly",
        "plotlyServerURL": "https://plot.ly",
        "showLink": true
       },
       "data": [
        {
         "marker": {
          "color": "rgba(255, 153, 51, 0.6)",
          "line": {
           "color": "rgba(255, 153, 51, 1.0)",
           "width": 1
          }
         },
         "name": "count",
         "orientation": "v",
         "text": "",
         "type": "bar",
         "x": [
          "规划 教材",
          "系列 教材",
          "普通 高等教育",
          "mp3 光盘",
          "考试 专用",
          "21 世纪",
          "专用 教材",
          "dvd 光盘",
          "国家级 规划",
          "高等教育 十一五",
          "历年 真题",
          "十一五 国家级",
          "cd 光盘",
          "录用 考试",
          "公务员 录用",
          "套装 上下册",
          "大学 英语",
          "预测 试卷",
          "nike 耐克",
          "休闲 运动鞋"
         ],
         "y": [
          7850,
          3793,
          3556,
          3478,
          3259,
          3177,
          2861,
          2843,
          2500,
          2362,
          2131,
          2120,
          1866,
          1851,
          1769,
          1647,
          1634,
          1486,
          1480,
          1296
         ]
        }
       ],
       "layout": {
        "legend": {
         "bgcolor": "#151516",
         "font": {
          "color": "#D9D9D9"
         }
        },
        "paper_bgcolor": "#151516",
        "plot_bgcolor": "#151516",
        "template": {
         "data": {
          "bar": [
           {
            "error_x": {
             "color": "#2a3f5f"
            },
            "error_y": {
             "color": "#2a3f5f"
            },
            "marker": {
             "line": {
              "color": "#E5ECF6",
              "width": 0.5
             }
            },
            "type": "bar"
           }
          ],
          "barpolar": [
           {
            "marker": {
             "line": {
              "color": "#E5ECF6",
              "width": 0.5
             }
            },
            "type": "barpolar"
           }
          ],
          "carpet": [
           {
            "aaxis": {
             "endlinecolor": "#2a3f5f",
             "gridcolor": "white",
             "linecolor": "white",
             "minorgridcolor": "white",
             "startlinecolor": "#2a3f5f"
            },
            "baxis": {
             "endlinecolor": "#2a3f5f",
             "gridcolor": "white",
             "linecolor": "white",
             "minorgridcolor": "white",
             "startlinecolor": "#2a3f5f"
            },
            "type": "carpet"
           }
          ],
          "choropleth": [
           {
            "colorbar": {
             "outlinewidth": 0,
             "ticks": ""
            },
            "type": "choropleth"
           }
          ],
          "contour": [
           {
            "colorbar": {
             "outlinewidth": 0,
             "ticks": ""
            },
            "colorscale": [
             [
              0,
              "#0d0887"
             ],
             [
              0.1111111111111111,
              "#46039f"
             ],
             [
              0.2222222222222222,
              "#7201a8"
             ],
             [
              0.3333333333333333,
              "#9c179e"
             ],
             [
              0.4444444444444444,
              "#bd3786"
             ],
             [
              0.5555555555555556,
              "#d8576b"
             ],
             [
              0.6666666666666666,
              "#ed7953"
             ],
             [
              0.7777777777777778,
              "#fb9f3a"
             ],
             [
              0.8888888888888888,
              "#fdca26"
             ],
             [
              1,
              "#f0f921"
             ]
            ],
            "type": "contour"
           }
          ],
          "contourcarpet": [
           {
            "colorbar": {
             "outlinewidth": 0,
             "ticks": ""
            },
            "type": "contourcarpet"
           }
          ],
          "heatmap": [
           {
            "colorbar": {
             "outlinewidth": 0,
             "ticks": ""
            },
            "colorscale": [
             [
              0,
              "#0d0887"
             ],
             [
              0.1111111111111111,
              "#46039f"
             ],
             [
              0.2222222222222222,
              "#7201a8"
             ],
             [
              0.3333333333333333,
              "#9c179e"
             ],
             [
              0.4444444444444444,
              "#bd3786"
             ],
             [
              0.5555555555555556,
              "#d8576b"
             ],
             [
              0.6666666666666666,
              "#ed7953"
             ],
             [
              0.7777777777777778,
              "#fb9f3a"
             ],
             [
              0.8888888888888888,
              "#fdca26"
             ],
             [
              1,
              "#f0f921"
             ]
            ],
            "type": "heatmap"
           }
          ],
          "heatmapgl": [
           {
            "colorbar": {
             "outlinewidth": 0,
             "ticks": ""
            },
            "colorscale": [
             [
              0,
              "#0d0887"
             ],
             [
              0.1111111111111111,
              "#46039f"
             ],
             [
              0.2222222222222222,
              "#7201a8"
             ],
             [
              0.3333333333333333,
              "#9c179e"
             ],
             [
              0.4444444444444444,
              "#bd3786"
             ],
             [
              0.5555555555555556,
              "#d8576b"
             ],
             [
              0.6666666666666666,
              "#ed7953"
             ],
             [
              0.7777777777777778,
              "#fb9f3a"
             ],
             [
              0.8888888888888888,
              "#fdca26"
             ],
             [
              1,
              "#f0f921"
             ]
            ],
            "type": "heatmapgl"
           }
          ],
          "histogram": [
           {
            "marker": {
             "colorbar": {
              "outlinewidth": 0,
              "ticks": ""
             }
            },
            "type": "histogram"
           }
          ],
          "histogram2d": [
           {
            "colorbar": {
             "outlinewidth": 0,
             "ticks": ""
            },
            "colorscale": [
             [
              0,
              "#0d0887"
             ],
             [
              0.1111111111111111,
              "#46039f"
             ],
             [
              0.2222222222222222,
              "#7201a8"
             ],
             [
              0.3333333333333333,
              "#9c179e"
             ],
             [
              0.4444444444444444,
              "#bd3786"
             ],
             [
              0.5555555555555556,
              "#d8576b"
             ],
             [
              0.6666666666666666,
              "#ed7953"
             ],
             [
              0.7777777777777778,
              "#fb9f3a"
             ],
             [
              0.8888888888888888,
              "#fdca26"
             ],
             [
              1,
              "#f0f921"
             ]
            ],
            "type": "histogram2d"
           }
          ],
          "histogram2dcontour": [
           {
            "colorbar": {
             "outlinewidth": 0,
             "ticks": ""
            },
            "colorscale": [
             [
              0,
              "#0d0887"
             ],
             [
              0.1111111111111111,
              "#46039f"
             ],
             [
              0.2222222222222222,
              "#7201a8"
             ],
             [
              0.3333333333333333,
              "#9c179e"
             ],
             [
              0.4444444444444444,
              "#bd3786"
             ],
             [
              0.5555555555555556,
              "#d8576b"
             ],
             [
              0.6666666666666666,
              "#ed7953"
             ],
             [
              0.7777777777777778,
              "#fb9f3a"
             ],
             [
              0.8888888888888888,
              "#fdca26"
             ],
             [
              1,
              "#f0f921"
             ]
            ],
            "type": "histogram2dcontour"
           }
          ],
          "mesh3d": [
           {
            "colorbar": {
             "outlinewidth": 0,
             "ticks": ""
            },
            "type": "mesh3d"
           }
          ],
          "parcoords": [
           {
            "line": {
             "colorbar": {
              "outlinewidth": 0,
              "ticks": ""
             }
            },
            "type": "parcoords"
           }
          ],
          "pie": [
           {
            "automargin": true,
            "type": "pie"
           }
          ],
          "scatter": [
           {
            "marker": {
             "colorbar": {
              "outlinewidth": 0,
              "ticks": ""
             }
            },
            "type": "scatter"
           }
          ],
          "scatter3d": [
           {
            "line": {
             "colorbar": {
              "outlinewidth": 0,
              "ticks": ""
             }
            },
            "marker": {
             "colorbar": {
              "outlinewidth": 0,
              "ticks": ""
             }
            },
            "type": "scatter3d"
           }
          ],
          "scattercarpet": [
           {
            "marker": {
             "colorbar": {
              "outlinewidth": 0,
              "ticks": ""
             }
            },
            "type": "scattercarpet"
           }
          ],
          "scattergeo": [
           {
            "marker": {
             "colorbar": {
              "outlinewidth": 0,
              "ticks": ""
             }
            },
            "type": "scattergeo"
           }
          ],
          "scattergl": [
           {
            "marker": {
             "colorbar": {
              "outlinewidth": 0,
              "ticks": ""
             }
            },
            "type": "scattergl"
           }
          ],
          "scattermapbox": [
           {
            "marker": {
             "colorbar": {
              "outlinewidth": 0,
              "ticks": ""
             }
            },
            "type": "scattermapbox"
           }
          ],
          "scatterpolar": [
           {
            "marker": {
             "colorbar": {
              "outlinewidth": 0,
              "ticks": ""
             }
            },
            "type": "scatterpolar"
           }
          ],
          "scatterpolargl": [
           {
            "marker": {
             "colorbar": {
              "outlinewidth": 0,
              "ticks": ""
             }
            },
            "type": "scatterpolargl"
           }
          ],
          "scatterternary": [
           {
            "marker": {
             "colorbar": {
              "outlinewidth": 0,
              "ticks": ""
             }
            },
            "type": "scatterternary"
           }
          ],
          "surface": [
           {
            "colorbar": {
             "outlinewidth": 0,
             "ticks": ""
            },
            "colorscale": [
             [
              0,
              "#0d0887"
             ],
             [
              0.1111111111111111,
              "#46039f"
             ],
             [
              0.2222222222222222,
              "#7201a8"
             ],
             [
              0.3333333333333333,
              "#9c179e"
             ],
             [
              0.4444444444444444,
              "#bd3786"
             ],
             [
              0.5555555555555556,
              "#d8576b"
             ],
             [
              0.6666666666666666,
              "#ed7953"
             ],
             [
              0.7777777777777778,
              "#fb9f3a"
             ],
             [
              0.8888888888888888,
              "#fdca26"
             ],
             [
              1,
              "#f0f921"
             ]
            ],
            "type": "surface"
           }
          ],
          "table": [
           {
            "cells": {
             "fill": {
              "color": "#EBF0F8"
             },
             "line": {
              "color": "white"
             }
            },
            "header": {
             "fill": {
              "color": "#C8D4E3"
             },
             "line": {
              "color": "white"
             }
            },
            "type": "table"
           }
          ]
         },
         "layout": {
          "annotationdefaults": {
           "arrowcolor": "#2a3f5f",
           "arrowhead": 0,
           "arrowwidth": 1
          },
          "coloraxis": {
           "colorbar": {
            "outlinewidth": 0,
            "ticks": ""
           }
          },
          "colorscale": {
           "diverging": [
            [
             0,
             "#8e0152"
            ],
            [
             0.1,
             "#c51b7d"
            ],
            [
             0.2,
             "#de77ae"
            ],
            [
             0.3,
             "#f1b6da"
            ],
            [
             0.4,
             "#fde0ef"
            ],
            [
             0.5,
             "#f7f7f7"
            ],
            [
             0.6,
             "#e6f5d0"
            ],
            [
             0.7,
             "#b8e186"
            ],
            [
             0.8,
             "#7fbc41"
            ],
            [
             0.9,
             "#4d9221"
            ],
            [
             1,
             "#276419"
            ]
           ],
           "sequential": [
            [
             0,
             "#0d0887"
            ],
            [
             0.1111111111111111,
             "#46039f"
            ],
            [
             0.2222222222222222,
             "#7201a8"
            ],
            [
             0.3333333333333333,
             "#9c179e"
            ],
            [
             0.4444444444444444,
             "#bd3786"
            ],
            [
             0.5555555555555556,
             "#d8576b"
            ],
            [
             0.6666666666666666,
             "#ed7953"
            ],
            [
             0.7777777777777778,
             "#fb9f3a"
            ],
            [
             0.8888888888888888,
             "#fdca26"
            ],
            [
             1,
             "#f0f921"
            ]
           ],
           "sequentialminus": [
            [
             0,
             "#0d0887"
            ],
            [
             0.1111111111111111,
             "#46039f"
            ],
            [
             0.2222222222222222,
             "#7201a8"
            ],
            [
             0.3333333333333333,
             "#9c179e"
            ],
            [
             0.4444444444444444,
             "#bd3786"
            ],
            [
             0.5555555555555556,
             "#d8576b"
            ],
            [
             0.6666666666666666,
             "#ed7953"
            ],
            [
             0.7777777777777778,
             "#fb9f3a"
            ],
            [
             0.8888888888888888,
             "#fdca26"
            ],
            [
             1,
             "#f0f921"
            ]
           ]
          },
          "colorway": [
           "#636efa",
           "#EF553B",
           "#00cc96",
           "#ab63fa",
           "#FFA15A",
           "#19d3f3",
           "#FF6692",
           "#B6E880",
           "#FF97FF",
           "#FECB52"
          ],
          "font": {
           "color": "#2a3f5f"
          },
          "geo": {
           "bgcolor": "white",
           "lakecolor": "white",
           "landcolor": "#E5ECF6",
           "showlakes": true,
           "showland": true,
           "subunitcolor": "white"
          },
          "hoverlabel": {
           "align": "left"
          },
          "hovermode": "closest",
          "mapbox": {
           "style": "light"
          },
          "paper_bgcolor": "white",
          "plot_bgcolor": "#E5ECF6",
          "polar": {
           "angularaxis": {
            "gridcolor": "white",
            "linecolor": "white",
            "ticks": ""
           },
           "bgcolor": "#E5ECF6",
           "radialaxis": {
            "gridcolor": "white",
            "linecolor": "white",
            "ticks": ""
           }
          },
          "scene": {
           "xaxis": {
            "backgroundcolor": "#E5ECF6",
            "gridcolor": "white",
            "gridwidth": 2,
            "linecolor": "white",
            "showbackground": true,
            "ticks": "",
            "zerolinecolor": "white"
           },
           "yaxis": {
            "backgroundcolor": "#E5ECF6",
            "gridcolor": "white",
            "gridwidth": 2,
            "linecolor": "white",
            "showbackground": true,
            "ticks": "",
            "zerolinecolor": "white"
           },
           "zaxis": {
            "backgroundcolor": "#E5ECF6",
            "gridcolor": "white",
            "gridwidth": 2,
            "linecolor": "white",
            "showbackground": true,
            "ticks": "",
            "zerolinecolor": "white"
           }
          },
          "shapedefaults": {
           "line": {
            "color": "#2a3f5f"
           }
          },
          "ternary": {
           "aaxis": {
            "gridcolor": "white",
            "linecolor": "white",
            "ticks": ""
           },
           "baxis": {
            "gridcolor": "white",
            "linecolor": "white",
            "ticks": ""
           },
           "bgcolor": "#E5ECF6",
           "caxis": {
            "gridcolor": "white",
            "linecolor": "white",
            "ticks": ""
           }
          },
          "title": {
           "x": 0.05
          },
          "xaxis": {
           "automargin": true,
           "gridcolor": "white",
           "linecolor": "white",
           "ticks": "",
           "title": {
            "standoff": 15
           },
           "zerolinecolor": "white",
           "zerolinewidth": 2
          },
          "yaxis": {
           "automargin": true,
           "gridcolor": "white",
           "linecolor": "white",
           "ticks": "",
           "title": {
            "standoff": 15
           },
           "zerolinecolor": "white",
           "zerolinewidth": 2
          }
         }
        },
        "title": {
         "font": {
          "color": "#D9D9D9"
         },
         "text": "Most common 20 words with Bigrams in name"
        },
        "xaxis": {
         "gridcolor": "#434343",
         "linecolor": "black",
         "showgrid": true,
         "tickfont": {
          "color": "#C2C2C2"
         },
         "title": {
          "font": {
           "color": "#D9D9D9"
          },
          "text": ""
         },
         "zerolinecolor": "#666570"
        },
        "yaxis": {
         "gridcolor": "#434343",
         "linecolor": "black",
         "showgrid": true,
         "tickfont": {
          "color": "#C2C2C2"
         },
         "title": {
          "font": {
           "color": "#D9D9D9"
          },
          "text": "Count"
         },
         "zerolinecolor": "#666570"
        }
       }
      },
      "text/html": [
       "<div>\n",
       "        \n",
       "        \n",
       "            <div id=\"301b2e3d-817e-4dbd-b244-a18acaa5afe1\" class=\"plotly-graph-div\" style=\"height:525px; width:100%;\"></div>\n",
       "            <script type=\"text/javascript\">\n",
       "                require([\"plotly\"], function(Plotly) {\n",
       "                    window.PLOTLYENV=window.PLOTLYENV || {};\n",
       "                    window.PLOTLYENV.BASE_URL='https://plot.ly';\n",
       "                    \n",
       "                if (document.getElementById(\"301b2e3d-817e-4dbd-b244-a18acaa5afe1\")) {\n",
       "                    Plotly.newPlot(\n",
       "                        '301b2e3d-817e-4dbd-b244-a18acaa5afe1',\n",
       "                        [{\"marker\": {\"color\": \"rgba(255, 153, 51, 0.6)\", \"line\": {\"color\": \"rgba(255, 153, 51, 1.0)\", \"width\": 1}}, \"name\": \"count\", \"orientation\": \"v\", \"text\": \"\", \"type\": \"bar\", \"x\": [\"\\u89c4\\u5212 \\u6559\\u6750\", \"\\u7cfb\\u5217 \\u6559\\u6750\", \"\\u666e\\u901a \\u9ad8\\u7b49\\u6559\\u80b2\", \"mp3 \\u5149\\u76d8\", \"\\u8003\\u8bd5 \\u4e13\\u7528\", \"21 \\u4e16\\u7eaa\", \"\\u4e13\\u7528 \\u6559\\u6750\", \"dvd \\u5149\\u76d8\", \"\\u56fd\\u5bb6\\u7ea7 \\u89c4\\u5212\", \"\\u9ad8\\u7b49\\u6559\\u80b2 \\u5341\\u4e00\\u4e94\", \"\\u5386\\u5e74 \\u771f\\u9898\", \"\\u5341\\u4e00\\u4e94 \\u56fd\\u5bb6\\u7ea7\", \"cd \\u5149\\u76d8\", \"\\u5f55\\u7528 \\u8003\\u8bd5\", \"\\u516c\\u52a1\\u5458 \\u5f55\\u7528\", \"\\u5957\\u88c5 \\u4e0a\\u4e0b\\u518c\", \"\\u5927\\u5b66 \\u82f1\\u8bed\", \"\\u9884\\u6d4b \\u8bd5\\u5377\", \"nike \\u8010\\u514b\", \"\\u4f11\\u95f2 \\u8fd0\\u52a8\\u978b\"], \"y\": [7850, 3793, 3556, 3478, 3259, 3177, 2861, 2843, 2500, 2362, 2131, 2120, 1866, 1851, 1769, 1647, 1634, 1486, 1480, 1296]}],\n",
       "                        {\"legend\": {\"bgcolor\": \"#151516\", \"font\": {\"color\": \"#D9D9D9\"}}, \"paper_bgcolor\": \"#151516\", \"plot_bgcolor\": \"#151516\", \"template\": {\"data\": {\"bar\": [{\"error_x\": {\"color\": \"#2a3f5f\"}, \"error_y\": {\"color\": \"#2a3f5f\"}, \"marker\": {\"line\": {\"color\": \"#E5ECF6\", \"width\": 0.5}}, \"type\": \"bar\"}], \"barpolar\": [{\"marker\": {\"line\": {\"color\": \"#E5ECF6\", \"width\": 0.5}}, \"type\": \"barpolar\"}], \"carpet\": [{\"aaxis\": {\"endlinecolor\": \"#2a3f5f\", \"gridcolor\": \"white\", \"linecolor\": \"white\", \"minorgridcolor\": \"white\", \"startlinecolor\": \"#2a3f5f\"}, \"baxis\": {\"endlinecolor\": \"#2a3f5f\", \"gridcolor\": \"white\", \"linecolor\": \"white\", \"minorgridcolor\": \"white\", \"startlinecolor\": \"#2a3f5f\"}, \"type\": \"carpet\"}], \"choropleth\": [{\"colorbar\": {\"outlinewidth\": 0, \"ticks\": \"\"}, \"type\": \"choropleth\"}], \"contour\": [{\"colorbar\": {\"outlinewidth\": 0, \"ticks\": \"\"}, \"colorscale\": [[0.0, \"#0d0887\"], [0.1111111111111111, \"#46039f\"], [0.2222222222222222, \"#7201a8\"], [0.3333333333333333, \"#9c179e\"], [0.4444444444444444, \"#bd3786\"], [0.5555555555555556, \"#d8576b\"], [0.6666666666666666, \"#ed7953\"], [0.7777777777777778, \"#fb9f3a\"], [0.8888888888888888, \"#fdca26\"], [1.0, \"#f0f921\"]], \"type\": \"contour\"}], \"contourcarpet\": [{\"colorbar\": {\"outlinewidth\": 0, \"ticks\": \"\"}, \"type\": \"contourcarpet\"}], \"heatmap\": [{\"colorbar\": {\"outlinewidth\": 0, \"ticks\": \"\"}, \"colorscale\": [[0.0, \"#0d0887\"], [0.1111111111111111, \"#46039f\"], [0.2222222222222222, \"#7201a8\"], [0.3333333333333333, \"#9c179e\"], [0.4444444444444444, \"#bd3786\"], [0.5555555555555556, \"#d8576b\"], [0.6666666666666666, \"#ed7953\"], [0.7777777777777778, \"#fb9f3a\"], [0.8888888888888888, \"#fdca26\"], [1.0, \"#f0f921\"]], \"type\": \"heatmap\"}], \"heatmapgl\": [{\"colorbar\": {\"outlinewidth\": 0, \"ticks\": \"\"}, \"colorscale\": [[0.0, \"#0d0887\"], [0.1111111111111111, \"#46039f\"], [0.2222222222222222, \"#7201a8\"], [0.3333333333333333, \"#9c179e\"], [0.4444444444444444, \"#bd3786\"], [0.5555555555555556, \"#d8576b\"], [0.6666666666666666, \"#ed7953\"], [0.7777777777777778, \"#fb9f3a\"], [0.8888888888888888, \"#fdca26\"], [1.0, \"#f0f921\"]], \"type\": \"heatmapgl\"}], \"histogram\": [{\"marker\": {\"colorbar\": {\"outlinewidth\": 0, \"ticks\": \"\"}}, \"type\": \"histogram\"}], \"histogram2d\": [{\"colorbar\": {\"outlinewidth\": 0, \"ticks\": \"\"}, \"colorscale\": [[0.0, \"#0d0887\"], [0.1111111111111111, \"#46039f\"], [0.2222222222222222, \"#7201a8\"], [0.3333333333333333, \"#9c179e\"], [0.4444444444444444, \"#bd3786\"], [0.5555555555555556, \"#d8576b\"], [0.6666666666666666, \"#ed7953\"], [0.7777777777777778, \"#fb9f3a\"], [0.8888888888888888, \"#fdca26\"], [1.0, \"#f0f921\"]], \"type\": \"histogram2d\"}], \"histogram2dcontour\": [{\"colorbar\": {\"outlinewidth\": 0, \"ticks\": \"\"}, \"colorscale\": [[0.0, \"#0d0887\"], [0.1111111111111111, \"#46039f\"], [0.2222222222222222, \"#7201a8\"], [0.3333333333333333, \"#9c179e\"], [0.4444444444444444, \"#bd3786\"], [0.5555555555555556, \"#d8576b\"], [0.6666666666666666, \"#ed7953\"], [0.7777777777777778, \"#fb9f3a\"], [0.8888888888888888, \"#fdca26\"], [1.0, \"#f0f921\"]], \"type\": \"histogram2dcontour\"}], \"mesh3d\": [{\"colorbar\": {\"outlinewidth\": 0, \"ticks\": \"\"}, \"type\": \"mesh3d\"}], \"parcoords\": [{\"line\": {\"colorbar\": {\"outlinewidth\": 0, \"ticks\": \"\"}}, \"type\": \"parcoords\"}], \"pie\": [{\"automargin\": true, \"type\": \"pie\"}], \"scatter\": [{\"marker\": {\"colorbar\": {\"outlinewidth\": 0, \"ticks\": \"\"}}, \"type\": \"scatter\"}], \"scatter3d\": [{\"line\": {\"colorbar\": {\"outlinewidth\": 0, \"ticks\": \"\"}}, \"marker\": {\"colorbar\": {\"outlinewidth\": 0, \"ticks\": \"\"}}, \"type\": \"scatter3d\"}], \"scattercarpet\": [{\"marker\": {\"colorbar\": {\"outlinewidth\": 0, \"ticks\": \"\"}}, \"type\": \"scattercarpet\"}], \"scattergeo\": [{\"marker\": {\"colorbar\": {\"outlinewidth\": 0, \"ticks\": \"\"}}, \"type\": \"scattergeo\"}], \"scattergl\": [{\"marker\": {\"colorbar\": {\"outlinewidth\": 0, \"ticks\": \"\"}}, \"type\": \"scattergl\"}], \"scattermapbox\": [{\"marker\": {\"colorbar\": {\"outlinewidth\": 0, \"ticks\": \"\"}}, \"type\": \"scattermapbox\"}], \"scatterpolar\": [{\"marker\": {\"colorbar\": {\"outlinewidth\": 0, \"ticks\": \"\"}}, \"type\": \"scatterpolar\"}], \"scatterpolargl\": [{\"marker\": {\"colorbar\": {\"outlinewidth\": 0, \"ticks\": \"\"}}, \"type\": \"scatterpolargl\"}], \"scatterternary\": [{\"marker\": {\"colorbar\": {\"outlinewidth\": 0, \"ticks\": \"\"}}, \"type\": \"scatterternary\"}], \"surface\": [{\"colorbar\": {\"outlinewidth\": 0, \"ticks\": \"\"}, \"colorscale\": [[0.0, \"#0d0887\"], [0.1111111111111111, \"#46039f\"], [0.2222222222222222, \"#7201a8\"], [0.3333333333333333, \"#9c179e\"], [0.4444444444444444, \"#bd3786\"], [0.5555555555555556, \"#d8576b\"], [0.6666666666666666, \"#ed7953\"], [0.7777777777777778, \"#fb9f3a\"], [0.8888888888888888, \"#fdca26\"], [1.0, \"#f0f921\"]], \"type\": \"surface\"}], \"table\": [{\"cells\": {\"fill\": {\"color\": \"#EBF0F8\"}, \"line\": {\"color\": \"white\"}}, \"header\": {\"fill\": {\"color\": \"#C8D4E3\"}, \"line\": {\"color\": \"white\"}}, \"type\": \"table\"}]}, \"layout\": {\"annotationdefaults\": {\"arrowcolor\": \"#2a3f5f\", \"arrowhead\": 0, \"arrowwidth\": 1}, \"coloraxis\": {\"colorbar\": {\"outlinewidth\": 0, \"ticks\": \"\"}}, \"colorscale\": {\"diverging\": [[0, \"#8e0152\"], [0.1, \"#c51b7d\"], [0.2, \"#de77ae\"], [0.3, \"#f1b6da\"], [0.4, \"#fde0ef\"], [0.5, \"#f7f7f7\"], [0.6, \"#e6f5d0\"], [0.7, \"#b8e186\"], [0.8, \"#7fbc41\"], [0.9, \"#4d9221\"], [1, \"#276419\"]], \"sequential\": [[0.0, \"#0d0887\"], [0.1111111111111111, \"#46039f\"], [0.2222222222222222, \"#7201a8\"], [0.3333333333333333, \"#9c179e\"], [0.4444444444444444, \"#bd3786\"], [0.5555555555555556, \"#d8576b\"], [0.6666666666666666, \"#ed7953\"], [0.7777777777777778, \"#fb9f3a\"], [0.8888888888888888, \"#fdca26\"], [1.0, \"#f0f921\"]], \"sequentialminus\": [[0.0, \"#0d0887\"], [0.1111111111111111, \"#46039f\"], [0.2222222222222222, \"#7201a8\"], [0.3333333333333333, \"#9c179e\"], [0.4444444444444444, \"#bd3786\"], [0.5555555555555556, \"#d8576b\"], [0.6666666666666666, \"#ed7953\"], [0.7777777777777778, \"#fb9f3a\"], [0.8888888888888888, \"#fdca26\"], [1.0, \"#f0f921\"]]}, \"colorway\": [\"#636efa\", \"#EF553B\", \"#00cc96\", \"#ab63fa\", \"#FFA15A\", \"#19d3f3\", \"#FF6692\", \"#B6E880\", \"#FF97FF\", \"#FECB52\"], \"font\": {\"color\": \"#2a3f5f\"}, \"geo\": {\"bgcolor\": \"white\", \"lakecolor\": \"white\", \"landcolor\": \"#E5ECF6\", \"showlakes\": true, \"showland\": true, \"subunitcolor\": \"white\"}, \"hoverlabel\": {\"align\": \"left\"}, \"hovermode\": \"closest\", \"mapbox\": {\"style\": \"light\"}, \"paper_bgcolor\": \"white\", \"plot_bgcolor\": \"#E5ECF6\", \"polar\": {\"angularaxis\": {\"gridcolor\": \"white\", \"linecolor\": \"white\", \"ticks\": \"\"}, \"bgcolor\": \"#E5ECF6\", \"radialaxis\": {\"gridcolor\": \"white\", \"linecolor\": \"white\", \"ticks\": \"\"}}, \"scene\": {\"xaxis\": {\"backgroundcolor\": \"#E5ECF6\", \"gridcolor\": \"white\", \"gridwidth\": 2, \"linecolor\": \"white\", \"showbackground\": true, \"ticks\": \"\", \"zerolinecolor\": \"white\"}, \"yaxis\": {\"backgroundcolor\": \"#E5ECF6\", \"gridcolor\": \"white\", \"gridwidth\": 2, \"linecolor\": \"white\", \"showbackground\": true, \"ticks\": \"\", \"zerolinecolor\": \"white\"}, \"zaxis\": {\"backgroundcolor\": \"#E5ECF6\", \"gridcolor\": \"white\", \"gridwidth\": 2, \"linecolor\": \"white\", \"showbackground\": true, \"ticks\": \"\", \"zerolinecolor\": \"white\"}}, \"shapedefaults\": {\"line\": {\"color\": \"#2a3f5f\"}}, \"ternary\": {\"aaxis\": {\"gridcolor\": \"white\", \"linecolor\": \"white\", \"ticks\": \"\"}, \"baxis\": {\"gridcolor\": \"white\", \"linecolor\": \"white\", \"ticks\": \"\"}, \"bgcolor\": \"#E5ECF6\", \"caxis\": {\"gridcolor\": \"white\", \"linecolor\": \"white\", \"ticks\": \"\"}}, \"title\": {\"x\": 0.05}, \"xaxis\": {\"automargin\": true, \"gridcolor\": \"white\", \"linecolor\": \"white\", \"ticks\": \"\", \"title\": {\"standoff\": 15}, \"zerolinecolor\": \"white\", \"zerolinewidth\": 2}, \"yaxis\": {\"automargin\": true, \"gridcolor\": \"white\", \"linecolor\": \"white\", \"ticks\": \"\", \"title\": {\"standoff\": 15}, \"zerolinecolor\": \"white\", \"zerolinewidth\": 2}}}, \"title\": {\"font\": {\"color\": \"#D9D9D9\"}, \"text\": \"Most common 20 words with Bigrams in name\"}, \"xaxis\": {\"gridcolor\": \"#434343\", \"linecolor\": \"black\", \"showgrid\": true, \"tickfont\": {\"color\": \"#C2C2C2\"}, \"title\": {\"font\": {\"color\": \"#D9D9D9\"}, \"text\": \"\"}, \"zerolinecolor\": \"#666570\"}, \"yaxis\": {\"gridcolor\": \"#434343\", \"linecolor\": \"black\", \"showgrid\": true, \"tickfont\": {\"color\": \"#C2C2C2\"}, \"title\": {\"font\": {\"color\": \"#D9D9D9\"}, \"text\": \"Count\"}, \"zerolinecolor\": \"#666570\"}},\n",
       "                        {\"showLink\": true, \"linkText\": \"Export to plot.ly\", \"plotlyServerURL\": \"https://plot.ly\", \"responsive\": true}\n",
       "                    ).then(function(){\n",
       "                            \n",
       "var gd = document.getElementById('301b2e3d-817e-4dbd-b244-a18acaa5afe1');\n",
       "var x = new MutationObserver(function (mutations, observer) {{\n",
       "        var display = window.getComputedStyle(gd).display;\n",
       "        if (!display || display === 'none') {{\n",
       "            console.log([gd, 'removed!']);\n",
       "            Plotly.purge(gd);\n",
       "            observer.disconnect();\n",
       "        }}\n",
       "}});\n",
       "\n",
       "// Listen for the removal of the full notebook cells\n",
       "var notebookContainer = gd.closest('#notebook-container');\n",
       "if (notebookContainer) {{\n",
       "    x.observe(notebookContainer, {childList: true});\n",
       "}}\n",
       "\n",
       "// Listen for the clearing of the current output cell\n",
       "var outputEl = gd.closest('.output');\n",
       "if (outputEl) {{\n",
       "    x.observe(outputEl, {childList: true});\n",
       "}}\n",
       "\n",
       "                        })\n",
       "                };\n",
       "                });\n",
       "            </script>\n",
       "        </div>"
      ]
     },
     "metadata": {},
     "output_type": "display_data"
    }
   ],
   "source": [
    "words_freq3, common_words3 = get_top_n_words(product_lists['cut_name'], 20, 2)\n",
    "df3 = pd.DataFrame(common_words3, columns = ['cut_name' , 'count'])\n",
    "df3.groupby('cut_name').sum()['count'].sort_values(ascending=False).iplot(kind='bar', yTitle='Count', linecolor='black', title='Most common 20 words with Bigrams in name')"
   ]
  },
  {
   "cell_type": "code",
   "execution_count": 36,
   "metadata": {},
   "outputs": [
    {
     "name": "stderr",
     "output_type": "stream",
     "text": [
      "D:\\System\\Users\\mb95540\\AppData\\Local\\Continuum\\anaconda3\\lib\\site-packages\\ipykernel_launcher.py:2: FutureWarning:\n",
      "\n",
      "The signature of `Series.to_csv` was aligned to that of `DataFrame.to_csv`, and argument 'header' will change its default value from False to True: please pass an explicit value to suppress this warning.\n",
      "\n"
     ]
    }
   ],
   "source": [
    "#top_20_word2 = df3.groupby('cut_name').sum()['count'].sort_values(ascending=False)\n",
    "#top_20_word2.to_csv('./top_20_word2.csv', encoding=\"utf_8_sig\")"
   ]
  },
  {
   "cell_type": "code",
   "execution_count": 57,
   "metadata": {},
   "outputs": [
    {
     "data": {
      "application/vnd.plotly.v1+json": {
       "config": {
        "linkText": "Export to plot.ly",
        "plotlyServerURL": "https://plot.ly",
        "showLink": true
       },
       "data": [
        {
         "marker": {
          "color": "rgba(255, 153, 51, 0.6)",
          "line": {
           "color": "rgba(255, 153, 51, 1.0)",
           "width": 1
          }
         },
         "name": "count",
         "orientation": "v",
         "text": "",
         "type": "bar",
         "x": [
          "考试 专用 教材",
          "国家级 规划 教材",
          "普通 高等教育 十一五",
          "十一五 国家级 规划",
          "高等教育 十一五 国家级",
          "公务员 录用 考试",
          "录用 考试 专用",
          "十二五 规划 教材",
          "li ning 李宁",
          "职业 能力 测验",
          "行政 职业 能力",
          "计算机 等级 考试",
          "全国 计算机 等级",
          "150 图书 增值",
          "招聘 考试 专用",
          "esprit 斯普利特 女式",
          "ochirly 欧时力 女式",
          "esprit 斯普利特 男式",
          "十一五 规划 教材",
          "运动 生活 系列"
         ],
         "y": [
          2609,
          2499,
          2309,
          2117,
          2109,
          1767,
          1273,
          1086,
          1078,
          886,
          856,
          636,
          634,
          627,
          594,
          584,
          565,
          565,
          561,
          558
         ]
        }
       ],
       "layout": {
        "legend": {
         "bgcolor": "#151516",
         "font": {
          "color": "#D9D9D9"
         }
        },
        "paper_bgcolor": "#151516",
        "plot_bgcolor": "#151516",
        "template": {
         "data": {
          "bar": [
           {
            "error_x": {
             "color": "#2a3f5f"
            },
            "error_y": {
             "color": "#2a3f5f"
            },
            "marker": {
             "line": {
              "color": "#E5ECF6",
              "width": 0.5
             }
            },
            "type": "bar"
           }
          ],
          "barpolar": [
           {
            "marker": {
             "line": {
              "color": "#E5ECF6",
              "width": 0.5
             }
            },
            "type": "barpolar"
           }
          ],
          "carpet": [
           {
            "aaxis": {
             "endlinecolor": "#2a3f5f",
             "gridcolor": "white",
             "linecolor": "white",
             "minorgridcolor": "white",
             "startlinecolor": "#2a3f5f"
            },
            "baxis": {
             "endlinecolor": "#2a3f5f",
             "gridcolor": "white",
             "linecolor": "white",
             "minorgridcolor": "white",
             "startlinecolor": "#2a3f5f"
            },
            "type": "carpet"
           }
          ],
          "choropleth": [
           {
            "colorbar": {
             "outlinewidth": 0,
             "ticks": ""
            },
            "type": "choropleth"
           }
          ],
          "contour": [
           {
            "colorbar": {
             "outlinewidth": 0,
             "ticks": ""
            },
            "colorscale": [
             [
              0,
              "#0d0887"
             ],
             [
              0.1111111111111111,
              "#46039f"
             ],
             [
              0.2222222222222222,
              "#7201a8"
             ],
             [
              0.3333333333333333,
              "#9c179e"
             ],
             [
              0.4444444444444444,
              "#bd3786"
             ],
             [
              0.5555555555555556,
              "#d8576b"
             ],
             [
              0.6666666666666666,
              "#ed7953"
             ],
             [
              0.7777777777777778,
              "#fb9f3a"
             ],
             [
              0.8888888888888888,
              "#fdca26"
             ],
             [
              1,
              "#f0f921"
             ]
            ],
            "type": "contour"
           }
          ],
          "contourcarpet": [
           {
            "colorbar": {
             "outlinewidth": 0,
             "ticks": ""
            },
            "type": "contourcarpet"
           }
          ],
          "heatmap": [
           {
            "colorbar": {
             "outlinewidth": 0,
             "ticks": ""
            },
            "colorscale": [
             [
              0,
              "#0d0887"
             ],
             [
              0.1111111111111111,
              "#46039f"
             ],
             [
              0.2222222222222222,
              "#7201a8"
             ],
             [
              0.3333333333333333,
              "#9c179e"
             ],
             [
              0.4444444444444444,
              "#bd3786"
             ],
             [
              0.5555555555555556,
              "#d8576b"
             ],
             [
              0.6666666666666666,
              "#ed7953"
             ],
             [
              0.7777777777777778,
              "#fb9f3a"
             ],
             [
              0.8888888888888888,
              "#fdca26"
             ],
             [
              1,
              "#f0f921"
             ]
            ],
            "type": "heatmap"
           }
          ],
          "heatmapgl": [
           {
            "colorbar": {
             "outlinewidth": 0,
             "ticks": ""
            },
            "colorscale": [
             [
              0,
              "#0d0887"
             ],
             [
              0.1111111111111111,
              "#46039f"
             ],
             [
              0.2222222222222222,
              "#7201a8"
             ],
             [
              0.3333333333333333,
              "#9c179e"
             ],
             [
              0.4444444444444444,
              "#bd3786"
             ],
             [
              0.5555555555555556,
              "#d8576b"
             ],
             [
              0.6666666666666666,
              "#ed7953"
             ],
             [
              0.7777777777777778,
              "#fb9f3a"
             ],
             [
              0.8888888888888888,
              "#fdca26"
             ],
             [
              1,
              "#f0f921"
             ]
            ],
            "type": "heatmapgl"
           }
          ],
          "histogram": [
           {
            "marker": {
             "colorbar": {
              "outlinewidth": 0,
              "ticks": ""
             }
            },
            "type": "histogram"
           }
          ],
          "histogram2d": [
           {
            "colorbar": {
             "outlinewidth": 0,
             "ticks": ""
            },
            "colorscale": [
             [
              0,
              "#0d0887"
             ],
             [
              0.1111111111111111,
              "#46039f"
             ],
             [
              0.2222222222222222,
              "#7201a8"
             ],
             [
              0.3333333333333333,
              "#9c179e"
             ],
             [
              0.4444444444444444,
              "#bd3786"
             ],
             [
              0.5555555555555556,
              "#d8576b"
             ],
             [
              0.6666666666666666,
              "#ed7953"
             ],
             [
              0.7777777777777778,
              "#fb9f3a"
             ],
             [
              0.8888888888888888,
              "#fdca26"
             ],
             [
              1,
              "#f0f921"
             ]
            ],
            "type": "histogram2d"
           }
          ],
          "histogram2dcontour": [
           {
            "colorbar": {
             "outlinewidth": 0,
             "ticks": ""
            },
            "colorscale": [
             [
              0,
              "#0d0887"
             ],
             [
              0.1111111111111111,
              "#46039f"
             ],
             [
              0.2222222222222222,
              "#7201a8"
             ],
             [
              0.3333333333333333,
              "#9c179e"
             ],
             [
              0.4444444444444444,
              "#bd3786"
             ],
             [
              0.5555555555555556,
              "#d8576b"
             ],
             [
              0.6666666666666666,
              "#ed7953"
             ],
             [
              0.7777777777777778,
              "#fb9f3a"
             ],
             [
              0.8888888888888888,
              "#fdca26"
             ],
             [
              1,
              "#f0f921"
             ]
            ],
            "type": "histogram2dcontour"
           }
          ],
          "mesh3d": [
           {
            "colorbar": {
             "outlinewidth": 0,
             "ticks": ""
            },
            "type": "mesh3d"
           }
          ],
          "parcoords": [
           {
            "line": {
             "colorbar": {
              "outlinewidth": 0,
              "ticks": ""
             }
            },
            "type": "parcoords"
           }
          ],
          "pie": [
           {
            "automargin": true,
            "type": "pie"
           }
          ],
          "scatter": [
           {
            "marker": {
             "colorbar": {
              "outlinewidth": 0,
              "ticks": ""
             }
            },
            "type": "scatter"
           }
          ],
          "scatter3d": [
           {
            "line": {
             "colorbar": {
              "outlinewidth": 0,
              "ticks": ""
             }
            },
            "marker": {
             "colorbar": {
              "outlinewidth": 0,
              "ticks": ""
             }
            },
            "type": "scatter3d"
           }
          ],
          "scattercarpet": [
           {
            "marker": {
             "colorbar": {
              "outlinewidth": 0,
              "ticks": ""
             }
            },
            "type": "scattercarpet"
           }
          ],
          "scattergeo": [
           {
            "marker": {
             "colorbar": {
              "outlinewidth": 0,
              "ticks": ""
             }
            },
            "type": "scattergeo"
           }
          ],
          "scattergl": [
           {
            "marker": {
             "colorbar": {
              "outlinewidth": 0,
              "ticks": ""
             }
            },
            "type": "scattergl"
           }
          ],
          "scattermapbox": [
           {
            "marker": {
             "colorbar": {
              "outlinewidth": 0,
              "ticks": ""
             }
            },
            "type": "scattermapbox"
           }
          ],
          "scatterpolar": [
           {
            "marker": {
             "colorbar": {
              "outlinewidth": 0,
              "ticks": ""
             }
            },
            "type": "scatterpolar"
           }
          ],
          "scatterpolargl": [
           {
            "marker": {
             "colorbar": {
              "outlinewidth": 0,
              "ticks": ""
             }
            },
            "type": "scatterpolargl"
           }
          ],
          "scatterternary": [
           {
            "marker": {
             "colorbar": {
              "outlinewidth": 0,
              "ticks": ""
             }
            },
            "type": "scatterternary"
           }
          ],
          "surface": [
           {
            "colorbar": {
             "outlinewidth": 0,
             "ticks": ""
            },
            "colorscale": [
             [
              0,
              "#0d0887"
             ],
             [
              0.1111111111111111,
              "#46039f"
             ],
             [
              0.2222222222222222,
              "#7201a8"
             ],
             [
              0.3333333333333333,
              "#9c179e"
             ],
             [
              0.4444444444444444,
              "#bd3786"
             ],
             [
              0.5555555555555556,
              "#d8576b"
             ],
             [
              0.6666666666666666,
              "#ed7953"
             ],
             [
              0.7777777777777778,
              "#fb9f3a"
             ],
             [
              0.8888888888888888,
              "#fdca26"
             ],
             [
              1,
              "#f0f921"
             ]
            ],
            "type": "surface"
           }
          ],
          "table": [
           {
            "cells": {
             "fill": {
              "color": "#EBF0F8"
             },
             "line": {
              "color": "white"
             }
            },
            "header": {
             "fill": {
              "color": "#C8D4E3"
             },
             "line": {
              "color": "white"
             }
            },
            "type": "table"
           }
          ]
         },
         "layout": {
          "annotationdefaults": {
           "arrowcolor": "#2a3f5f",
           "arrowhead": 0,
           "arrowwidth": 1
          },
          "coloraxis": {
           "colorbar": {
            "outlinewidth": 0,
            "ticks": ""
           }
          },
          "colorscale": {
           "diverging": [
            [
             0,
             "#8e0152"
            ],
            [
             0.1,
             "#c51b7d"
            ],
            [
             0.2,
             "#de77ae"
            ],
            [
             0.3,
             "#f1b6da"
            ],
            [
             0.4,
             "#fde0ef"
            ],
            [
             0.5,
             "#f7f7f7"
            ],
            [
             0.6,
             "#e6f5d0"
            ],
            [
             0.7,
             "#b8e186"
            ],
            [
             0.8,
             "#7fbc41"
            ],
            [
             0.9,
             "#4d9221"
            ],
            [
             1,
             "#276419"
            ]
           ],
           "sequential": [
            [
             0,
             "#0d0887"
            ],
            [
             0.1111111111111111,
             "#46039f"
            ],
            [
             0.2222222222222222,
             "#7201a8"
            ],
            [
             0.3333333333333333,
             "#9c179e"
            ],
            [
             0.4444444444444444,
             "#bd3786"
            ],
            [
             0.5555555555555556,
             "#d8576b"
            ],
            [
             0.6666666666666666,
             "#ed7953"
            ],
            [
             0.7777777777777778,
             "#fb9f3a"
            ],
            [
             0.8888888888888888,
             "#fdca26"
            ],
            [
             1,
             "#f0f921"
            ]
           ],
           "sequentialminus": [
            [
             0,
             "#0d0887"
            ],
            [
             0.1111111111111111,
             "#46039f"
            ],
            [
             0.2222222222222222,
             "#7201a8"
            ],
            [
             0.3333333333333333,
             "#9c179e"
            ],
            [
             0.4444444444444444,
             "#bd3786"
            ],
            [
             0.5555555555555556,
             "#d8576b"
            ],
            [
             0.6666666666666666,
             "#ed7953"
            ],
            [
             0.7777777777777778,
             "#fb9f3a"
            ],
            [
             0.8888888888888888,
             "#fdca26"
            ],
            [
             1,
             "#f0f921"
            ]
           ]
          },
          "colorway": [
           "#636efa",
           "#EF553B",
           "#00cc96",
           "#ab63fa",
           "#FFA15A",
           "#19d3f3",
           "#FF6692",
           "#B6E880",
           "#FF97FF",
           "#FECB52"
          ],
          "font": {
           "color": "#2a3f5f"
          },
          "geo": {
           "bgcolor": "white",
           "lakecolor": "white",
           "landcolor": "#E5ECF6",
           "showlakes": true,
           "showland": true,
           "subunitcolor": "white"
          },
          "hoverlabel": {
           "align": "left"
          },
          "hovermode": "closest",
          "mapbox": {
           "style": "light"
          },
          "paper_bgcolor": "white",
          "plot_bgcolor": "#E5ECF6",
          "polar": {
           "angularaxis": {
            "gridcolor": "white",
            "linecolor": "white",
            "ticks": ""
           },
           "bgcolor": "#E5ECF6",
           "radialaxis": {
            "gridcolor": "white",
            "linecolor": "white",
            "ticks": ""
           }
          },
          "scene": {
           "xaxis": {
            "backgroundcolor": "#E5ECF6",
            "gridcolor": "white",
            "gridwidth": 2,
            "linecolor": "white",
            "showbackground": true,
            "ticks": "",
            "zerolinecolor": "white"
           },
           "yaxis": {
            "backgroundcolor": "#E5ECF6",
            "gridcolor": "white",
            "gridwidth": 2,
            "linecolor": "white",
            "showbackground": true,
            "ticks": "",
            "zerolinecolor": "white"
           },
           "zaxis": {
            "backgroundcolor": "#E5ECF6",
            "gridcolor": "white",
            "gridwidth": 2,
            "linecolor": "white",
            "showbackground": true,
            "ticks": "",
            "zerolinecolor": "white"
           }
          },
          "shapedefaults": {
           "line": {
            "color": "#2a3f5f"
           }
          },
          "ternary": {
           "aaxis": {
            "gridcolor": "white",
            "linecolor": "white",
            "ticks": ""
           },
           "baxis": {
            "gridcolor": "white",
            "linecolor": "white",
            "ticks": ""
           },
           "bgcolor": "#E5ECF6",
           "caxis": {
            "gridcolor": "white",
            "linecolor": "white",
            "ticks": ""
           }
          },
          "title": {
           "x": 0.05
          },
          "xaxis": {
           "automargin": true,
           "gridcolor": "white",
           "linecolor": "white",
           "ticks": "",
           "title": {
            "standoff": 15
           },
           "zerolinecolor": "white",
           "zerolinewidth": 2
          },
          "yaxis": {
           "automargin": true,
           "gridcolor": "white",
           "linecolor": "white",
           "ticks": "",
           "title": {
            "standoff": 15
           },
           "zerolinecolor": "white",
           "zerolinewidth": 2
          }
         }
        },
        "title": {
         "font": {
          "color": "#D9D9D9"
         },
         "text": "Most common 20 words with Trigrams in name"
        },
        "xaxis": {
         "gridcolor": "#434343",
         "linecolor": "black",
         "showgrid": true,
         "tickfont": {
          "color": "#C2C2C2"
         },
         "title": {
          "font": {
           "color": "#D9D9D9"
          },
          "text": ""
         },
         "zerolinecolor": "#666570"
        },
        "yaxis": {
         "gridcolor": "#434343",
         "linecolor": "black",
         "showgrid": true,
         "tickfont": {
          "color": "#C2C2C2"
         },
         "title": {
          "font": {
           "color": "#D9D9D9"
          },
          "text": "Count"
         },
         "zerolinecolor": "#666570"
        }
       }
      },
      "text/html": [
       "<div>\n",
       "        \n",
       "        \n",
       "            <div id=\"57be8f43-1ce3-452a-8135-29630c80f03f\" class=\"plotly-graph-div\" style=\"height:525px; width:100%;\"></div>\n",
       "            <script type=\"text/javascript\">\n",
       "                require([\"plotly\"], function(Plotly) {\n",
       "                    window.PLOTLYENV=window.PLOTLYENV || {};\n",
       "                    window.PLOTLYENV.BASE_URL='https://plot.ly';\n",
       "                    \n",
       "                if (document.getElementById(\"57be8f43-1ce3-452a-8135-29630c80f03f\")) {\n",
       "                    Plotly.newPlot(\n",
       "                        '57be8f43-1ce3-452a-8135-29630c80f03f',\n",
       "                        [{\"marker\": {\"color\": \"rgba(255, 153, 51, 0.6)\", \"line\": {\"color\": \"rgba(255, 153, 51, 1.0)\", \"width\": 1}}, \"name\": \"count\", \"orientation\": \"v\", \"text\": \"\", \"type\": \"bar\", \"x\": [\"\\u8003\\u8bd5 \\u4e13\\u7528 \\u6559\\u6750\", \"\\u56fd\\u5bb6\\u7ea7 \\u89c4\\u5212 \\u6559\\u6750\", \"\\u666e\\u901a \\u9ad8\\u7b49\\u6559\\u80b2 \\u5341\\u4e00\\u4e94\", \"\\u5341\\u4e00\\u4e94 \\u56fd\\u5bb6\\u7ea7 \\u89c4\\u5212\", \"\\u9ad8\\u7b49\\u6559\\u80b2 \\u5341\\u4e00\\u4e94 \\u56fd\\u5bb6\\u7ea7\", \"\\u516c\\u52a1\\u5458 \\u5f55\\u7528 \\u8003\\u8bd5\", \"\\u5f55\\u7528 \\u8003\\u8bd5 \\u4e13\\u7528\", \"\\u5341\\u4e8c\\u4e94 \\u89c4\\u5212 \\u6559\\u6750\", \"li ning \\u674e\\u5b81\", \"\\u804c\\u4e1a \\u80fd\\u529b \\u6d4b\\u9a8c\", \"\\u884c\\u653f \\u804c\\u4e1a \\u80fd\\u529b\", \"\\u8ba1\\u7b97\\u673a \\u7b49\\u7ea7 \\u8003\\u8bd5\", \"\\u5168\\u56fd \\u8ba1\\u7b97\\u673a \\u7b49\\u7ea7\", \"150 \\u56fe\\u4e66 \\u589e\\u503c\", \"\\u62db\\u8058 \\u8003\\u8bd5 \\u4e13\\u7528\", \"esprit \\u65af\\u666e\\u5229\\u7279 \\u5973\\u5f0f\", \"ochirly \\u6b27\\u65f6\\u529b \\u5973\\u5f0f\", \"esprit \\u65af\\u666e\\u5229\\u7279 \\u7537\\u5f0f\", \"\\u5341\\u4e00\\u4e94 \\u89c4\\u5212 \\u6559\\u6750\", \"\\u8fd0\\u52a8 \\u751f\\u6d3b \\u7cfb\\u5217\"], \"y\": [2609, 2499, 2309, 2117, 2109, 1767, 1273, 1086, 1078, 886, 856, 636, 634, 627, 594, 584, 565, 565, 561, 558]}],\n",
       "                        {\"legend\": {\"bgcolor\": \"#151516\", \"font\": {\"color\": \"#D9D9D9\"}}, \"paper_bgcolor\": \"#151516\", \"plot_bgcolor\": \"#151516\", \"template\": {\"data\": {\"bar\": [{\"error_x\": {\"color\": \"#2a3f5f\"}, \"error_y\": {\"color\": \"#2a3f5f\"}, \"marker\": {\"line\": {\"color\": \"#E5ECF6\", \"width\": 0.5}}, \"type\": \"bar\"}], \"barpolar\": [{\"marker\": {\"line\": {\"color\": \"#E5ECF6\", \"width\": 0.5}}, \"type\": \"barpolar\"}], \"carpet\": [{\"aaxis\": {\"endlinecolor\": \"#2a3f5f\", \"gridcolor\": \"white\", \"linecolor\": \"white\", \"minorgridcolor\": \"white\", \"startlinecolor\": \"#2a3f5f\"}, \"baxis\": {\"endlinecolor\": \"#2a3f5f\", \"gridcolor\": \"white\", \"linecolor\": \"white\", \"minorgridcolor\": \"white\", \"startlinecolor\": \"#2a3f5f\"}, \"type\": \"carpet\"}], \"choropleth\": [{\"colorbar\": {\"outlinewidth\": 0, \"ticks\": \"\"}, \"type\": \"choropleth\"}], \"contour\": [{\"colorbar\": {\"outlinewidth\": 0, \"ticks\": \"\"}, \"colorscale\": [[0.0, \"#0d0887\"], [0.1111111111111111, \"#46039f\"], [0.2222222222222222, \"#7201a8\"], [0.3333333333333333, \"#9c179e\"], [0.4444444444444444, \"#bd3786\"], [0.5555555555555556, \"#d8576b\"], [0.6666666666666666, \"#ed7953\"], [0.7777777777777778, \"#fb9f3a\"], [0.8888888888888888, \"#fdca26\"], [1.0, \"#f0f921\"]], \"type\": \"contour\"}], \"contourcarpet\": [{\"colorbar\": {\"outlinewidth\": 0, \"ticks\": \"\"}, \"type\": \"contourcarpet\"}], \"heatmap\": [{\"colorbar\": {\"outlinewidth\": 0, \"ticks\": \"\"}, \"colorscale\": [[0.0, \"#0d0887\"], [0.1111111111111111, \"#46039f\"], [0.2222222222222222, \"#7201a8\"], [0.3333333333333333, \"#9c179e\"], [0.4444444444444444, \"#bd3786\"], [0.5555555555555556, \"#d8576b\"], [0.6666666666666666, \"#ed7953\"], [0.7777777777777778, \"#fb9f3a\"], [0.8888888888888888, \"#fdca26\"], [1.0, \"#f0f921\"]], \"type\": \"heatmap\"}], \"heatmapgl\": [{\"colorbar\": {\"outlinewidth\": 0, \"ticks\": \"\"}, \"colorscale\": [[0.0, \"#0d0887\"], [0.1111111111111111, \"#46039f\"], [0.2222222222222222, \"#7201a8\"], [0.3333333333333333, \"#9c179e\"], [0.4444444444444444, \"#bd3786\"], [0.5555555555555556, \"#d8576b\"], [0.6666666666666666, \"#ed7953\"], [0.7777777777777778, \"#fb9f3a\"], [0.8888888888888888, \"#fdca26\"], [1.0, \"#f0f921\"]], \"type\": \"heatmapgl\"}], \"histogram\": [{\"marker\": {\"colorbar\": {\"outlinewidth\": 0, \"ticks\": \"\"}}, \"type\": \"histogram\"}], \"histogram2d\": [{\"colorbar\": {\"outlinewidth\": 0, \"ticks\": \"\"}, \"colorscale\": [[0.0, \"#0d0887\"], [0.1111111111111111, \"#46039f\"], [0.2222222222222222, \"#7201a8\"], [0.3333333333333333, \"#9c179e\"], [0.4444444444444444, \"#bd3786\"], [0.5555555555555556, \"#d8576b\"], [0.6666666666666666, \"#ed7953\"], [0.7777777777777778, \"#fb9f3a\"], [0.8888888888888888, \"#fdca26\"], [1.0, \"#f0f921\"]], \"type\": \"histogram2d\"}], \"histogram2dcontour\": [{\"colorbar\": {\"outlinewidth\": 0, \"ticks\": \"\"}, \"colorscale\": [[0.0, \"#0d0887\"], [0.1111111111111111, \"#46039f\"], [0.2222222222222222, \"#7201a8\"], [0.3333333333333333, \"#9c179e\"], [0.4444444444444444, \"#bd3786\"], [0.5555555555555556, \"#d8576b\"], [0.6666666666666666, \"#ed7953\"], [0.7777777777777778, \"#fb9f3a\"], [0.8888888888888888, \"#fdca26\"], [1.0, \"#f0f921\"]], \"type\": \"histogram2dcontour\"}], \"mesh3d\": [{\"colorbar\": {\"outlinewidth\": 0, \"ticks\": \"\"}, \"type\": \"mesh3d\"}], \"parcoords\": [{\"line\": {\"colorbar\": {\"outlinewidth\": 0, \"ticks\": \"\"}}, \"type\": \"parcoords\"}], \"pie\": [{\"automargin\": true, \"type\": \"pie\"}], \"scatter\": [{\"marker\": {\"colorbar\": {\"outlinewidth\": 0, \"ticks\": \"\"}}, \"type\": \"scatter\"}], \"scatter3d\": [{\"line\": {\"colorbar\": {\"outlinewidth\": 0, \"ticks\": \"\"}}, \"marker\": {\"colorbar\": {\"outlinewidth\": 0, \"ticks\": \"\"}}, \"type\": \"scatter3d\"}], \"scattercarpet\": [{\"marker\": {\"colorbar\": {\"outlinewidth\": 0, \"ticks\": \"\"}}, \"type\": \"scattercarpet\"}], \"scattergeo\": [{\"marker\": {\"colorbar\": {\"outlinewidth\": 0, \"ticks\": \"\"}}, \"type\": \"scattergeo\"}], \"scattergl\": [{\"marker\": {\"colorbar\": {\"outlinewidth\": 0, \"ticks\": \"\"}}, \"type\": \"scattergl\"}], \"scattermapbox\": [{\"marker\": {\"colorbar\": {\"outlinewidth\": 0, \"ticks\": \"\"}}, \"type\": \"scattermapbox\"}], \"scatterpolar\": [{\"marker\": {\"colorbar\": {\"outlinewidth\": 0, \"ticks\": \"\"}}, \"type\": \"scatterpolar\"}], \"scatterpolargl\": [{\"marker\": {\"colorbar\": {\"outlinewidth\": 0, \"ticks\": \"\"}}, \"type\": \"scatterpolargl\"}], \"scatterternary\": [{\"marker\": {\"colorbar\": {\"outlinewidth\": 0, \"ticks\": \"\"}}, \"type\": \"scatterternary\"}], \"surface\": [{\"colorbar\": {\"outlinewidth\": 0, \"ticks\": \"\"}, \"colorscale\": [[0.0, \"#0d0887\"], [0.1111111111111111, \"#46039f\"], [0.2222222222222222, \"#7201a8\"], [0.3333333333333333, \"#9c179e\"], [0.4444444444444444, \"#bd3786\"], [0.5555555555555556, \"#d8576b\"], [0.6666666666666666, \"#ed7953\"], [0.7777777777777778, \"#fb9f3a\"], [0.8888888888888888, \"#fdca26\"], [1.0, \"#f0f921\"]], \"type\": \"surface\"}], \"table\": [{\"cells\": {\"fill\": {\"color\": \"#EBF0F8\"}, \"line\": {\"color\": \"white\"}}, \"header\": {\"fill\": {\"color\": \"#C8D4E3\"}, \"line\": {\"color\": \"white\"}}, \"type\": \"table\"}]}, \"layout\": {\"annotationdefaults\": {\"arrowcolor\": \"#2a3f5f\", \"arrowhead\": 0, \"arrowwidth\": 1}, \"coloraxis\": {\"colorbar\": {\"outlinewidth\": 0, \"ticks\": \"\"}}, \"colorscale\": {\"diverging\": [[0, \"#8e0152\"], [0.1, \"#c51b7d\"], [0.2, \"#de77ae\"], [0.3, \"#f1b6da\"], [0.4, \"#fde0ef\"], [0.5, \"#f7f7f7\"], [0.6, \"#e6f5d0\"], [0.7, \"#b8e186\"], [0.8, \"#7fbc41\"], [0.9, \"#4d9221\"], [1, \"#276419\"]], \"sequential\": [[0.0, \"#0d0887\"], [0.1111111111111111, \"#46039f\"], [0.2222222222222222, \"#7201a8\"], [0.3333333333333333, \"#9c179e\"], [0.4444444444444444, \"#bd3786\"], [0.5555555555555556, \"#d8576b\"], [0.6666666666666666, \"#ed7953\"], [0.7777777777777778, \"#fb9f3a\"], [0.8888888888888888, \"#fdca26\"], [1.0, \"#f0f921\"]], \"sequentialminus\": [[0.0, \"#0d0887\"], [0.1111111111111111, \"#46039f\"], [0.2222222222222222, \"#7201a8\"], [0.3333333333333333, \"#9c179e\"], [0.4444444444444444, \"#bd3786\"], [0.5555555555555556, \"#d8576b\"], [0.6666666666666666, \"#ed7953\"], [0.7777777777777778, \"#fb9f3a\"], [0.8888888888888888, \"#fdca26\"], [1.0, \"#f0f921\"]]}, \"colorway\": [\"#636efa\", \"#EF553B\", \"#00cc96\", \"#ab63fa\", \"#FFA15A\", \"#19d3f3\", \"#FF6692\", \"#B6E880\", \"#FF97FF\", \"#FECB52\"], \"font\": {\"color\": \"#2a3f5f\"}, \"geo\": {\"bgcolor\": \"white\", \"lakecolor\": \"white\", \"landcolor\": \"#E5ECF6\", \"showlakes\": true, \"showland\": true, \"subunitcolor\": \"white\"}, \"hoverlabel\": {\"align\": \"left\"}, \"hovermode\": \"closest\", \"mapbox\": {\"style\": \"light\"}, \"paper_bgcolor\": \"white\", \"plot_bgcolor\": \"#E5ECF6\", \"polar\": {\"angularaxis\": {\"gridcolor\": \"white\", \"linecolor\": \"white\", \"ticks\": \"\"}, \"bgcolor\": \"#E5ECF6\", \"radialaxis\": {\"gridcolor\": \"white\", \"linecolor\": \"white\", \"ticks\": \"\"}}, \"scene\": {\"xaxis\": {\"backgroundcolor\": \"#E5ECF6\", \"gridcolor\": \"white\", \"gridwidth\": 2, \"linecolor\": \"white\", \"showbackground\": true, \"ticks\": \"\", \"zerolinecolor\": \"white\"}, \"yaxis\": {\"backgroundcolor\": \"#E5ECF6\", \"gridcolor\": \"white\", \"gridwidth\": 2, \"linecolor\": \"white\", \"showbackground\": true, \"ticks\": \"\", \"zerolinecolor\": \"white\"}, \"zaxis\": {\"backgroundcolor\": \"#E5ECF6\", \"gridcolor\": \"white\", \"gridwidth\": 2, \"linecolor\": \"white\", \"showbackground\": true, \"ticks\": \"\", \"zerolinecolor\": \"white\"}}, \"shapedefaults\": {\"line\": {\"color\": \"#2a3f5f\"}}, \"ternary\": {\"aaxis\": {\"gridcolor\": \"white\", \"linecolor\": \"white\", \"ticks\": \"\"}, \"baxis\": {\"gridcolor\": \"white\", \"linecolor\": \"white\", \"ticks\": \"\"}, \"bgcolor\": \"#E5ECF6\", \"caxis\": {\"gridcolor\": \"white\", \"linecolor\": \"white\", \"ticks\": \"\"}}, \"title\": {\"x\": 0.05}, \"xaxis\": {\"automargin\": true, \"gridcolor\": \"white\", \"linecolor\": \"white\", \"ticks\": \"\", \"title\": {\"standoff\": 15}, \"zerolinecolor\": \"white\", \"zerolinewidth\": 2}, \"yaxis\": {\"automargin\": true, \"gridcolor\": \"white\", \"linecolor\": \"white\", \"ticks\": \"\", \"title\": {\"standoff\": 15}, \"zerolinecolor\": \"white\", \"zerolinewidth\": 2}}}, \"title\": {\"font\": {\"color\": \"#D9D9D9\"}, \"text\": \"Most common 20 words with Trigrams in name\"}, \"xaxis\": {\"gridcolor\": \"#434343\", \"linecolor\": \"black\", \"showgrid\": true, \"tickfont\": {\"color\": \"#C2C2C2\"}, \"title\": {\"font\": {\"color\": \"#D9D9D9\"}, \"text\": \"\"}, \"zerolinecolor\": \"#666570\"}, \"yaxis\": {\"gridcolor\": \"#434343\", \"linecolor\": \"black\", \"showgrid\": true, \"tickfont\": {\"color\": \"#C2C2C2\"}, \"title\": {\"font\": {\"color\": \"#D9D9D9\"}, \"text\": \"Count\"}, \"zerolinecolor\": \"#666570\"}},\n",
       "                        {\"showLink\": true, \"linkText\": \"Export to plot.ly\", \"plotlyServerURL\": \"https://plot.ly\", \"responsive\": true}\n",
       "                    ).then(function(){\n",
       "                            \n",
       "var gd = document.getElementById('57be8f43-1ce3-452a-8135-29630c80f03f');\n",
       "var x = new MutationObserver(function (mutations, observer) {{\n",
       "        var display = window.getComputedStyle(gd).display;\n",
       "        if (!display || display === 'none') {{\n",
       "            console.log([gd, 'removed!']);\n",
       "            Plotly.purge(gd);\n",
       "            observer.disconnect();\n",
       "        }}\n",
       "}});\n",
       "\n",
       "// Listen for the removal of the full notebook cells\n",
       "var notebookContainer = gd.closest('#notebook-container');\n",
       "if (notebookContainer) {{\n",
       "    x.observe(notebookContainer, {childList: true});\n",
       "}}\n",
       "\n",
       "// Listen for the clearing of the current output cell\n",
       "var outputEl = gd.closest('.output');\n",
       "if (outputEl) {{\n",
       "    x.observe(outputEl, {childList: true});\n",
       "}}\n",
       "\n",
       "                        })\n",
       "                };\n",
       "                });\n",
       "            </script>\n",
       "        </div>"
      ]
     },
     "metadata": {},
     "output_type": "display_data"
    }
   ],
   "source": [
    "words_freq4, common_words4 = get_top_n_words(product_lists['cut_name'], 20, 3)\n",
    "df4 = pd.DataFrame(common_words4, columns = ['cut_name' , 'count'])\n",
    "df4.groupby('cut_name').sum()['count'].sort_values(ascending=False).iplot(kind='bar', yTitle='Count', linecolor='black', title='Most common 20 words with Trigrams in name')"
   ]
  },
  {
   "cell_type": "code",
   "execution_count": 39,
   "metadata": {},
   "outputs": [
    {
     "name": "stderr",
     "output_type": "stream",
     "text": [
      "D:\\System\\Users\\mb95540\\AppData\\Local\\Continuum\\anaconda3\\lib\\site-packages\\ipykernel_launcher.py:2: FutureWarning:\n",
      "\n",
      "The signature of `Series.to_csv` was aligned to that of `DataFrame.to_csv`, and argument 'header' will change its default value from False to True: please pass an explicit value to suppress this warning.\n",
      "\n"
     ]
    }
   ],
   "source": [
    "#top_20_word3 = df4.groupby('cut_name').sum()['count'].sort_values(ascending=False)\n",
    "#top_20_word3.to_csv('./top_20_word3.csv', encoding=\"utf_8_sig\")"
   ]
  },
  {
   "cell_type": "markdown",
   "metadata": {},
   "source": [
    "# Using tfidf vectorizer library to calculate tfidf"
   ]
  },
  {
   "cell_type": "code",
   "execution_count": 58,
   "metadata": {},
   "outputs": [],
   "source": [
    "# --------------------Tf-idf--------------------\n",
    "from sklearn.feature_extraction.text import TfidfVectorizer\n",
    "\n",
    "tfidf  = TfidfVectorizer(analyzer='word', ngram_range=(1, 1), min_df=0).fit(product_lists['cut_name'])\n",
    "tfidf_vec = tfidf.transform(product_lists['cut_name'])"
   ]
  },
  {
   "cell_type": "markdown",
   "metadata": {},
   "source": [
    "# calculate the cosine similarity"
   ]
  },
  {
   "cell_type": "code",
   "execution_count": 61,
   "metadata": {},
   "outputs": [],
   "source": [
    "from sklearn.metrics.pairwise import cosine_similarity\n",
    "import numpy as np\n",
    "\n",
    "def recommendations(text,num):\n",
    "    ss = [processText(text, \",\")]\n",
    "    ss_vec = tfidf.transform(ss)\n",
    "    cos_sim = cosine_similarity(ss_vec, tfidf_vec)\n",
    "    arr =cos_sim[0]\n",
    "    \n",
    "    idxs=list(np.argsort(-arr)[:num])\n",
    "    \n",
    "    for idx in idxs:\n",
    "        row = product_lists[product_lists.index==idx]\n",
    "        productId = row.productId.values[0]\n",
    "        name = row.name.values[0]\n",
    "        print(\"productId:\",productId,\",\",name)"
   ]
  },
  {
   "cell_type": "code",
   "execution_count": 72,
   "metadata": {},
   "outputs": [
    {
     "name": "stdout",
     "output_type": "stream",
     "text": [
      "productId: 97657 , Python编程实践\n",
      "productId: 505218 , Python核心编程(第2版)\n",
      "productId: 509690 , 计算机编程导论——Python程序设计\n",
      "productId: 187750 , Python标准库\n",
      "productId: 122343 , Python基础教程(第2版)\n",
      "productId: 113208 , Python学习手册(第4版)\n",
      "productId: 488941 , 图灵程序设计丛书:Python编程入门(第3版)\n",
      "productId: 335853 , 华章程序员书库????Python入门经典:以解决计算问题为导向的Python编程实践\n",
      "productId: 235617 , Python计算与编程实践:多媒体方法(原书第2版)\n",
      "productId: 378920 , Learning Python\n"
     ]
    }
   ],
   "source": [
    "recommendations(\"Python编程\",10)"
   ]
  },
  {
   "cell_type": "code",
   "execution_count": 73,
   "metadata": {},
   "outputs": [
    {
     "name": "stdout",
     "output_type": "stream",
     "text": [
      "productId: 418331 , Kingston 金士顿 4G CF卡\n",
      "productId: 14229 , Kingston 金士顿 内存1G/667 台式机\n",
      "productId: 129185 , Kingston 金士顿 4G SDHC Class4 SD卡\n",
      "productId: 362218 , Kingston 金士顿 4G SDHC Class4 SD卡\n",
      "productId: 345036 , Kingston 金士顿 SVP200S3/60G 固态硬盘\n",
      "productId: 223743 , Kingston 金士顿 8G SDHC Class4 SD卡\n",
      "productId: 175201 , Kingston 金士顿 DataTraveler 200???? 32GB 优盘\n",
      "productId: 404822 , Kingston 金士顿 DDR3 1600 2G 笔记本内存\n",
      "productId: 365770 , Kingston 金士顿 16G SDHC Class4 SD卡\n",
      "productId: 496910 , Kingston 金士顿 4G microSDHC Class4 TF卡\n",
      "productId: 418330 , Kingston 金士顿 32G SDHC Class4 SD卡\n",
      "productId: 13329 , Kingston 金士顿 8G microSDHC Class4 TF卡\n",
      "productId: 320822 , Kingston 金士顿 DataTraveler 108 32GB 优盘\n",
      "productId: 275796 , 金士顿(Kingston) 2G TF/microSD手机存储卡\n",
      "productId: 227791 , Kingston 金士顿 DataTraveler 200???? 64GB 优盘\n",
      "productId: 523165 , Kingston 金士顿 8G 133X 高速 CF卡\n",
      "productId: 450322 , Kingston 金士顿 DataTraveler R3.0/64GB 优盘\n",
      "productId: 413504 , Kingston 金士顿 DataTraveler DTSE9/8GB 优盘\n",
      "productId: 141313 , Kingston 金士顿 DataTraveler 111/16GB 优盘\n",
      "productId: 250852 , Kingston 金士顿 DataTraveler R3.0/16GB 优盘\n"
     ]
    }
   ],
   "source": [
    "recommendations(\"kingston\",20)"
   ]
  }
 ],
 "metadata": {
  "kernelspec": {
   "display_name": "Python 3",
   "language": "python",
   "name": "python3"
  },
  "language_info": {
   "codemirror_mode": {
    "name": "ipython",
    "version": 3
   },
   "file_extension": ".py",
   "mimetype": "text/x-python",
   "name": "python",
   "nbconvert_exporter": "python",
   "pygments_lexer": "ipython3",
   "version": "3.6.9"
  }
 },
 "nbformat": 4,
 "nbformat_minor": 2
}
